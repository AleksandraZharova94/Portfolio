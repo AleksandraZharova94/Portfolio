{
 "cells": [
  {
   "cell_type": "markdown",
   "metadata": {},
   "source": [
    "# Проект: исследование поведения пользователей мобильного приложения "
   ]
  },
  {
   "cell_type": "markdown",
   "metadata": {},
   "source": [
    "**Цель исследования:**\n",
    "\n",
    "Исследовать поведение пользователей мобильного приложения, через которое продают продукты питания.\n",
    "\n",
    "**Задачи:**\n",
    "\n",
    "1) Изучить воронку продаж:\n",
    " - как пользователи доходят до покупки,\n",
    " - сколько пользователей доходит до покупки, \n",
    " - сколько пользователей «застревает» на предыдущих шагах и на каких именно.\n",
    "\n",
    "2) Исследовать результаты A/A/B-эксперимента.\n"
   ]
  },
  {
   "cell_type": "code",
   "execution_count": 53,
   "metadata": {},
   "outputs": [],
   "source": [
    "# импортируем нужные для работы библиотеки\n",
    "import pandas as pd\n",
    "import numpy as np\n",
    "import matplotlib.pyplot as plt\n",
    "from matplotlib.ticker import (MultipleLocator, AutoMinorLocator)\n",
    "import math as mth\n",
    "from scipy import stats as st\n",
    "\n",
    "from termcolor import colored\n",
    "from plotly import graph_objects as go\n"
   ]
  },
  {
   "cell_type": "markdown",
   "metadata": {},
   "source": [
    "## Открытие файл с данными и изучение общей информации"
   ]
  },
  {
   "cell_type": "markdown",
   "metadata": {},
   "source": [
    "**Описание данных**\n",
    "\n",
    "Каждая запись в логе — это действие пользователя, или событие. \n",
    "* EventName — название события;\n",
    "* DeviceIDHash — уникальный идентификатор пользователя;\n",
    "* EventTimestamp — время события;\n",
    "* ExpId — номер эксперимента: 246 и 247 — контрольные группы, а 248 — экспериментальная.\n",
    "\n"
   ]
  },
  {
   "cell_type": "code",
   "execution_count": 54,
   "metadata": {},
   "outputs": [],
   "source": [
    "# загрузим данные \n",
    "\n",
    "data = pd.read_csv('/datasets/logs_exp.csv', sep='\\t')"
   ]
  },
  {
   "cell_type": "code",
   "execution_count": 55,
   "metadata": {},
   "outputs": [
    {
     "data": {
      "text/html": [
       "<div>\n",
       "<style scoped>\n",
       "    .dataframe tbody tr th:only-of-type {\n",
       "        vertical-align: middle;\n",
       "    }\n",
       "\n",
       "    .dataframe tbody tr th {\n",
       "        vertical-align: top;\n",
       "    }\n",
       "\n",
       "    .dataframe thead th {\n",
       "        text-align: right;\n",
       "    }\n",
       "</style>\n",
       "<table border=\"1\" class=\"dataframe\">\n",
       "  <thead>\n",
       "    <tr style=\"text-align: right;\">\n",
       "      <th></th>\n",
       "      <th>EventName</th>\n",
       "      <th>DeviceIDHash</th>\n",
       "      <th>EventTimestamp</th>\n",
       "      <th>ExpId</th>\n",
       "    </tr>\n",
       "  </thead>\n",
       "  <tbody>\n",
       "    <tr>\n",
       "      <th>0</th>\n",
       "      <td>MainScreenAppear</td>\n",
       "      <td>4575588528974610257</td>\n",
       "      <td>1564029816</td>\n",
       "      <td>246</td>\n",
       "    </tr>\n",
       "    <tr>\n",
       "      <th>1</th>\n",
       "      <td>MainScreenAppear</td>\n",
       "      <td>7416695313311560658</td>\n",
       "      <td>1564053102</td>\n",
       "      <td>246</td>\n",
       "    </tr>\n",
       "    <tr>\n",
       "      <th>2</th>\n",
       "      <td>PaymentScreenSuccessful</td>\n",
       "      <td>3518123091307005509</td>\n",
       "      <td>1564054127</td>\n",
       "      <td>248</td>\n",
       "    </tr>\n",
       "    <tr>\n",
       "      <th>3</th>\n",
       "      <td>CartScreenAppear</td>\n",
       "      <td>3518123091307005509</td>\n",
       "      <td>1564054127</td>\n",
       "      <td>248</td>\n",
       "    </tr>\n",
       "    <tr>\n",
       "      <th>4</th>\n",
       "      <td>PaymentScreenSuccessful</td>\n",
       "      <td>6217807653094995999</td>\n",
       "      <td>1564055322</td>\n",
       "      <td>248</td>\n",
       "    </tr>\n",
       "  </tbody>\n",
       "</table>\n",
       "</div>"
      ],
      "text/plain": [
       "                 EventName         DeviceIDHash  EventTimestamp  ExpId\n",
       "0         MainScreenAppear  4575588528974610257      1564029816    246\n",
       "1         MainScreenAppear  7416695313311560658      1564053102    246\n",
       "2  PaymentScreenSuccessful  3518123091307005509      1564054127    248\n",
       "3         CartScreenAppear  3518123091307005509      1564054127    248\n",
       "4  PaymentScreenSuccessful  6217807653094995999      1564055322    248"
      ]
     },
     "execution_count": 55,
     "metadata": {},
     "output_type": "execute_result"
    }
   ],
   "source": [
    "data.head()"
   ]
  },
  {
   "cell_type": "code",
   "execution_count": 56,
   "metadata": {},
   "outputs": [
    {
     "name": "stdout",
     "output_type": "stream",
     "text": [
      "<class 'pandas.core.frame.DataFrame'>\n",
      "RangeIndex: 244126 entries, 0 to 244125\n",
      "Data columns (total 4 columns):\n",
      " #   Column          Non-Null Count   Dtype \n",
      "---  ------          --------------   ----- \n",
      " 0   EventName       244126 non-null  object\n",
      " 1   DeviceIDHash    244126 non-null  int64 \n",
      " 2   EventTimestamp  244126 non-null  int64 \n",
      " 3   ExpId           244126 non-null  int64 \n",
      "dtypes: int64(3), object(1)\n",
      "memory usage: 7.5+ MB\n"
     ]
    }
   ],
   "source": [
    "data.info()"
   ]
  },
  {
   "cell_type": "markdown",
   "metadata": {},
   "source": [
    "**Наблюдения**\n",
    "\n",
    "- 244126 строк, пропусков нет, но перепроверить\n",
    "- заменить формат данных для даты с unix time на datetime\n",
    "- поменять названия столбцов \n",
    "- проверить на наличие дубликатов \n"
   ]
  },
  {
   "cell_type": "markdown",
   "metadata": {},
   "source": [
    "---------------------------------------"
   ]
  },
  {
   "cell_type": "markdown",
   "metadata": {},
   "source": [
    "## Предобработка данных\n"
   ]
  },
  {
   "cell_type": "code",
   "execution_count": 57,
   "metadata": {},
   "outputs": [
    {
     "data": {
      "text/plain": [
       "Index(['EventName', 'DeviceIDHash', 'EventTimestamp', 'ExpId'], dtype='object')"
      ]
     },
     "execution_count": 57,
     "metadata": {},
     "output_type": "execute_result"
    }
   ],
   "source": [
    "data.columns"
   ]
  },
  {
   "cell_type": "code",
   "execution_count": 58,
   "metadata": {},
   "outputs": [],
   "source": [
    "# заменим названия столбцов\n",
    "\n",
    "data.columns = ['event_name', 'device_id', 'event_timestep', 'exp_id']"
   ]
  },
  {
   "cell_type": "code",
   "execution_count": 59,
   "metadata": {},
   "outputs": [],
   "source": [
    "# добавим столбец с датой и временем\n",
    "data['event_dt'] = pd.to_datetime(data['event_timestep'],  unit='s')  \n",
    "\n",
    "# добавим столбец только с датой \n",
    "data['event_date'] = pd.to_datetime(data['event_dt']).dt.date  "
   ]
  },
  {
   "cell_type": "code",
   "execution_count": 60,
   "metadata": {},
   "outputs": [
    {
     "data": {
      "text/html": [
       "<div>\n",
       "<style scoped>\n",
       "    .dataframe tbody tr th:only-of-type {\n",
       "        vertical-align: middle;\n",
       "    }\n",
       "\n",
       "    .dataframe tbody tr th {\n",
       "        vertical-align: top;\n",
       "    }\n",
       "\n",
       "    .dataframe thead th {\n",
       "        text-align: right;\n",
       "    }\n",
       "</style>\n",
       "<table border=\"1\" class=\"dataframe\">\n",
       "  <thead>\n",
       "    <tr style=\"text-align: right;\">\n",
       "      <th></th>\n",
       "      <th>event_name</th>\n",
       "      <th>device_id</th>\n",
       "      <th>event_timestep</th>\n",
       "      <th>exp_id</th>\n",
       "      <th>event_dt</th>\n",
       "      <th>event_date</th>\n",
       "    </tr>\n",
       "  </thead>\n",
       "  <tbody>\n",
       "    <tr>\n",
       "      <th>0</th>\n",
       "      <td>MainScreenAppear</td>\n",
       "      <td>4575588528974610257</td>\n",
       "      <td>1564029816</td>\n",
       "      <td>246</td>\n",
       "      <td>2019-07-25 04:43:36</td>\n",
       "      <td>2019-07-25</td>\n",
       "    </tr>\n",
       "    <tr>\n",
       "      <th>1</th>\n",
       "      <td>MainScreenAppear</td>\n",
       "      <td>7416695313311560658</td>\n",
       "      <td>1564053102</td>\n",
       "      <td>246</td>\n",
       "      <td>2019-07-25 11:11:42</td>\n",
       "      <td>2019-07-25</td>\n",
       "    </tr>\n",
       "    <tr>\n",
       "      <th>2</th>\n",
       "      <td>PaymentScreenSuccessful</td>\n",
       "      <td>3518123091307005509</td>\n",
       "      <td>1564054127</td>\n",
       "      <td>248</td>\n",
       "      <td>2019-07-25 11:28:47</td>\n",
       "      <td>2019-07-25</td>\n",
       "    </tr>\n",
       "    <tr>\n",
       "      <th>3</th>\n",
       "      <td>CartScreenAppear</td>\n",
       "      <td>3518123091307005509</td>\n",
       "      <td>1564054127</td>\n",
       "      <td>248</td>\n",
       "      <td>2019-07-25 11:28:47</td>\n",
       "      <td>2019-07-25</td>\n",
       "    </tr>\n",
       "    <tr>\n",
       "      <th>4</th>\n",
       "      <td>PaymentScreenSuccessful</td>\n",
       "      <td>6217807653094995999</td>\n",
       "      <td>1564055322</td>\n",
       "      <td>248</td>\n",
       "      <td>2019-07-25 11:48:42</td>\n",
       "      <td>2019-07-25</td>\n",
       "    </tr>\n",
       "  </tbody>\n",
       "</table>\n",
       "</div>"
      ],
      "text/plain": [
       "                event_name            device_id  event_timestep  exp_id  \\\n",
       "0         MainScreenAppear  4575588528974610257      1564029816     246   \n",
       "1         MainScreenAppear  7416695313311560658      1564053102     246   \n",
       "2  PaymentScreenSuccessful  3518123091307005509      1564054127     248   \n",
       "3         CartScreenAppear  3518123091307005509      1564054127     248   \n",
       "4  PaymentScreenSuccessful  6217807653094995999      1564055322     248   \n",
       "\n",
       "             event_dt  event_date  \n",
       "0 2019-07-25 04:43:36  2019-07-25  \n",
       "1 2019-07-25 11:11:42  2019-07-25  \n",
       "2 2019-07-25 11:28:47  2019-07-25  \n",
       "3 2019-07-25 11:28:47  2019-07-25  \n",
       "4 2019-07-25 11:48:42  2019-07-25  "
      ]
     },
     "execution_count": 60,
     "metadata": {},
     "output_type": "execute_result"
    }
   ],
   "source": [
    "# проверим изменения\n",
    "data.head()"
   ]
  },
  {
   "cell_type": "code",
   "execution_count": 61,
   "metadata": {},
   "outputs": [
    {
     "data": {
      "text/plain": [
       "event_name        0\n",
       "device_id         0\n",
       "event_timestep    0\n",
       "exp_id            0\n",
       "event_dt          0\n",
       "event_date        0\n",
       "dtype: int64"
      ]
     },
     "execution_count": 61,
     "metadata": {},
     "output_type": "execute_result"
    }
   ],
   "source": [
    "# проверим на наличие пропусков\n",
    "data.isna().sum()"
   ]
  },
  {
   "cell_type": "code",
   "execution_count": 62,
   "metadata": {},
   "outputs": [
    {
     "data": {
      "text/plain": [
       "array([246, 248, 247])"
      ]
     },
     "execution_count": 62,
     "metadata": {},
     "output_type": "execute_result"
    }
   ],
   "source": [
    "# проверим какие значения входят в столбец с  номерами экспериментов\n",
    "data['exp_id'].unique()"
   ]
  },
  {
   "cell_type": "code",
   "execution_count": 63,
   "metadata": {},
   "outputs": [
    {
     "data": {
      "text/plain": [
       "array(['MainScreenAppear', 'PaymentScreenSuccessful', 'CartScreenAppear',\n",
       "       'OffersScreenAppear', 'Tutorial'], dtype=object)"
      ]
     },
     "execution_count": 63,
     "metadata": {},
     "output_type": "execute_result"
    }
   ],
   "source": [
    "# проверим нет ли неявных дубликатов в названиях событий\n",
    "data['event_name'].unique()"
   ]
  },
  {
   "cell_type": "code",
   "execution_count": 64,
   "metadata": {},
   "outputs": [
    {
     "name": "stdout",
     "output_type": "stream",
     "text": [
      "Кол-во дубликатов: 413\n"
     ]
    }
   ],
   "source": [
    "# проверим на наличие явных дубликатов \n",
    "print('Кол-во дубликатов:', data.duplicated().sum())"
   ]
  },
  {
   "cell_type": "code",
   "execution_count": 65,
   "metadata": {},
   "outputs": [
    {
     "data": {
      "text/html": [
       "<div>\n",
       "<style scoped>\n",
       "    .dataframe tbody tr th:only-of-type {\n",
       "        vertical-align: middle;\n",
       "    }\n",
       "\n",
       "    .dataframe tbody tr th {\n",
       "        vertical-align: top;\n",
       "    }\n",
       "\n",
       "    .dataframe thead th {\n",
       "        text-align: right;\n",
       "    }\n",
       "</style>\n",
       "<table border=\"1\" class=\"dataframe\">\n",
       "  <thead>\n",
       "    <tr style=\"text-align: right;\">\n",
       "      <th></th>\n",
       "      <th>event_name</th>\n",
       "      <th>device_id</th>\n",
       "      <th>event_timestep</th>\n",
       "      <th>exp_id</th>\n",
       "      <th>event_dt</th>\n",
       "      <th>event_date</th>\n",
       "    </tr>\n",
       "  </thead>\n",
       "  <tbody>\n",
       "    <tr>\n",
       "      <th>453</th>\n",
       "      <td>MainScreenAppear</td>\n",
       "      <td>5613408041324010552</td>\n",
       "      <td>1564474784</td>\n",
       "      <td>248</td>\n",
       "      <td>2019-07-30 08:19:44</td>\n",
       "      <td>2019-07-30</td>\n",
       "    </tr>\n",
       "    <tr>\n",
       "      <th>2350</th>\n",
       "      <td>CartScreenAppear</td>\n",
       "      <td>1694940645335807244</td>\n",
       "      <td>1564609899</td>\n",
       "      <td>248</td>\n",
       "      <td>2019-07-31 21:51:39</td>\n",
       "      <td>2019-07-31</td>\n",
       "    </tr>\n",
       "    <tr>\n",
       "      <th>3573</th>\n",
       "      <td>MainScreenAppear</td>\n",
       "      <td>434103746454591587</td>\n",
       "      <td>1564628377</td>\n",
       "      <td>248</td>\n",
       "      <td>2019-08-01 02:59:37</td>\n",
       "      <td>2019-08-01</td>\n",
       "    </tr>\n",
       "    <tr>\n",
       "      <th>4076</th>\n",
       "      <td>MainScreenAppear</td>\n",
       "      <td>3761373764179762633</td>\n",
       "      <td>1564631266</td>\n",
       "      <td>247</td>\n",
       "      <td>2019-08-01 03:47:46</td>\n",
       "      <td>2019-08-01</td>\n",
       "    </tr>\n",
       "    <tr>\n",
       "      <th>4803</th>\n",
       "      <td>MainScreenAppear</td>\n",
       "      <td>2835328739789306622</td>\n",
       "      <td>1564634641</td>\n",
       "      <td>248</td>\n",
       "      <td>2019-08-01 04:44:01</td>\n",
       "      <td>2019-08-01</td>\n",
       "    </tr>\n",
       "    <tr>\n",
       "      <th>5641</th>\n",
       "      <td>CartScreenAppear</td>\n",
       "      <td>4248762472840564256</td>\n",
       "      <td>1564637764</td>\n",
       "      <td>248</td>\n",
       "      <td>2019-08-01 05:36:04</td>\n",
       "      <td>2019-08-01</td>\n",
       "    </tr>\n",
       "    <tr>\n",
       "      <th>5875</th>\n",
       "      <td>PaymentScreenSuccessful</td>\n",
       "      <td>6427012997733591237</td>\n",
       "      <td>1564638452</td>\n",
       "      <td>248</td>\n",
       "      <td>2019-08-01 05:47:32</td>\n",
       "      <td>2019-08-01</td>\n",
       "    </tr>\n",
       "    <tr>\n",
       "      <th>7249</th>\n",
       "      <td>OffersScreenAppear</td>\n",
       "      <td>7224691986599895551</td>\n",
       "      <td>1564641846</td>\n",
       "      <td>246</td>\n",
       "      <td>2019-08-01 06:44:06</td>\n",
       "      <td>2019-08-01</td>\n",
       "    </tr>\n",
       "    <tr>\n",
       "      <th>8065</th>\n",
       "      <td>CartScreenAppear</td>\n",
       "      <td>8189122927585332969</td>\n",
       "      <td>1564643929</td>\n",
       "      <td>248</td>\n",
       "      <td>2019-08-01 07:18:49</td>\n",
       "      <td>2019-08-01</td>\n",
       "    </tr>\n",
       "    <tr>\n",
       "      <th>9179</th>\n",
       "      <td>MainScreenAppear</td>\n",
       "      <td>2230705996155527339</td>\n",
       "      <td>1564646087</td>\n",
       "      <td>246</td>\n",
       "      <td>2019-08-01 07:54:47</td>\n",
       "      <td>2019-08-01</td>\n",
       "    </tr>\n",
       "  </tbody>\n",
       "</table>\n",
       "</div>"
      ],
      "text/plain": [
       "                   event_name            device_id  event_timestep  exp_id  \\\n",
       "453          MainScreenAppear  5613408041324010552      1564474784     248   \n",
       "2350         CartScreenAppear  1694940645335807244      1564609899     248   \n",
       "3573         MainScreenAppear   434103746454591587      1564628377     248   \n",
       "4076         MainScreenAppear  3761373764179762633      1564631266     247   \n",
       "4803         MainScreenAppear  2835328739789306622      1564634641     248   \n",
       "5641         CartScreenAppear  4248762472840564256      1564637764     248   \n",
       "5875  PaymentScreenSuccessful  6427012997733591237      1564638452     248   \n",
       "7249       OffersScreenAppear  7224691986599895551      1564641846     246   \n",
       "8065         CartScreenAppear  8189122927585332969      1564643929     248   \n",
       "9179         MainScreenAppear  2230705996155527339      1564646087     246   \n",
       "\n",
       "                event_dt  event_date  \n",
       "453  2019-07-30 08:19:44  2019-07-30  \n",
       "2350 2019-07-31 21:51:39  2019-07-31  \n",
       "3573 2019-08-01 02:59:37  2019-08-01  \n",
       "4076 2019-08-01 03:47:46  2019-08-01  \n",
       "4803 2019-08-01 04:44:01  2019-08-01  \n",
       "5641 2019-08-01 05:36:04  2019-08-01  \n",
       "5875 2019-08-01 05:47:32  2019-08-01  \n",
       "7249 2019-08-01 06:44:06  2019-08-01  \n",
       "8065 2019-08-01 07:18:49  2019-08-01  \n",
       "9179 2019-08-01 07:54:47  2019-08-01  "
      ]
     },
     "execution_count": 65,
     "metadata": {},
     "output_type": "execute_result"
    }
   ],
   "source": [
    "duplicated_df = data[data.duplicated()].head(10) # датафрейм с дубликатами\n",
    "duplicated_df \n"
   ]
  },
  {
   "cell_type": "code",
   "execution_count": 66,
   "metadata": {},
   "outputs": [
    {
     "data": {
      "text/html": [
       "<div>\n",
       "<style scoped>\n",
       "    .dataframe tbody tr th:only-of-type {\n",
       "        vertical-align: middle;\n",
       "    }\n",
       "\n",
       "    .dataframe tbody tr th {\n",
       "        vertical-align: top;\n",
       "    }\n",
       "\n",
       "    .dataframe thead th {\n",
       "        text-align: right;\n",
       "    }\n",
       "</style>\n",
       "<table border=\"1\" class=\"dataframe\">\n",
       "  <thead>\n",
       "    <tr style=\"text-align: right;\">\n",
       "      <th></th>\n",
       "      <th>event_name</th>\n",
       "      <th>device_id</th>\n",
       "      <th>event_timestep</th>\n",
       "      <th>exp_id</th>\n",
       "      <th>event_dt</th>\n",
       "      <th>event_date</th>\n",
       "    </tr>\n",
       "  </thead>\n",
       "  <tbody>\n",
       "    <tr>\n",
       "      <th>452</th>\n",
       "      <td>MainScreenAppear</td>\n",
       "      <td>5613408041324010552</td>\n",
       "      <td>1564474784</td>\n",
       "      <td>248</td>\n",
       "      <td>2019-07-30 08:19:44</td>\n",
       "      <td>2019-07-30</td>\n",
       "    </tr>\n",
       "    <tr>\n",
       "      <th>453</th>\n",
       "      <td>MainScreenAppear</td>\n",
       "      <td>5613408041324010552</td>\n",
       "      <td>1564474784</td>\n",
       "      <td>248</td>\n",
       "      <td>2019-07-30 08:19:44</td>\n",
       "      <td>2019-07-30</td>\n",
       "    </tr>\n",
       "    <tr>\n",
       "      <th>104383</th>\n",
       "      <td>MainScreenAppear</td>\n",
       "      <td>5613408041324010552</td>\n",
       "      <td>1564857690</td>\n",
       "      <td>248</td>\n",
       "      <td>2019-08-03 18:41:30</td>\n",
       "      <td>2019-08-03</td>\n",
       "    </tr>\n",
       "    <tr>\n",
       "      <th>104628</th>\n",
       "      <td>MainScreenAppear</td>\n",
       "      <td>5613408041324010552</td>\n",
       "      <td>1564858279</td>\n",
       "      <td>248</td>\n",
       "      <td>2019-08-03 18:51:19</td>\n",
       "      <td>2019-08-03</td>\n",
       "    </tr>\n",
       "    <tr>\n",
       "      <th>104637</th>\n",
       "      <td>MainScreenAppear</td>\n",
       "      <td>5613408041324010552</td>\n",
       "      <td>1564858297</td>\n",
       "      <td>248</td>\n",
       "      <td>2019-08-03 18:51:37</td>\n",
       "      <td>2019-08-03</td>\n",
       "    </tr>\n",
       "    <tr>\n",
       "      <th>145276</th>\n",
       "      <td>MainScreenAppear</td>\n",
       "      <td>5613408041324010552</td>\n",
       "      <td>1564986831</td>\n",
       "      <td>248</td>\n",
       "      <td>2019-08-05 06:33:51</td>\n",
       "      <td>2019-08-05</td>\n",
       "    </tr>\n",
       "    <tr>\n",
       "      <th>145550</th>\n",
       "      <td>MainScreenAppear</td>\n",
       "      <td>5613408041324010552</td>\n",
       "      <td>1564987332</td>\n",
       "      <td>248</td>\n",
       "      <td>2019-08-05 06:42:12</td>\n",
       "      <td>2019-08-05</td>\n",
       "    </tr>\n",
       "    <tr>\n",
       "      <th>205860</th>\n",
       "      <td>MainScreenAppear</td>\n",
       "      <td>5613408041324010552</td>\n",
       "      <td>1565112335</td>\n",
       "      <td>248</td>\n",
       "      <td>2019-08-06 17:25:35</td>\n",
       "      <td>2019-08-06</td>\n",
       "    </tr>\n",
       "    <tr>\n",
       "      <th>205869</th>\n",
       "      <td>MainScreenAppear</td>\n",
       "      <td>5613408041324010552</td>\n",
       "      <td>1565112351</td>\n",
       "      <td>248</td>\n",
       "      <td>2019-08-06 17:25:51</td>\n",
       "      <td>2019-08-06</td>\n",
       "    </tr>\n",
       "    <tr>\n",
       "      <th>205915</th>\n",
       "      <td>MainScreenAppear</td>\n",
       "      <td>5613408041324010552</td>\n",
       "      <td>1565112400</td>\n",
       "      <td>248</td>\n",
       "      <td>2019-08-06 17:26:40</td>\n",
       "      <td>2019-08-06</td>\n",
       "    </tr>\n",
       "  </tbody>\n",
       "</table>\n",
       "</div>"
      ],
      "text/plain": [
       "              event_name            device_id  event_timestep  exp_id  \\\n",
       "452     MainScreenAppear  5613408041324010552      1564474784     248   \n",
       "453     MainScreenAppear  5613408041324010552      1564474784     248   \n",
       "104383  MainScreenAppear  5613408041324010552      1564857690     248   \n",
       "104628  MainScreenAppear  5613408041324010552      1564858279     248   \n",
       "104637  MainScreenAppear  5613408041324010552      1564858297     248   \n",
       "145276  MainScreenAppear  5613408041324010552      1564986831     248   \n",
       "145550  MainScreenAppear  5613408041324010552      1564987332     248   \n",
       "205860  MainScreenAppear  5613408041324010552      1565112335     248   \n",
       "205869  MainScreenAppear  5613408041324010552      1565112351     248   \n",
       "205915  MainScreenAppear  5613408041324010552      1565112400     248   \n",
       "\n",
       "                  event_dt  event_date  \n",
       "452    2019-07-30 08:19:44  2019-07-30  \n",
       "453    2019-07-30 08:19:44  2019-07-30  \n",
       "104383 2019-08-03 18:41:30  2019-08-03  \n",
       "104628 2019-08-03 18:51:19  2019-08-03  \n",
       "104637 2019-08-03 18:51:37  2019-08-03  \n",
       "145276 2019-08-05 06:33:51  2019-08-05  \n",
       "145550 2019-08-05 06:42:12  2019-08-05  \n",
       "205860 2019-08-06 17:25:35  2019-08-06  \n",
       "205869 2019-08-06 17:25:51  2019-08-06  \n",
       "205915 2019-08-06 17:26:40  2019-08-06  "
      ]
     },
     "execution_count": 66,
     "metadata": {},
     "output_type": "execute_result"
    }
   ],
   "source": [
    "data.query('device_id == 5613408041324010552')"
   ]
  },
  {
   "cell_type": "code",
   "execution_count": 67,
   "metadata": {},
   "outputs": [],
   "source": [
    "# удалим дубликаты из данных\n",
    "data = data.drop_duplicates().reset_index()"
   ]
  },
  {
   "cell_type": "markdown",
   "metadata": {},
   "source": [
    "**Наблюдения**\n",
    "\n",
    "- Были изменены названия столбцов.\n",
    "- К датафрему были добавлены столбцы с датой и временем и только с датой. \n",
    "- Пропусков в данных не было обнаружено. \n",
    "- Из данных было удалено 413 явных дубликата. \n"
   ]
  },
  {
   "cell_type": "code",
   "execution_count": 68,
   "metadata": {},
   "outputs": [
    {
     "data": {
      "text/html": [
       "<div>\n",
       "<style scoped>\n",
       "    .dataframe tbody tr th:only-of-type {\n",
       "        vertical-align: middle;\n",
       "    }\n",
       "\n",
       "    .dataframe tbody tr th {\n",
       "        vertical-align: top;\n",
       "    }\n",
       "\n",
       "    .dataframe thead th {\n",
       "        text-align: right;\n",
       "    }\n",
       "</style>\n",
       "<table border=\"1\" class=\"dataframe\">\n",
       "  <thead>\n",
       "    <tr style=\"text-align: right;\">\n",
       "      <th></th>\n",
       "      <th>index</th>\n",
       "      <th>event_name</th>\n",
       "      <th>device_id</th>\n",
       "      <th>event_timestep</th>\n",
       "      <th>exp_id</th>\n",
       "      <th>event_dt</th>\n",
       "      <th>event_date</th>\n",
       "    </tr>\n",
       "  </thead>\n",
       "  <tbody>\n",
       "  </tbody>\n",
       "</table>\n",
       "</div>"
      ],
      "text/plain": [
       "Empty DataFrame\n",
       "Columns: [index, event_name, device_id, event_timestep, exp_id, event_dt, event_date]\n",
       "Index: []"
      ]
     },
     "metadata": {},
     "output_type": "display_data"
    },
    {
     "data": {
      "text/html": [
       "<div>\n",
       "<style scoped>\n",
       "    .dataframe tbody tr th:only-of-type {\n",
       "        vertical-align: middle;\n",
       "    }\n",
       "\n",
       "    .dataframe tbody tr th {\n",
       "        vertical-align: top;\n",
       "    }\n",
       "\n",
       "    .dataframe thead th {\n",
       "        text-align: right;\n",
       "    }\n",
       "</style>\n",
       "<table border=\"1\" class=\"dataframe\">\n",
       "  <thead>\n",
       "    <tr style=\"text-align: right;\">\n",
       "      <th></th>\n",
       "      <th>index</th>\n",
       "      <th>event_name</th>\n",
       "      <th>device_id</th>\n",
       "      <th>event_timestep</th>\n",
       "      <th>exp_id</th>\n",
       "      <th>event_dt</th>\n",
       "      <th>event_date</th>\n",
       "    </tr>\n",
       "  </thead>\n",
       "  <tbody>\n",
       "  </tbody>\n",
       "</table>\n",
       "</div>"
      ],
      "text/plain": [
       "Empty DataFrame\n",
       "Columns: [index, event_name, device_id, event_timestep, exp_id, event_dt, event_date]\n",
       "Index: []"
      ]
     },
     "metadata": {},
     "output_type": "display_data"
    },
    {
     "data": {
      "text/html": [
       "<div>\n",
       "<style scoped>\n",
       "    .dataframe tbody tr th:only-of-type {\n",
       "        vertical-align: middle;\n",
       "    }\n",
       "\n",
       "    .dataframe tbody tr th {\n",
       "        vertical-align: top;\n",
       "    }\n",
       "\n",
       "    .dataframe thead th {\n",
       "        text-align: right;\n",
       "    }\n",
       "</style>\n",
       "<table border=\"1\" class=\"dataframe\">\n",
       "  <thead>\n",
       "    <tr style=\"text-align: right;\">\n",
       "      <th></th>\n",
       "      <th>index</th>\n",
       "      <th>event_name</th>\n",
       "      <th>device_id</th>\n",
       "      <th>event_timestep</th>\n",
       "      <th>exp_id</th>\n",
       "      <th>event_dt</th>\n",
       "      <th>event_date</th>\n",
       "    </tr>\n",
       "  </thead>\n",
       "  <tbody>\n",
       "  </tbody>\n",
       "</table>\n",
       "</div>"
      ],
      "text/plain": [
       "Empty DataFrame\n",
       "Columns: [index, event_name, device_id, event_timestep, exp_id, event_dt, event_date]\n",
       "Index: []"
      ]
     },
     "execution_count": 68,
     "metadata": {},
     "output_type": "execute_result"
    }
   ],
   "source": [
    "# Проверим есть ли пересечения между группами:\n",
    "  \n",
    "group246 = data[data['exp_id']==246]\n",
    "group247 = data[data['exp_id']==247]\n",
    "group248 = data[data['exp_id']==248]\n",
    "\n",
    "id246 = group246['device_id']\n",
    "id247 = group247['device_id']\n",
    "\n",
    "#246 и 247\n",
    "display(group247.query('device_id in @id246'))\n",
    "\n",
    "#246 и 248\n",
    "display(group248.query('device_id in @id246'))\n",
    "\n",
    "#247 и 248\n",
    "group248.query('device_id in @id247')\n"
   ]
  },
  {
   "cell_type": "markdown",
   "metadata": {},
   "source": [
    "**Наблюдения**\n",
    "\n",
    "Пересечений между группами обнаружено не было. "
   ]
  },
  {
   "cell_type": "markdown",
   "metadata": {},
   "source": [
    "-----------------------------------------------"
   ]
  },
  {
   "cell_type": "markdown",
   "metadata": {},
   "source": [
    "## Изучение и проверка данных\n"
   ]
  },
  {
   "cell_type": "markdown",
   "metadata": {},
   "source": [
    "### Сколько всего событий в логе?\n"
   ]
  },
  {
   "cell_type": "code",
   "execution_count": 69,
   "metadata": {},
   "outputs": [
    {
     "name": "stdout",
     "output_type": "stream",
     "text": [
      "Всего событий в логе: 243713\n"
     ]
    }
   ],
   "source": [
    "print('Всего событий в логе:', len(data))"
   ]
  },
  {
   "cell_type": "code",
   "execution_count": 70,
   "metadata": {},
   "outputs": [
    {
     "name": "stdout",
     "output_type": "stream",
     "text": [
      "Событий в группу А1: 80181\n",
      "Событий в группу А2: 77950\n",
      "Событий в группу B: 85582\n"
     ]
    }
   ],
   "source": [
    "print('Событий в группу А1:', len(data.query('exp_id == 246')))\n",
    "print('Событий в группу А2:', len(data.query('exp_id == 247')))\n",
    "print('Событий в группу B:', len(data.query('exp_id == 248')))"
   ]
  },
  {
   "cell_type": "code",
   "execution_count": 71,
   "metadata": {},
   "outputs": [
    {
     "name": "stdout",
     "output_type": "stream",
     "text": [
      "Кол-во событий в группе В больше, чем в группе А1 на 6.74 %\n",
      "Кол-во событий в группе В больше, чем в группе А2 на 9.79 %\n"
     ]
    }
   ],
   "source": [
    "print('Кол-во событий в группе В больше, чем в группе А1 на', \n",
    "      round((len(data.query('exp_id == 248'))/len(data.query('exp_id == 246')) - 1)*100, 2), '%') \n",
    "print('Кол-во событий в группе В больше, чем в группе А2 на', \n",
    "      round((len(data.query('exp_id == 248'))/len(data.query('exp_id == 247')) - 1)*100, 2), '%') "
   ]
  },
  {
   "cell_type": "markdown",
   "metadata": {},
   "source": [
    "### Сколько всего пользователей в логе?"
   ]
  },
  {
   "cell_type": "code",
   "execution_count": 73,
   "metadata": {},
   "outputs": [
    {
     "name": "stdout",
     "output_type": "stream",
     "text": [
      "Всего уникальных пользователей в логе: 7551\n"
     ]
    }
   ],
   "source": [
    "print('Всего уникальных пользователей в логе:', len(data['device_id'].unique()))"
   ]
  },
  {
   "cell_type": "code",
   "execution_count": 74,
   "metadata": {},
   "outputs": [
    {
     "name": "stdout",
     "output_type": "stream",
     "text": [
      "Кол-во уникальных пользователей в группе А1: 2489\n",
      "Кол-во уникальных пользователей в группе А2: 2520\n",
      "Кол-во уникальных пользователей в группе B: 2542\n"
     ]
    }
   ],
   "source": [
    "print('Кол-во уникальных пользователей в группе А1:', len(data.query('exp_id == 246')['device_id'].unique()))\n",
    "print('Кол-во уникальных пользователей в группе А2:', len(data.query('exp_id == 247')['device_id'].unique()))\n",
    "print('Кол-во уникальных пользователей в группе B:', len(data.query('exp_id == 248')['device_id'].unique()))"
   ]
  },
  {
   "cell_type": "markdown",
   "metadata": {},
   "source": [
    "### Сколько в среднем событий приходится на пользователя?"
   ]
  },
  {
   "cell_type": "code",
   "execution_count": 75,
   "metadata": {},
   "outputs": [
    {
     "data": {
      "image/png": "[encoded data removed]",
      "text/plain": [
       "<Figure size 576x432 with 1 Axes>"
      ]
     },
     "metadata": {
      "needs_background": "light"
     },
     "output_type": "display_data"
    }
   ],
   "source": [
    "#  посчитаем кол-во собыйтий на каждого уникального пользователя\n",
    "event_per_user = data.groupby(by='device_id')['event_name'].count()\n",
    "\n",
    "# построим ящик с усами \n",
    "fig1, ax1 = plt.subplots(figsize=(8,6))\n",
    "ax1.set_title('Ящик с усами для кол-ва событий на пользователя', fontsize=16)\n",
    "ax1.boxplot(event_per_user, vert=False)\n",
    "ax1.set_xlabel('Кол-во событий', fontsize=14);"
   ]
  },
  {
   "cell_type": "markdown",
   "metadata": {},
   "source": [
    "**Наблюдения**\n",
    "\n",
    "По ящику с усами видим, что в данных пресутствуют аномальные пользователе, посетившие приложение очень много раз, более 100.\n",
    "\n",
    "Для оценки среднего кол-ва событий на пользователя будем использовать медианное значение."
   ]
  },
  {
   "cell_type": "code",
   "execution_count": 76,
   "metadata": {},
   "outputs": [
    {
     "name": "stdout",
     "output_type": "stream",
     "text": [
      "Среднее кол-во событий на пользователя: 32.28\n"
     ]
    }
   ],
   "source": [
    "print('Среднее кол-во событий на пользователя:', round(len(data)/len(data['device_id'].unique()), 2))"
   ]
  },
  {
   "cell_type": "code",
   "execution_count": 77,
   "metadata": {},
   "outputs": [
    {
     "name": "stdout",
     "output_type": "stream",
     "text": [
      "Медианное значение кол-ва событий на пользователя: 20.0\n"
     ]
    }
   ],
   "source": [
    "print('Медианное значение кол-ва событий на пользователя:', event_per_user.median())"
   ]
  },
  {
   "cell_type": "code",
   "execution_count": 78,
   "metadata": {},
   "outputs": [
    {
     "name": "stdout",
     "output_type": "stream",
     "text": [
      "Медианное значение событий на пользователя в группе А1: 19.0\n",
      "Медианное значение событий на пользователя в группе А2: 19.5\n",
      "Медианное значение событий на пользователя в группе B: 20.0\n"
     ]
    }
   ],
   "source": [
    "print('Медианное значение событий на пользователя в группе А1:', \n",
    "     data.query('exp_id == 246').groupby(by='device_id')['event_name'].count().median())\n",
    "print('Медианное значение событий на пользователя в группе А2:', \n",
    "      data.query('exp_id == 247').groupby(by='device_id')['event_name'].count().median())\n",
    "print('Медианное значение событий на пользователя в группе B:', \n",
    "     data.query('exp_id == 248').groupby(by='device_id')['event_name'].count().median())"
   ]
  },
  {
   "cell_type": "markdown",
   "metadata": {},
   "source": [
    "**Наблюдения**\n",
    "\n",
    "После удаления дубликатов имеем 243713 событий и 7551 уникального пользователя.\n",
    "\n",
    "В данных присутсвуют аномальные пользователи, на которых приходится большое кол-во событий, более 100. Среднее значение кол-ва событий на пользователя 32, а мадианное - 20. \n",
    "\n",
    "Есть различия между кол-вом пользователей и событий в группах А1, А2 и В. Для кол-ва уникальных пользователей различия незначительные, а вот кол-во событий в группе В в среднем превышает на 8% кол-во событий в контрольных группах.\n"
   ]
  },
  {
   "cell_type": "markdown",
   "metadata": {},
   "source": [
    "### Mаксимальная и минимальная даты"
   ]
  },
  {
   "cell_type": "code",
   "execution_count": 79,
   "metadata": {},
   "outputs": [
    {
     "name": "stdout",
     "output_type": "stream",
     "text": [
      "Минимальная дата: 2019-07-25 04:43:36\n",
      "Ммаксимальная дата: 2019-08-07 21:15:17\n"
     ]
    }
   ],
   "source": [
    "print('Минимальная дата:', data['event_dt'].min())\n",
    "print('Ммаксимальная дата:', data['event_dt'].max())"
   ]
  },
  {
   "cell_type": "code",
   "execution_count": 80,
   "metadata": {},
   "outputs": [
    {
     "data": {
      "image/png": "[encoded data removed]",
      "text/plain": [
       "<Figure size 720x432 with 1 Axes>"
      ]
     },
     "metadata": {
      "needs_background": "light"
     },
     "output_type": "display_data"
    }
   ],
   "source": [
    "# построим гистограмму \n",
    "plt.figure(figsize=(10,6))\n",
    "\n",
    "plt.hist(data['event_dt'], bins=100, histtype ='bar')\n",
    "plt.grid()\n",
    "plt.title('Гистограмма распределение кол-ва событий во времени', fontsize=16)\n",
    "plt.xlabel('Дата', fontsize=14)\n",
    "plt.ylabel('Кол-во значений', fontsize=14)\n",
    "\n",
    "plt.xticks(fontsize=14, rotation='vertical')\n",
    "plt.minorticks_on()\n",
    "\n",
    "plt.yticks(fontsize=14)\n",
    "plt.show();"
   ]
  },
  {
   "cell_type": "markdown",
   "metadata": {},
   "source": [
    "Минимальная дата: 2019-07-25, однако до 2019-08-01 данных очень мало относительно периода после 1 августа.\n",
    "\n",
    "Отбросим все данные ранее 2019-08-01."
   ]
  },
  {
   "cell_type": "code",
   "execution_count": 81,
   "metadata": {},
   "outputs": [],
   "source": [
    "# запишим данные за полный период в новую переменную data_new\n",
    "lim_dt = '2019-08-01 00:00:00' # граница между периодом с полными данными и старыми\n",
    "data_new = data.query('event_dt >= @lim_dt') "
   ]
  },
  {
   "cell_type": "code",
   "execution_count": 82,
   "metadata": {},
   "outputs": [
    {
     "data": {
      "image/png": "[encoded data removed]",
      "text/plain": [
       "<Figure size 720x432 with 1 Axes>"
      ]
     },
     "metadata": {
      "needs_background": "light"
     },
     "output_type": "display_data"
    }
   ],
   "source": [
    "plt.figure(figsize=(10,6))\n",
    "\n",
    "plt.hist(data_new['event_dt'], bins=100, histtype ='bar')\n",
    "plt.grid()\n",
    "plt.title('Распределение кол-ва событий во времени, после удаления устаревших данных', fontsize=16)\n",
    "plt.xlabel('Дата', fontsize=14)\n",
    "plt.ylabel('Кол-во значений', fontsize=14)\n",
    "\n",
    "plt.xticks(fontsize=14, rotation='vertical')\n",
    "plt.minorticks_on()\n",
    "\n",
    "plt.yticks(fontsize=14)\n",
    "plt.show();"
   ]
  },
  {
   "cell_type": "code",
   "execution_count": 83,
   "metadata": {
    "scrolled": true
   },
   "outputs": [
    {
     "name": "stdout",
     "output_type": "stream",
     "text": [
      "Минимальная дата: 2019-08-01 00:07:28\n",
      "Ммаксимальная дата: 2019-08-07 21:15:17\n"
     ]
    }
   ],
   "source": [
    "print('Минимальная дата:', data_new['event_dt'].min())\n",
    "print('Ммаксимальная дата:', data_new['event_dt'].max())"
   ]
  },
  {
   "cell_type": "code",
   "execution_count": 84,
   "metadata": {},
   "outputs": [
    {
     "name": "stdout",
     "output_type": "stream",
     "text": [
      "Кол-во отброшеных событий 2826\n",
      "Процент потери 1.16 %\n"
     ]
    }
   ],
   "source": [
    "# посчитаем сколько событий мы потрели, отбросив старые данные \n",
    "print('Кол-во отброшеных событий', len(data.query('event_dt < @lim_dt')['event_name']))\n",
    "print('Процент потери', round(len(data.query('event_dt < @lim_dt')['event_name'])/len(data)*100, 2), '%')\n"
   ]
  },
  {
   "cell_type": "markdown",
   "metadata": {},
   "source": [
    "Теперь посчитаем сколько пользователей мы потеряли:"
   ]
  },
  {
   "cell_type": "code",
   "execution_count": 85,
   "metadata": {},
   "outputs": [
    {
     "name": "stdout",
     "output_type": "stream",
     "text": [
      "Кол-во уникальных пользователей до фильтрации: 7551\n",
      "Кол-во уникальных пользователей, оставшихся после фильтрации: 7534\n"
     ]
    }
   ],
   "source": [
    "print('Кол-во уникальных пользователей до фильтрации:', \n",
    "      len(data['device_id'].unique()))\n",
    "\n",
    "print('Кол-во уникальных пользователей, оставшихся после фильтрации:', \n",
    "      len(data.query('event_dt >= @lim_dt')['device_id'].unique()))"
   ]
  },
  {
   "cell_type": "code",
   "execution_count": 86,
   "metadata": {},
   "outputs": [
    {
     "name": "stdout",
     "output_type": "stream",
     "text": [
      "Кол-во потеряных пользователей: 17\n"
     ]
    }
   ],
   "source": [
    "print('Кол-во потеряных пользователей:', \n",
    "      len(data['device_id'].unique()) - len(data.query('event_dt >= @lim_dt')['device_id'].unique()))"
   ]
  },
  {
   "cell_type": "code",
   "execution_count": 87,
   "metadata": {},
   "outputs": [
    {
     "name": "stdout",
     "output_type": "stream",
     "text": [
      "Кол-во уникальных пользователей в группе А1: 2484\n",
      "Кол-во уникальных пользователей в группе А2: 2513\n",
      "Кол-во уникальных пользователей в группе B: 2537\n"
     ]
    }
   ],
   "source": [
    "# проверим как измнилось кол-во уникальных пользователей в группах, после удаления части данных\n",
    "print('Кол-во уникальных пользователей в группе А1:', len(data_new.query('exp_id == 246')['device_id'].unique()))\n",
    "print('Кол-во уникальных пользователей в группе А2:', len(data_new.query('exp_id == 247')['device_id'].unique()))\n",
    "print('Кол-во уникальных пользователей в группе B:', len(data_new.query('exp_id == 248')['device_id'].unique()))"
   ]
  },
  {
   "cell_type": "code",
   "execution_count": 88,
   "metadata": {},
   "outputs": [
    {
     "name": "stdout",
     "output_type": "stream",
     "text": [
      "Кол-во событий в группе А1: 79302\n",
      "Кол-во событий в группе А2: 77022\n",
      "Кол-во событий в группе B: 84563\n"
     ]
    }
   ],
   "source": [
    "# проверим как измнилось кол-во событий в группах, после удаления части данных\n",
    "print('Кол-во событий в группе А1:', len(data_new.query('exp_id == 246')))\n",
    "print('Кол-во событий в группе А2:', len(data_new.query('exp_id == 247')))\n",
    "print('Кол-во событий в группе B:', len(data_new.query('exp_id == 248')))"
   ]
  },
  {
   "cell_type": "markdown",
   "metadata": {},
   "source": [
    "**Выводы**\n",
    "\n",
    "В исходном датафрейма данные представлены за период с 2019-07-25 по 2019-08-07 включительно. Однако, до 2019-08-01 данные неполные. Данные за этот период были отброшены. Потеря в кол-ве событий составила 1.16%, а в кол-ве уникальных пользователей - 19.22%.\n",
    "\n",
    "Для дальнейшего исследования будем использовать данные за период с 1 по 7 августа включительно.\n",
    "\n",
    "Удаление части данных практически не повлияло на кол-во уникальных пользователей в каждой группе. \n",
    "\n",
    "По-прежнему в группе В кол-во событий больше, чем в контрольных группах. "
   ]
  },
  {
   "cell_type": "markdown",
   "metadata": {},
   "source": [
    "----------------------------------------------------------"
   ]
  },
  {
   "cell_type": "markdown",
   "metadata": {},
   "source": [
    "## Изучение воронки событий"
   ]
  },
  {
   "cell_type": "markdown",
   "metadata": {},
   "source": [
    "### Какие события есть в логах, как часто они встречаются"
   ]
  },
  {
   "cell_type": "code",
   "execution_count": 89,
   "metadata": {},
   "outputs": [
    {
     "data": {
      "text/plain": [
       "event_name\n",
       "MainScreenAppear           117328\n",
       "OffersScreenAppear          46333\n",
       "CartScreenAppear            42303\n",
       "PaymentScreenSuccessful     33918\n",
       "Tutorial                     1005\n",
       "Name: event_name, dtype: int64"
      ]
     },
     "execution_count": 89,
     "metadata": {},
     "output_type": "execute_result"
    }
   ],
   "source": [
    "data_new.groupby(by='event_name')['event_name'].count().sort_values(ascending=False)"
   ]
  },
  {
   "cell_type": "markdown",
   "metadata": {},
   "source": [
    "**Наблюдения**\n",
    "\n",
    "В логах всречается 5 событий:\n",
    "* MainScreenAppear - Показ главной страницы\n",
    "* OffersScreenAppear - Показ страницы предложений\n",
    "* CartScreenAppear - Показ корзины\n",
    "* PaymentScreenSuccessful - Показ страницы с сообщением об успешной оплате\n",
    "* Tutorial - Руководство/Инструкция           \n",
    "\n",
    "Наиболее частое событие - показ главной страницы."
   ]
  },
  {
   "cell_type": "markdown",
   "metadata": {},
   "source": [
    "### Cколько пользователей совершали каждое из этих событий"
   ]
  },
  {
   "cell_type": "code",
   "execution_count": 90,
   "metadata": {},
   "outputs": [
    {
     "data": {
      "text/html": [
       "<div>\n",
       "<style scoped>\n",
       "    .dataframe tbody tr th:only-of-type {\n",
       "        vertical-align: middle;\n",
       "    }\n",
       "\n",
       "    .dataframe tbody tr th {\n",
       "        vertical-align: top;\n",
       "    }\n",
       "\n",
       "    .dataframe thead th {\n",
       "        text-align: right;\n",
       "    }\n",
       "</style>\n",
       "<table border=\"1\" class=\"dataframe\">\n",
       "  <thead>\n",
       "    <tr style=\"text-align: right;\">\n",
       "      <th></th>\n",
       "      <th>total_event</th>\n",
       "      <th>total_users</th>\n",
       "      <th>proportion_of_users</th>\n",
       "    </tr>\n",
       "    <tr>\n",
       "      <th>event_name</th>\n",
       "      <th></th>\n",
       "      <th></th>\n",
       "      <th></th>\n",
       "    </tr>\n",
       "  </thead>\n",
       "  <tbody>\n",
       "    <tr>\n",
       "      <th>MainScreenAppear</th>\n",
       "      <td>117328</td>\n",
       "      <td>7419</td>\n",
       "      <td>98.47</td>\n",
       "    </tr>\n",
       "    <tr>\n",
       "      <th>OffersScreenAppear</th>\n",
       "      <td>46333</td>\n",
       "      <td>4593</td>\n",
       "      <td>60.96</td>\n",
       "    </tr>\n",
       "    <tr>\n",
       "      <th>CartScreenAppear</th>\n",
       "      <td>42303</td>\n",
       "      <td>3734</td>\n",
       "      <td>49.56</td>\n",
       "    </tr>\n",
       "    <tr>\n",
       "      <th>PaymentScreenSuccessful</th>\n",
       "      <td>33918</td>\n",
       "      <td>3539</td>\n",
       "      <td>46.97</td>\n",
       "    </tr>\n",
       "    <tr>\n",
       "      <th>Tutorial</th>\n",
       "      <td>1005</td>\n",
       "      <td>840</td>\n",
       "      <td>11.15</td>\n",
       "    </tr>\n",
       "  </tbody>\n",
       "</table>\n",
       "</div>"
      ],
      "text/plain": [
       "                         total_event  total_users  proportion_of_users\n",
       "event_name                                                            \n",
       "MainScreenAppear              117328         7419                98.47\n",
       "OffersScreenAppear             46333         4593                60.96\n",
       "CartScreenAppear               42303         3734                49.56\n",
       "PaymentScreenSuccessful        33918         3539                46.97\n",
       "Tutorial                        1005          840                11.15"
      ]
     },
     "execution_count": 90,
     "metadata": {},
     "output_type": "execute_result"
    }
   ],
   "source": [
    "#сгруперруем данные по названиям событий \n",
    "#и посчитаем кол-во этих событий в логе и кол-во уникальных пользователей, совершивших эти события\n",
    "event_grouped = data_new.groupby(by='event_name')\\\n",
    "                .agg({'event_name': 'count','device_id': 'nunique'})\\\n",
    "                .sort_values(by='device_id', ascending=False)\n",
    "\n",
    "event_grouped.columns = ['total_event', 'total_users']\n",
    "\n",
    "event_grouped['proportion_of_users'] = round(event_grouped['total_users']/len(data_new['device_id'].unique())*100, 2)\n",
    "\n",
    "event_grouped\n",
    "\n",
    "# total_event - частота встречания события в логе\n",
    "# total_users - кол-во уникальных пользователей, совершивших событие\n",
    "# proportion_of_users - доля пользователей от общего кол-ва уникальных пользователей, которые хоть раз совершали событие, в %\n"
   ]
  },
  {
   "cell_type": "markdown",
   "metadata": {},
   "source": [
    "**Наблюдения**\n",
    "\n",
    "Практически все пользователи, зарегистрированные в логе, посетили главную страницу. Около 61% просмотрели страницу с предложениями. Для остальных событий доля ниже 50%. Меньше всего пользователей посетили раздел с инструкциями - 11%. "
   ]
  },
  {
   "cell_type": "markdown",
   "metadata": {},
   "source": [
    "### Воронка событий"
   ]
  },
  {
   "cell_type": "markdown",
   "metadata": {},
   "source": [
    "Скорее всего последовательно совершаются четыре события: \n",
    "\n",
    "* Пользователь заходит на главную страницу - MainScreenAppear \n",
    "* Смотрит какие предложения есть - OffersScreenAppear \n",
    "* Добавляет заказ в корзину и заходит в корзину - CartScreenAppear\n",
    "* Оплачивает заказ и появляется страница с сообщением об успешной оплате - PaymentScreenSuccessful \n",
    "\n",
    "Tutorial скорее всего не обязательный шаг для покупки и открывают инструкцию не всегда."
   ]
  },
  {
   "cell_type": "markdown",
   "metadata": {},
   "source": [
    "**Рассчитаем какая доля пользователей проходит на следующий шаг воронки**"
   ]
  },
  {
   "cell_type": "code",
   "execution_count": 91,
   "metadata": {},
   "outputs": [
    {
     "data": {
      "text/html": [
       "<div>\n",
       "<style scoped>\n",
       "    .dataframe tbody tr th:only-of-type {\n",
       "        vertical-align: middle;\n",
       "    }\n",
       "\n",
       "    .dataframe tbody tr th {\n",
       "        vertical-align: top;\n",
       "    }\n",
       "\n",
       "    .dataframe thead th {\n",
       "        text-align: right;\n",
       "    }\n",
       "</style>\n",
       "<table border=\"1\" class=\"dataframe\">\n",
       "  <thead>\n",
       "    <tr style=\"text-align: right;\">\n",
       "      <th></th>\n",
       "      <th>event_name</th>\n",
       "      <th>total_event</th>\n",
       "      <th>total_users</th>\n",
       "      <th>proportion_of_users</th>\n",
       "    </tr>\n",
       "  </thead>\n",
       "  <tbody>\n",
       "    <tr>\n",
       "      <th>0</th>\n",
       "      <td>MainScreenAppear</td>\n",
       "      <td>117328</td>\n",
       "      <td>7419</td>\n",
       "      <td>98.47</td>\n",
       "    </tr>\n",
       "    <tr>\n",
       "      <th>1</th>\n",
       "      <td>OffersScreenAppear</td>\n",
       "      <td>46333</td>\n",
       "      <td>4593</td>\n",
       "      <td>60.96</td>\n",
       "    </tr>\n",
       "    <tr>\n",
       "      <th>2</th>\n",
       "      <td>CartScreenAppear</td>\n",
       "      <td>42303</td>\n",
       "      <td>3734</td>\n",
       "      <td>49.56</td>\n",
       "    </tr>\n",
       "    <tr>\n",
       "      <th>3</th>\n",
       "      <td>PaymentScreenSuccessful</td>\n",
       "      <td>33918</td>\n",
       "      <td>3539</td>\n",
       "      <td>46.97</td>\n",
       "    </tr>\n",
       "    <tr>\n",
       "      <th>4</th>\n",
       "      <td>Tutorial</td>\n",
       "      <td>1005</td>\n",
       "      <td>840</td>\n",
       "      <td>11.15</td>\n",
       "    </tr>\n",
       "  </tbody>\n",
       "</table>\n",
       "</div>"
      ],
      "text/plain": [
       "                event_name  total_event  total_users  proportion_of_users\n",
       "0         MainScreenAppear       117328         7419                98.47\n",
       "1       OffersScreenAppear        46333         4593                60.96\n",
       "2         CartScreenAppear        42303         3734                49.56\n",
       "3  PaymentScreenSuccessful        33918         3539                46.97\n",
       "4                 Tutorial         1005          840                11.15"
      ]
     },
     "execution_count": 91,
     "metadata": {},
     "output_type": "execute_result"
    }
   ],
   "source": [
    "# для удобства превратим индексы таблицы event_grouped в столбец \n",
    "event_grouped.reset_index(inplace= True )\n",
    "event_grouped"
   ]
  },
  {
   "cell_type": "code",
   "execution_count": 92,
   "metadata": {},
   "outputs": [],
   "source": [
    "# рассчитаем долю пользователей, перешедших на следующий шаг\n",
    "\n",
    "for i in range(len(event_grouped)-2): # в расчётах не учитываем строку Tutorial\n",
    "    event_grouped.loc[i+1,'CR,%'] = round(event_grouped.loc[i+1, 'total_users']/event_grouped.loc[i, 'total_users']*100, 2)\n",
    "    "
   ]
  },
  {
   "cell_type": "code",
   "execution_count": 93,
   "metadata": {},
   "outputs": [
    {
     "data": {
      "text/html": [
       "<div>\n",
       "<style scoped>\n",
       "    .dataframe tbody tr th:only-of-type {\n",
       "        vertical-align: middle;\n",
       "    }\n",
       "\n",
       "    .dataframe tbody tr th {\n",
       "        vertical-align: top;\n",
       "    }\n",
       "\n",
       "    .dataframe thead th {\n",
       "        text-align: right;\n",
       "    }\n",
       "</style>\n",
       "<table border=\"1\" class=\"dataframe\">\n",
       "  <thead>\n",
       "    <tr style=\"text-align: right;\">\n",
       "      <th></th>\n",
       "      <th>event_name</th>\n",
       "      <th>total_event</th>\n",
       "      <th>total_users</th>\n",
       "      <th>proportion_of_users</th>\n",
       "      <th>CR,%</th>\n",
       "    </tr>\n",
       "  </thead>\n",
       "  <tbody>\n",
       "    <tr>\n",
       "      <th>0</th>\n",
       "      <td>MainScreenAppear</td>\n",
       "      <td>117328</td>\n",
       "      <td>7419</td>\n",
       "      <td>98.47</td>\n",
       "      <td>100.00</td>\n",
       "    </tr>\n",
       "    <tr>\n",
       "      <th>1</th>\n",
       "      <td>OffersScreenAppear</td>\n",
       "      <td>46333</td>\n",
       "      <td>4593</td>\n",
       "      <td>60.96</td>\n",
       "      <td>61.91</td>\n",
       "    </tr>\n",
       "    <tr>\n",
       "      <th>2</th>\n",
       "      <td>CartScreenAppear</td>\n",
       "      <td>42303</td>\n",
       "      <td>3734</td>\n",
       "      <td>49.56</td>\n",
       "      <td>81.30</td>\n",
       "    </tr>\n",
       "    <tr>\n",
       "      <th>3</th>\n",
       "      <td>PaymentScreenSuccessful</td>\n",
       "      <td>33918</td>\n",
       "      <td>3539</td>\n",
       "      <td>46.97</td>\n",
       "      <td>94.78</td>\n",
       "    </tr>\n",
       "    <tr>\n",
       "      <th>4</th>\n",
       "      <td>Tutorial</td>\n",
       "      <td>1005</td>\n",
       "      <td>840</td>\n",
       "      <td>11.15</td>\n",
       "      <td>NaN</td>\n",
       "    </tr>\n",
       "  </tbody>\n",
       "</table>\n",
       "</div>"
      ],
      "text/plain": [
       "                event_name  total_event  total_users  proportion_of_users  \\\n",
       "0         MainScreenAppear       117328         7419                98.47   \n",
       "1       OffersScreenAppear        46333         4593                60.96   \n",
       "2         CartScreenAppear        42303         3734                49.56   \n",
       "3  PaymentScreenSuccessful        33918         3539                46.97   \n",
       "4                 Tutorial         1005          840                11.15   \n",
       "\n",
       "     CR,%  \n",
       "0  100.00  \n",
       "1   61.91  \n",
       "2   81.30  \n",
       "3   94.78  \n",
       "4     NaN  "
      ]
     },
     "execution_count": 93,
     "metadata": {},
     "output_type": "execute_result"
    }
   ],
   "source": [
    "event_grouped.loc[0,'CR,%'] = 100 # примем за 100% кол-во пользователей на первом шаге воронки \n",
    "event_grouped"
   ]
  },
  {
   "cell_type": "code",
   "execution_count": 94,
   "metadata": {},
   "outputs": [
    {
     "data": {
      "image/png": "[encoded data removed]",
      "text/plain": [
       "<Figure size 432x288 with 1 Axes>"
      ]
     },
     "metadata": {
      "needs_background": "light"
     },
     "output_type": "display_data"
    }
   ],
   "source": [
    "# для наглядности построим столбчатую диаграмму с долями\n",
    "event_grouped = event_grouped.sort_values(by='total_event')\n",
    "x=event_grouped['event_name']\n",
    "y=event_grouped['CR,%']\n",
    "\n",
    "plt.figure(figsize=(6,4))\n",
    "\n",
    "plt.barh(x, y)\n",
    "\n",
    "plt.grid()\n",
    "plt.xlabel('Доля пользователей, %', fontsize=14)\n",
    "plt.ylabel('Событие', fontsize=14)\n",
    "plt.title('Доля пользователей перешедших на следующий шаг воронки (от предыдущего)', fontsize=14)\n",
    "plt.xticks(fontsize=14)\n",
    "plt.yticks(fontsize=14)\n",
    "plt.show;"
   ]
  },
  {
   "cell_type": "code",
   "execution_count": 105,
   "metadata": {},
   "outputs": [
    {
     "data": {
      "application/vnd.plotly.v1+json": {
       "config": {
        "plotlyServerURL": "https://plot.ly"
       },
       "data": [
        {
         "name": "proportion_of_users",
         "textinfo": "value+percent initial+percent previous",
         "type": "funnel",
         "x": [
          7419,
          4593,
          3734,
          3539
         ],
         "y": [
          "MainScreenAppear",
          "OffersScreenAppear",
          "CartScreenAppear",
          "PaymentScreenSuccessful"
         ]
        }
       ],
       "layout": {
        "template": {
         "data": {
          "bar": [
           {
            "error_x": {
             "color": "#2a3f5f"
            },
            "error_y": {
             "color": "#2a3f5f"
            },
            "marker": {
             "line": {
              "color": "#E5ECF6",
              "width": 0.5
             },
             "pattern": {
              "fillmode": "overlay",
              "size": 10,
              "solidity": 0.2
             }
            },
            "type": "bar"
           }
          ],
          "barpolar": [
           {
            "marker": {
             "line": {
              "color": "#E5ECF6",
              "width": 0.5
             },
             "pattern": {
              "fillmode": "overlay",
              "size": 10,
              "solidity": 0.2
             }
            },
            "type": "barpolar"
           }
          ],
          "carpet": [
           {
            "aaxis": {
             "endlinecolor": "#2a3f5f",
             "gridcolor": "white",
             "linecolor": "white",
             "minorgridcolor": "white",
             "startlinecolor": "#2a3f5f"
            },
            "baxis": {
             "endlinecolor": "#2a3f5f",
             "gridcolor": "white",
             "linecolor": "white",
             "minorgridcolor": "white",
             "startlinecolor": "#2a3f5f"
            },
            "type": "carpet"
           }
          ],
          "choropleth": [
           {
            "colorbar": {
             "outlinewidth": 0,
             "ticks": ""
            },
            "type": "choropleth"
           }
          ],
          "contour": [
           {
            "colorbar": {
             "outlinewidth": 0,
             "ticks": ""
            },
            "colorscale": [
             [
              0,
              "#0d0887"
             ],
             [
              0.1111111111111111,
              "#46039f"
             ],
             [
              0.2222222222222222,
              "#7201a8"
             ],
             [
              0.3333333333333333,
              "#9c179e"
             ],
             [
              0.4444444444444444,
              "#bd3786"
             ],
             [
              0.5555555555555556,
              "#d8576b"
             ],
             [
              0.6666666666666666,
              "#ed7953"
             ],
             [
              0.7777777777777778,
              "#fb9f3a"
             ],
             [
              0.8888888888888888,
              "#fdca26"
             ],
             [
              1,
              "#f0f921"
             ]
            ],
            "type": "contour"
           }
          ],
          "contourcarpet": [
           {
            "colorbar": {
             "outlinewidth": 0,
             "ticks": ""
            },
            "type": "contourcarpet"
           }
          ],
          "heatmap": [
           {
            "colorbar": {
             "outlinewidth": 0,
             "ticks": ""
            },
            "colorscale": [
             [
              0,
              "#0d0887"
             ],
             [
              0.1111111111111111,
              "#46039f"
             ],
             [
              0.2222222222222222,
              "#7201a8"
             ],
             [
              0.3333333333333333,
              "#9c179e"
             ],
             [
              0.4444444444444444,
              "#bd3786"
             ],
             [
              0.5555555555555556,
              "#d8576b"
             ],
             [
              0.6666666666666666,
              "#ed7953"
             ],
             [
              0.7777777777777778,
              "#fb9f3a"
             ],
             [
              0.8888888888888888,
              "#fdca26"
             ],
             [
              1,
              "#f0f921"
             ]
            ],
            "type": "heatmap"
           }
          ],
          "heatmapgl": [
           {
            "colorbar": {
             "outlinewidth": 0,
             "ticks": ""
            },
            "colorscale": [
             [
              0,
              "#0d0887"
             ],
             [
              0.1111111111111111,
              "#46039f"
             ],
             [
              0.2222222222222222,
              "#7201a8"
             ],
             [
              0.3333333333333333,
              "#9c179e"
             ],
             [
              0.4444444444444444,
              "#bd3786"
             ],
             [
              0.5555555555555556,
              "#d8576b"
             ],
             [
              0.6666666666666666,
              "#ed7953"
             ],
             [
              0.7777777777777778,
              "#fb9f3a"
             ],
             [
              0.8888888888888888,
              "#fdca26"
             ],
             [
              1,
              "#f0f921"
             ]
            ],
            "type": "heatmapgl"
           }
          ],
          "histogram": [
           {
            "marker": {
             "pattern": {
              "fillmode": "overlay",
              "size": 10,
              "solidity": 0.2
             }
            },
            "type": "histogram"
           }
          ],
          "histogram2d": [
           {
            "colorbar": {
             "outlinewidth": 0,
             "ticks": ""
            },
            "colorscale": [
             [
              0,
              "#0d0887"
             ],
             [
              0.1111111111111111,
              "#46039f"
             ],
             [
              0.2222222222222222,
              "#7201a8"
             ],
             [
              0.3333333333333333,
              "#9c179e"
             ],
             [
              0.4444444444444444,
              "#bd3786"
             ],
             [
              0.5555555555555556,
              "#d8576b"
             ],
             [
              0.6666666666666666,
              "#ed7953"
             ],
             [
              0.7777777777777778,
              "#fb9f3a"
             ],
             [
              0.8888888888888888,
              "#fdca26"
             ],
             [
              1,
              "#f0f921"
             ]
            ],
            "type": "histogram2d"
           }
          ],
          "histogram2dcontour": [
           {
            "colorbar": {
             "outlinewidth": 0,
             "ticks": ""
            },
            "colorscale": [
             [
              0,
              "#0d0887"
             ],
             [
              0.1111111111111111,
              "#46039f"
             ],
             [
              0.2222222222222222,
              "#7201a8"
             ],
             [
              0.3333333333333333,
              "#9c179e"
             ],
             [
              0.4444444444444444,
              "#bd3786"
             ],
             [
              0.5555555555555556,
              "#d8576b"
             ],
             [
              0.6666666666666666,
              "#ed7953"
             ],
             [
              0.7777777777777778,
              "#fb9f3a"
             ],
             [
              0.8888888888888888,
              "#fdca26"
             ],
             [
              1,
              "#f0f921"
             ]
            ],
            "type": "histogram2dcontour"
           }
          ],
          "mesh3d": [
           {
            "colorbar": {
             "outlinewidth": 0,
             "ticks": ""
            },
            "type": "mesh3d"
           }
          ],
          "parcoords": [
           {
            "line": {
             "colorbar": {
              "outlinewidth": 0,
              "ticks": ""
             }
            },
            "type": "parcoords"
           }
          ],
          "pie": [
           {
            "automargin": true,
            "type": "pie"
           }
          ],
          "scatter": [
           {
            "marker": {
             "colorbar": {
              "outlinewidth": 0,
              "ticks": ""
             }
            },
            "type": "scatter"
           }
          ],
          "scatter3d": [
           {
            "line": {
             "colorbar": {
              "outlinewidth": 0,
              "ticks": ""
             }
            },
            "marker": {
             "colorbar": {
              "outlinewidth": 0,
              "ticks": ""
             }
            },
            "type": "scatter3d"
           }
          ],
          "scattercarpet": [
           {
            "marker": {
             "colorbar": {
              "outlinewidth": 0,
              "ticks": ""
             }
            },
            "type": "scattercarpet"
           }
          ],
          "scattergeo": [
           {
            "marker": {
             "colorbar": {
              "outlinewidth": 0,
              "ticks": ""
             }
            },
            "type": "scattergeo"
           }
          ],
          "scattergl": [
           {
            "marker": {
             "colorbar": {
              "outlinewidth": 0,
              "ticks": ""
             }
            },
            "type": "scattergl"
           }
          ],
          "scattermapbox": [
           {
            "marker": {
             "colorbar": {
              "outlinewidth": 0,
              "ticks": ""
             }
            },
            "type": "scattermapbox"
           }
          ],
          "scatterpolar": [
           {
            "marker": {
             "colorbar": {
              "outlinewidth": 0,
              "ticks": ""
             }
            },
            "type": "scatterpolar"
           }
          ],
          "scatterpolargl": [
           {
            "marker": {
             "colorbar": {
              "outlinewidth": 0,
              "ticks": ""
             }
            },
            "type": "scatterpolargl"
           }
          ],
          "scatterternary": [
           {
            "marker": {
             "colorbar": {
              "outlinewidth": 0,
              "ticks": ""
             }
            },
            "type": "scatterternary"
           }
          ],
          "surface": [
           {
            "colorbar": {
             "outlinewidth": 0,
             "ticks": ""
            },
            "colorscale": [
             [
              0,
              "#0d0887"
             ],
             [
              0.1111111111111111,
              "#46039f"
             ],
             [
              0.2222222222222222,
              "#7201a8"
             ],
             [
              0.3333333333333333,
              "#9c179e"
             ],
             [
              0.4444444444444444,
              "#bd3786"
             ],
             [
              0.5555555555555556,
              "#d8576b"
             ],
             [
              0.6666666666666666,
              "#ed7953"
             ],
             [
              0.7777777777777778,
              "#fb9f3a"
             ],
             [
              0.8888888888888888,
              "#fdca26"
             ],
             [
              1,
              "#f0f921"
             ]
            ],
            "type": "surface"
           }
          ],
          "table": [
           {
            "cells": {
             "fill": {
              "color": "#EBF0F8"
             },
             "line": {
              "color": "white"
             }
            },
            "header": {
             "fill": {
              "color": "#C8D4E3"
             },
             "line": {
              "color": "white"
             }
            },
            "type": "table"
           }
          ]
         },
         "layout": {
          "annotationdefaults": {
           "arrowcolor": "#2a3f5f",
           "arrowhead": 0,
           "arrowwidth": 1
          },
          "autotypenumbers": "strict",
          "coloraxis": {
           "colorbar": {
            "outlinewidth": 0,
            "ticks": ""
           }
          },
          "colorscale": {
           "diverging": [
            [
             0,
             "#8e0152"
            ],
            [
             0.1,
             "#c51b7d"
            ],
            [
             0.2,
             "#de77ae"
            ],
            [
             0.3,
             "#f1b6da"
            ],
            [
             0.4,
             "#fde0ef"
            ],
            [
             0.5,
             "#f7f7f7"
            ],
            [
             0.6,
             "#e6f5d0"
            ],
            [
             0.7,
             "#b8e186"
            ],
            [
             0.8,
             "#7fbc41"
            ],
            [
             0.9,
             "#4d9221"
            ],
            [
             1,
             "#276419"
            ]
           ],
           "sequential": [
            [
             0,
             "#0d0887"
            ],
            [
             0.1111111111111111,
             "#46039f"
            ],
            [
             0.2222222222222222,
             "#7201a8"
            ],
            [
             0.3333333333333333,
             "#9c179e"
            ],
            [
             0.4444444444444444,
             "#bd3786"
            ],
            [
             0.5555555555555556,
             "#d8576b"
            ],
            [
             0.6666666666666666,
             "#ed7953"
            ],
            [
             0.7777777777777778,
             "#fb9f3a"
            ],
            [
             0.8888888888888888,
             "#fdca26"
            ],
            [
             1,
             "#f0f921"
            ]
           ],
           "sequentialminus": [
            [
             0,
             "#0d0887"
            ],
            [
             0.1111111111111111,
             "#46039f"
            ],
            [
             0.2222222222222222,
             "#7201a8"
            ],
            [
             0.3333333333333333,
             "#9c179e"
            ],
            [
             0.4444444444444444,
             "#bd3786"
            ],
            [
             0.5555555555555556,
             "#d8576b"
            ],
            [
             0.6666666666666666,
             "#ed7953"
            ],
            [
             0.7777777777777778,
             "#fb9f3a"
            ],
            [
             0.8888888888888888,
             "#fdca26"
            ],
            [
             1,
             "#f0f921"
            ]
           ]
          },
          "colorway": [
           "#636efa",
           "#EF553B",
           "#00cc96",
           "#ab63fa",
           "#FFA15A",
           "#19d3f3",
           "#FF6692",
           "#B6E880",
           "#FF97FF",
           "#FECB52"
          ],
          "font": {
           "color": "#2a3f5f"
          },
          "geo": {
           "bgcolor": "white",
           "lakecolor": "white",
           "landcolor": "#E5ECF6",
           "showlakes": true,
           "showland": true,
           "subunitcolor": "white"
          },
          "hoverlabel": {
           "align": "left"
          },
          "hovermode": "closest",
          "mapbox": {
           "style": "light"
          },
          "paper_bgcolor": "white",
          "plot_bgcolor": "#E5ECF6",
          "polar": {
           "angularaxis": {
            "gridcolor": "white",
            "linecolor": "white",
            "ticks": ""
           },
           "bgcolor": "#E5ECF6",
           "radialaxis": {
            "gridcolor": "white",
            "linecolor": "white",
            "ticks": ""
           }
          },
          "scene": {
           "xaxis": {
            "backgroundcolor": "#E5ECF6",
            "gridcolor": "white",
            "gridwidth": 2,
            "linecolor": "white",
            "showbackground": true,
            "ticks": "",
            "zerolinecolor": "white"
           },
           "yaxis": {
            "backgroundcolor": "#E5ECF6",
            "gridcolor": "white",
            "gridwidth": 2,
            "linecolor": "white",
            "showbackground": true,
            "ticks": "",
            "zerolinecolor": "white"
           },
           "zaxis": {
            "backgroundcolor": "#E5ECF6",
            "gridcolor": "white",
            "gridwidth": 2,
            "linecolor": "white",
            "showbackground": true,
            "ticks": "",
            "zerolinecolor": "white"
           }
          },
          "shapedefaults": {
           "line": {
            "color": "#2a3f5f"
           }
          },
          "ternary": {
           "aaxis": {
            "gridcolor": "white",
            "linecolor": "white",
            "ticks": ""
           },
           "baxis": {
            "gridcolor": "white",
            "linecolor": "white",
            "ticks": ""
           },
           "bgcolor": "#E5ECF6",
           "caxis": {
            "gridcolor": "white",
            "linecolor": "white",
            "ticks": ""
           }
          },
          "title": {
           "x": 0.05
          },
          "xaxis": {
           "automargin": true,
           "gridcolor": "white",
           "linecolor": "white",
           "ticks": "",
           "title": {
            "standoff": 15
           },
           "zerolinecolor": "white",
           "zerolinewidth": 2
          },
          "yaxis": {
           "automargin": true,
           "gridcolor": "white",
           "linecolor": "white",
           "ticks": "",
           "title": {
            "standoff": 15
           },
           "zerolinecolor": "white",
           "zerolinewidth": 2
          }
         }
        },
        "title": {
         "text": "Воронка событий: Доля пользователей перешедших на следующий шаг"
        }
       }
      },
      "text/html": [
       "<div>                            <div id=\"4ed6a30b-837c-48d6-a9b9-8c45f9318136\" class=\"plotly-graph-div\" style=\"height:525px; width:100%;\"></div>            <script type=\"text/javascript\">                require([\"plotly\"], function(Plotly) {                    window.PLOTLYENV=window.PLOTLYENV || {};                                    if (document.getElementById(\"4ed6a30b-837c-48d6-a9b9-8c45f9318136\")) {                    Plotly.newPlot(                        \"4ed6a30b-837c-48d6-a9b9-8c45f9318136\",                        [{\"name\":\"proportion_of_users\",\"textinfo\":\"value+percent initial+percent previous\",\"x\":[7419,4593,3734,3539],\"y\":[\"MainScreenAppear\",\"OffersScreenAppear\",\"CartScreenAppear\",\"PaymentScreenSuccessful\"],\"type\":\"funnel\"}],                        {\"template\":{\"data\":{\"bar\":[{\"error_x\":{\"color\":\"#2a3f5f\"},\"error_y\":{\"color\":\"#2a3f5f\"},\"marker\":{\"line\":{\"color\":\"#E5ECF6\",\"width\":0.5},\"pattern\":{\"fillmode\":\"overlay\",\"size\":10,\"solidity\":0.2}},\"type\":\"bar\"}],\"barpolar\":[{\"marker\":{\"line\":{\"color\":\"#E5ECF6\",\"width\":0.5},\"pattern\":{\"fillmode\":\"overlay\",\"size\":10,\"solidity\":0.2}},\"type\":\"barpolar\"}],\"carpet\":[{\"aaxis\":{\"endlinecolor\":\"#2a3f5f\",\"gridcolor\":\"white\",\"linecolor\":\"white\",\"minorgridcolor\":\"white\",\"startlinecolor\":\"#2a3f5f\"},\"baxis\":{\"endlinecolor\":\"#2a3f5f\",\"gridcolor\":\"white\",\"linecolor\":\"white\",\"minorgridcolor\":\"white\",\"startlinecolor\":\"#2a3f5f\"},\"type\":\"carpet\"}],\"choropleth\":[{\"colorbar\":{\"outlinewidth\":0,\"ticks\":\"\"},\"type\":\"choropleth\"}],\"contour\":[{\"colorbar\":{\"outlinewidth\":0,\"ticks\":\"\"},\"colorscale\":[[0.0,\"#0d0887\"],[0.1111111111111111,\"#46039f\"],[0.2222222222222222,\"#7201a8\"],[0.3333333333333333,\"#9c179e\"],[0.4444444444444444,\"#bd3786\"],[0.5555555555555556,\"#d8576b\"],[0.6666666666666666,\"#ed7953\"],[0.7777777777777778,\"#fb9f3a\"],[0.8888888888888888,\"#fdca26\"],[1.0,\"#f0f921\"]],\"type\":\"contour\"}],\"contourcarpet\":[{\"colorbar\":{\"outlinewidth\":0,\"ticks\":\"\"},\"type\":\"contourcarpet\"}],\"heatmap\":[{\"colorbar\":{\"outlinewidth\":0,\"ticks\":\"\"},\"colorscale\":[[0.0,\"#0d0887\"],[0.1111111111111111,\"#46039f\"],[0.2222222222222222,\"#7201a8\"],[0.3333333333333333,\"#9c179e\"],[0.4444444444444444,\"#bd3786\"],[0.5555555555555556,\"#d8576b\"],[0.6666666666666666,\"#ed7953\"],[0.7777777777777778,\"#fb9f3a\"],[0.8888888888888888,\"#fdca26\"],[1.0,\"#f0f921\"]],\"type\":\"heatmap\"}],\"heatmapgl\":[{\"colorbar\":{\"outlinewidth\":0,\"ticks\":\"\"},\"colorscale\":[[0.0,\"#0d0887\"],[0.1111111111111111,\"#46039f\"],[0.2222222222222222,\"#7201a8\"],[0.3333333333333333,\"#9c179e\"],[0.4444444444444444,\"#bd3786\"],[0.5555555555555556,\"#d8576b\"],[0.6666666666666666,\"#ed7953\"],[0.7777777777777778,\"#fb9f3a\"],[0.8888888888888888,\"#fdca26\"],[1.0,\"#f0f921\"]],\"type\":\"heatmapgl\"}],\"histogram\":[{\"marker\":{\"pattern\":{\"fillmode\":\"overlay\",\"size\":10,\"solidity\":0.2}},\"type\":\"histogram\"}],\"histogram2d\":[{\"colorbar\":{\"outlinewidth\":0,\"ticks\":\"\"},\"colorscale\":[[0.0,\"#0d0887\"],[0.1111111111111111,\"#46039f\"],[0.2222222222222222,\"#7201a8\"],[0.3333333333333333,\"#9c179e\"],[0.4444444444444444,\"#bd3786\"],[0.5555555555555556,\"#d8576b\"],[0.6666666666666666,\"#ed7953\"],[0.7777777777777778,\"#fb9f3a\"],[0.8888888888888888,\"#fdca26\"],[1.0,\"#f0f921\"]],\"type\":\"histogram2d\"}],\"histogram2dcontour\":[{\"colorbar\":{\"outlinewidth\":0,\"ticks\":\"\"},\"colorscale\":[[0.0,\"#0d0887\"],[0.1111111111111111,\"#46039f\"],[0.2222222222222222,\"#7201a8\"],[0.3333333333333333,\"#9c179e\"],[0.4444444444444444,\"#bd3786\"],[0.5555555555555556,\"#d8576b\"],[0.6666666666666666,\"#ed7953\"],[0.7777777777777778,\"#fb9f3a\"],[0.8888888888888888,\"#fdca26\"],[1.0,\"#f0f921\"]],\"type\":\"histogram2dcontour\"}],\"mesh3d\":[{\"colorbar\":{\"outlinewidth\":0,\"ticks\":\"\"},\"type\":\"mesh3d\"}],\"parcoords\":[{\"line\":{\"colorbar\":{\"outlinewidth\":0,\"ticks\":\"\"}},\"type\":\"parcoords\"}],\"pie\":[{\"automargin\":true,\"type\":\"pie\"}],\"scatter\":[{\"marker\":{\"colorbar\":{\"outlinewidth\":0,\"ticks\":\"\"}},\"type\":\"scatter\"}],\"scatter3d\":[{\"line\":{\"colorbar\":{\"outlinewidth\":0,\"ticks\":\"\"}},\"marker\":{\"colorbar\":{\"outlinewidth\":0,\"ticks\":\"\"}},\"type\":\"scatter3d\"}],\"scattercarpet\":[{\"marker\":{\"colorbar\":{\"outlinewidth\":0,\"ticks\":\"\"}},\"type\":\"scattercarpet\"}],\"scattergeo\":[{\"marker\":{\"colorbar\":{\"outlinewidth\":0,\"ticks\":\"\"}},\"type\":\"scattergeo\"}],\"scattergl\":[{\"marker\":{\"colorbar\":{\"outlinewidth\":0,\"ticks\":\"\"}},\"type\":\"scattergl\"}],\"scattermapbox\":[{\"marker\":{\"colorbar\":{\"outlinewidth\":0,\"ticks\":\"\"}},\"type\":\"scattermapbox\"}],\"scatterpolar\":[{\"marker\":{\"colorbar\":{\"outlinewidth\":0,\"ticks\":\"\"}},\"type\":\"scatterpolar\"}],\"scatterpolargl\":[{\"marker\":{\"colorbar\":{\"outlinewidth\":0,\"ticks\":\"\"}},\"type\":\"scatterpolargl\"}],\"scatterternary\":[{\"marker\":{\"colorbar\":{\"outlinewidth\":0,\"ticks\":\"\"}},\"type\":\"scatterternary\"}],\"surface\":[{\"colorbar\":{\"outlinewidth\":0,\"ticks\":\"\"},\"colorscale\":[[0.0,\"#0d0887\"],[0.1111111111111111,\"#46039f\"],[0.2222222222222222,\"#7201a8\"],[0.3333333333333333,\"#9c179e\"],[0.4444444444444444,\"#bd3786\"],[0.5555555555555556,\"#d8576b\"],[0.6666666666666666,\"#ed7953\"],[0.7777777777777778,\"#fb9f3a\"],[0.8888888888888888,\"#fdca26\"],[1.0,\"#f0f921\"]],\"type\":\"surface\"}],\"table\":[{\"cells\":{\"fill\":{\"color\":\"#EBF0F8\"},\"line\":{\"color\":\"white\"}},\"header\":{\"fill\":{\"color\":\"#C8D4E3\"},\"line\":{\"color\":\"white\"}},\"type\":\"table\"}]},\"layout\":{\"annotationdefaults\":{\"arrowcolor\":\"#2a3f5f\",\"arrowhead\":0,\"arrowwidth\":1},\"autotypenumbers\":\"strict\",\"coloraxis\":{\"colorbar\":{\"outlinewidth\":0,\"ticks\":\"\"}},\"colorscale\":{\"diverging\":[[0,\"#8e0152\"],[0.1,\"#c51b7d\"],[0.2,\"#de77ae\"],[0.3,\"#f1b6da\"],[0.4,\"#fde0ef\"],[0.5,\"#f7f7f7\"],[0.6,\"#e6f5d0\"],[0.7,\"#b8e186\"],[0.8,\"#7fbc41\"],[0.9,\"#4d9221\"],[1,\"#276419\"]],\"sequential\":[[0.0,\"#0d0887\"],[0.1111111111111111,\"#46039f\"],[0.2222222222222222,\"#7201a8\"],[0.3333333333333333,\"#9c179e\"],[0.4444444444444444,\"#bd3786\"],[0.5555555555555556,\"#d8576b\"],[0.6666666666666666,\"#ed7953\"],[0.7777777777777778,\"#fb9f3a\"],[0.8888888888888888,\"#fdca26\"],[1.0,\"#f0f921\"]],\"sequentialminus\":[[0.0,\"#0d0887\"],[0.1111111111111111,\"#46039f\"],[0.2222222222222222,\"#7201a8\"],[0.3333333333333333,\"#9c179e\"],[0.4444444444444444,\"#bd3786\"],[0.5555555555555556,\"#d8576b\"],[0.6666666666666666,\"#ed7953\"],[0.7777777777777778,\"#fb9f3a\"],[0.8888888888888888,\"#fdca26\"],[1.0,\"#f0f921\"]]},\"colorway\":[\"#636efa\",\"#EF553B\",\"#00cc96\",\"#ab63fa\",\"#FFA15A\",\"#19d3f3\",\"#FF6692\",\"#B6E880\",\"#FF97FF\",\"#FECB52\"],\"font\":{\"color\":\"#2a3f5f\"},\"geo\":{\"bgcolor\":\"white\",\"lakecolor\":\"white\",\"landcolor\":\"#E5ECF6\",\"showlakes\":true,\"showland\":true,\"subunitcolor\":\"white\"},\"hoverlabel\":{\"align\":\"left\"},\"hovermode\":\"closest\",\"mapbox\":{\"style\":\"light\"},\"paper_bgcolor\":\"white\",\"plot_bgcolor\":\"#E5ECF6\",\"polar\":{\"angularaxis\":{\"gridcolor\":\"white\",\"linecolor\":\"white\",\"ticks\":\"\"},\"bgcolor\":\"#E5ECF6\",\"radialaxis\":{\"gridcolor\":\"white\",\"linecolor\":\"white\",\"ticks\":\"\"}},\"scene\":{\"xaxis\":{\"backgroundcolor\":\"#E5ECF6\",\"gridcolor\":\"white\",\"gridwidth\":2,\"linecolor\":\"white\",\"showbackground\":true,\"ticks\":\"\",\"zerolinecolor\":\"white\"},\"yaxis\":{\"backgroundcolor\":\"#E5ECF6\",\"gridcolor\":\"white\",\"gridwidth\":2,\"linecolor\":\"white\",\"showbackground\":true,\"ticks\":\"\",\"zerolinecolor\":\"white\"},\"zaxis\":{\"backgroundcolor\":\"#E5ECF6\",\"gridcolor\":\"white\",\"gridwidth\":2,\"linecolor\":\"white\",\"showbackground\":true,\"ticks\":\"\",\"zerolinecolor\":\"white\"}},\"shapedefaults\":{\"line\":{\"color\":\"#2a3f5f\"}},\"ternary\":{\"aaxis\":{\"gridcolor\":\"white\",\"linecolor\":\"white\",\"ticks\":\"\"},\"baxis\":{\"gridcolor\":\"white\",\"linecolor\":\"white\",\"ticks\":\"\"},\"bgcolor\":\"#E5ECF6\",\"caxis\":{\"gridcolor\":\"white\",\"linecolor\":\"white\",\"ticks\":\"\"}},\"title\":{\"x\":0.05},\"xaxis\":{\"automargin\":true,\"gridcolor\":\"white\",\"linecolor\":\"white\",\"ticks\":\"\",\"title\":{\"standoff\":15},\"zerolinecolor\":\"white\",\"zerolinewidth\":2},\"yaxis\":{\"automargin\":true,\"gridcolor\":\"white\",\"linecolor\":\"white\",\"ticks\":\"\",\"title\":{\"standoff\":15},\"zerolinecolor\":\"white\",\"zerolinewidth\":2}}},\"title\":{\"text\":\"\\u0412\\u043e\\u0440\\u043e\\u043d\\u043a\\u0430 \\u0441\\u043e\\u0431\\u044b\\u0442\\u0438\\u0439: \\u0414\\u043e\\u043b\\u044f \\u043f\\u043e\\u043b\\u044c\\u0437\\u043e\\u0432\\u0430\\u0442\\u0435\\u043b\\u0435\\u0439 \\u043f\\u0435\\u0440\\u0435\\u0448\\u0435\\u0434\\u0448\\u0438\\u0445 \\u043d\\u0430 \\u0441\\u043b\\u0435\\u0434\\u0443\\u044e\\u0449\\u0438\\u0439 \\u0448\\u0430\\u0433\"}},                        {\"responsive\": true}                    ).then(function(){\n",
       "                            \n",
       "var gd = document.getElementById('4ed6a30b-837c-48d6-a9b9-8c45f9318136');\n",
       "var x = new MutationObserver(function (mutations, observer) {{\n",
       "        var display = window.getComputedStyle(gd).display;\n",
       "        if (!display || display === 'none') {{\n",
       "            console.log([gd, 'removed!']);\n",
       "            Plotly.purge(gd);\n",
       "            observer.disconnect();\n",
       "        }}\n",
       "}});\n",
       "\n",
       "// Listen for the removal of the full notebook cells\n",
       "var notebookContainer = gd.closest('#notebook-container');\n",
       "if (notebookContainer) {{\n",
       "    x.observe(notebookContainer, {childList: true});\n",
       "}}\n",
       "\n",
       "// Listen for the clearing of the current output cell\n",
       "var outputEl = gd.closest('.output');\n",
       "if (outputEl) {{\n",
       "    x.observe(outputEl, {childList: true});\n",
       "}}\n",
       "\n",
       "                        })                };                });            </script>        </div>"
      ]
     },
     "metadata": {},
     "output_type": "display_data"
    }
   ],
   "source": [
    "#  построение графика воронки событий \n",
    "event_grouped = event_grouped.sort_values(by='total_event', ascending=False)\n",
    "fig = go.Figure()\n",
    "fig.add_trace(go.Funnel(\n",
    "    name = 'proportion_of_users',\n",
    "    y =  event_grouped.loc[0:3, 'event_name'],\n",
    "    x = event_grouped.loc[0:3,'total_users'],\n",
    "    textinfo = \"value+percent initial+percent previous\")\n",
    "             )\n",
    "\n",
    "fig.update_layout(title={'text': \"Воронка событий: Доля пользователей перешедших на следующий шаг\"})\n",
    "\n",
    "fig.show()"
   ]
  },
  {
   "cell_type": "markdown",
   "metadata": {},
   "source": [
    "**Выводы**\n",
    "\n",
    "Только 62% пользователей зашедших на главную страницу переходят на страницу с предложениями. \n",
    "\n",
    "81% пользователей, просмотревших предложения, переходят в корзину. И 95% пользователей, посетивших корзину, совершают успешно заказ. Довольно хорошие показатели, но возможно у тех 5%, которые зашли в корзину и так и не совершили заказ, возникли какие-то технические проблемы. Стоит по выяснять. \n",
    "\n",
    "От изначального кол-ва пользователей до финального этапа - успешной оплаты - дошли 48% пользователей. "
   ]
  },
  {
   "attachments": {
    "image.png": {
     "image/png": "[encoded data removed]"
    }
   },
   "cell_type": "markdown",
   "metadata": {},
   "source": [
    "![image.png](attachment:image.png)"
   ]
  },
  {
   "cell_type": "markdown",
   "metadata": {},
   "source": [
    "--------------------------------------"
   ]
  },
  {
   "cell_type": "markdown",
   "metadata": {},
   "source": [
    "## Изучение результатов эксперимента"
   ]
  },
  {
   "cell_type": "markdown",
   "metadata": {},
   "source": [
    "### Сколько пользователей в каждой экспериментальной группе?\n"
   ]
  },
  {
   "cell_type": "code",
   "execution_count": 96,
   "metadata": {},
   "outputs": [
    {
     "name": "stdout",
     "output_type": "stream",
     "text": [
      "Кол-во уникальных пользователей в группе А1: 2484\n",
      "Кол-во уникальных пользователей в группе А2: 2513\n",
      "Кол-во уникальных пользователей в группе B: 2537\n"
     ]
    }
   ],
   "source": [
    "print('Кол-во уникальных пользователей в группе А1:', len(data_new.query('exp_id == 246')['device_id'].unique()))\n",
    "print('Кол-во уникальных пользователей в группе А2:', len(data_new.query('exp_id == 247')['device_id'].unique()))\n",
    "print('Кол-во уникальных пользователей в группе B:', len(data_new.query('exp_id == 248')['device_id'].unique()))"
   ]
  },
  {
   "cell_type": "markdown",
   "metadata": {},
   "source": [
    "### Проверка наличия разницы между контрольными выборками 246 и 247"
   ]
  },
  {
   "cell_type": "markdown",
   "metadata": {},
   "source": [
    "Чтобы проверить есть ли статистически значимые различия между контрольными группами А1 и А2 проведем проверку на равенство долей с помощью z-теста при уровне значимости 0.05.\n",
    "\n",
    "Нулевая гипотеза: статистически значимых различий между группами А1 (246) и А2 (247) нет.\n",
    "\n",
    "Альтернативная гипотеза: есть статистически значимые различия между группами."
   ]
  },
  {
   "cell_type": "code",
   "execution_count": 97,
   "metadata": {},
   "outputs": [],
   "source": [
    "# зададим критический уровень статистической значимости\n",
    "alpha = 0.05 "
   ]
  },
  {
   "cell_type": "markdown",
   "metadata": {},
   "source": [
    "Последовательно проверим различие долей для всех событий:\n",
    "\n",
    "* MainScreenAppear          \n",
    "* OffersScreenAppear      \n",
    "* CartScreenAppear        \n",
    "* PaymentScreenSuccessful   \n",
    "* Tutorial    \n",
    "\n",
    "Начнём с самого популярного события - MainScreenAppear. "
   ]
  },
  {
   "cell_type": "code",
   "execution_count": 98,
   "metadata": {},
   "outputs": [],
   "source": [
    "# напишем функцию для проверки \n",
    "\n",
    "# входные параметры:\n",
    "# group1 - номер/а контрольной группы \n",
    "# group2 - номер второй сравниваемой группы\n",
    "# event_list - список событий \n",
    "\n",
    "\n",
    "def z_test(group1, group2, event_list):\n",
    "    \n",
    "    for e in event_list: # для каждого события из списка производим проверку гипотезы\n",
    "        \n",
    "        event = e #  название события \n",
    "        \n",
    "        print('\\033[1m'+'Событие:', event+ '\\033[0m') # выводим название события жирным шрифтом\n",
    "        # группа 1\n",
    "        count_event_1 = len(data_new.query('exp_id in @group1 and event_name==@event')['device_id'].unique()) # число пользователей из группы 1 совершивших событие\n",
    "        print('Число пользователей из группы', group1, ', совершивших событие', '\\033[1m'+event+ '\\033[0m', ':', count_event_1)\n",
    "        \n",
    "        n1 = len(data_new.query('exp_id in @group1')['device_id'].unique()) # размер первой выборки\n",
    "        \n",
    "        p1 = count_event_1/n1 # доля пользователей из группы 1\n",
    "        print('Доля пользователй относительно общего числа пользователей в группе:', p1)\n",
    "    \n",
    "        print('------')\n",
    "    \n",
    "        # группа 2\n",
    "        count_event_2 = len(data_new.query('exp_id == @group2 and event_name==@event')['device_id'].unique()) # число пользователей из группы 2 совершивших событие\n",
    "        print('Число пользователей из группы', group2, ', совершивших событие', '\\033[1m'+event+ '\\033[0m', ':', count_event_2)\n",
    "    \n",
    "        n2 = len(data_new.query('exp_id == @group2')['device_id'].unique()) # размер второй выборки\n",
    "    \n",
    "        p2 = count_event_2/n2 # доля пользователей из группы 2\n",
    "        print('Доля пользователй относительно общего числа пользователей в группе:', p2)\n",
    "    \n",
    "        # пропорция в комбинированном датасете:\n",
    "        p_combined = (count_event_1 + count_event_2) / (n1 + n2)\n",
    "    \n",
    "        # разница пропорций в датасетах\n",
    "        difference = p1 - p2\n",
    "    \n",
    "        # считаем статистику в ст.отклонениях стандартного нормального распределения\n",
    "        z_value = difference / mth.sqrt(p_combined * (1 - p_combined) * (1/n1 + 1/n2))\n",
    "    \n",
    "        # задаем стандартное нормальное распределение (среднее 0, ст.отклонение 1)\n",
    "        distr = st.norm(0, 1)\n",
    "    \n",
    "        p_value = (1 - distr.cdf(abs(z_value))) * 2\n",
    "        \n",
    "        print('------')\n",
    "        print('\\033[1m'+'p-значение: '+ '\\033[0m', p_value)\n",
    "\n",
    "        if p_value < alpha:\n",
    "            print(colored('Отвергаем нулевую гипотезу: между долями есть значимая разница', 'green'))\n",
    "        else:\n",
    "            print(colored('Не получилось отвергнуть нулевую гипотезу, нет оснований считать доли разными.', 'red')) \n",
    "\n",
    "        print('===================================================================================')\n",
    "    \n",
    "    return('END')"
   ]
  },
  {
   "cell_type": "code",
   "execution_count": 99,
   "metadata": {},
   "outputs": [],
   "source": [
    "event_list = event_grouped['event_name'].to_list() # создадим список с названиями событий"
   ]
  },
  {
   "cell_type": "code",
   "execution_count": 100,
   "metadata": {},
   "outputs": [
    {
     "name": "stdout",
     "output_type": "stream",
     "text": [
      "\u001b[1mСобытие: Tutorial\u001b[0m\n",
      "Число пользователей из группы [246] , совершивших событие \u001b[1mTutorial\u001b[0m : 278\n",
      "Доля пользователй относительно общего числа пользователей в группе: 0.11191626409017713\n",
      "------\n",
      "Число пользователей из группы 247 , совершивших событие \u001b[1mTutorial\u001b[0m : 283\n",
      "Доля пользователй относительно общего числа пользователей в группе: 0.11261440509351373\n",
      "------\n",
      "\u001b[1mp-значение: \u001b[0m 0.9376996189257114\n",
      "\u001b[31mНе получилось отвергнуть нулевую гипотезу, нет оснований считать доли разными.\u001b[0m\n",
      "===================================================================================\n",
      "\u001b[1mСобытие: PaymentScreenSuccessful\u001b[0m\n",
      "Число пользователей из группы [246] , совершивших событие \u001b[1mPaymentScreenSuccessful\u001b[0m : 1200\n",
      "Доля пользователй относительно общего числа пользователей в группе: 0.4830917874396135\n",
      "------\n",
      "Число пользователей из группы 247 , совершивших событие \u001b[1mPaymentScreenSuccessful\u001b[0m : 1158\n",
      "Доля пользователй относительно общего числа пользователей в группе: 0.46080382013529647\n",
      "------\n",
      "\u001b[1mp-значение: \u001b[0m 0.11456679313141849\n",
      "\u001b[31mНе получилось отвергнуть нулевую гипотезу, нет оснований считать доли разными.\u001b[0m\n",
      "===================================================================================\n",
      "\u001b[1mСобытие: CartScreenAppear\u001b[0m\n",
      "Число пользователей из группы [246] , совершивших событие \u001b[1mCartScreenAppear\u001b[0m : 1266\n",
      "Доля пользователй относительно общего числа пользователей в группе: 0.5096618357487923\n",
      "------\n",
      "Число пользователей из группы 247 , совершивших событие \u001b[1mCartScreenAppear\u001b[0m : 1238\n",
      "Доля пользователй относительно общего числа пользователей в группе: 0.4926382809391166\n",
      "------\n",
      "\u001b[1mp-значение: \u001b[0m 0.22883372237997213\n",
      "\u001b[31mНе получилось отвергнуть нулевую гипотезу, нет оснований считать доли разными.\u001b[0m\n",
      "===================================================================================\n",
      "\u001b[1mСобытие: OffersScreenAppear\u001b[0m\n",
      "Число пользователей из группы [246] , совершивших событие \u001b[1mOffersScreenAppear\u001b[0m : 1542\n",
      "Доля пользователй относительно общего числа пользователей в группе: 0.6207729468599034\n",
      "------\n",
      "Число пользователей из группы 247 , совершивших событие \u001b[1mOffersScreenAppear\u001b[0m : 1520\n",
      "Доля пользователй относительно общего числа пользователей в группе: 0.6048547552725826\n",
      "------\n",
      "\u001b[1mp-значение: \u001b[0m 0.2480954578522181\n",
      "\u001b[31mНе получилось отвергнуть нулевую гипотезу, нет оснований считать доли разными.\u001b[0m\n",
      "===================================================================================\n",
      "\u001b[1mСобытие: MainScreenAppear\u001b[0m\n",
      "Число пользователей из группы [246] , совершивших событие \u001b[1mMainScreenAppear\u001b[0m : 2450\n",
      "Доля пользователй относительно общего числа пользователей в группе: 0.9863123993558777\n",
      "------\n",
      "Число пользователей из группы 247 , совершивших событие \u001b[1mMainScreenAppear\u001b[0m : 2476\n",
      "Доля пользователй относительно общего числа пользователей в группе: 0.9852765618782332\n",
      "------\n",
      "\u001b[1mp-значение: \u001b[0m 0.7570597232046099\n",
      "\u001b[31mНе получилось отвергнуть нулевую гипотезу, нет оснований считать доли разными.\u001b[0m\n",
      "===================================================================================\n"
     ]
    },
    {
     "data": {
      "text/plain": [
       "'END'"
      ]
     },
     "execution_count": 100,
     "metadata": {},
     "output_type": "execute_result"
    }
   ],
   "source": [
    "# вызовим функцию для проверки равенства долей контрольных групп \n",
    "\n",
    "group1 = [246]\n",
    "group2 = 247\n",
    "z_test(group1, group2, event_list)\n"
   ]
  },
  {
   "cell_type": "markdown",
   "metadata": {},
   "source": [
    "**Выводы**\n",
    "\n",
    "Самым популярным событием является показ главного экрана (MainScreenAppear). После проверки с помощью z-критерия, при уровне значимости 0,05, гипотезы о равенстве долей между группами 246 и 247 для этого события, не получилось отвергнуть нулевую гипотезу. Нет оснований считать доли разными. \n",
    "\n",
    "Аналогичная проверка была произведена для остальных четырёх событий. Проверка показала, что, при уровне значимости 0.05, во всех  случаях нет оснований отвергать нулевую гипотезу и считать доли разными. \n",
    "\n",
    "Из этого можно сделать вывод, что разбиение на группы работает корректно. "
   ]
  },
  {
   "cell_type": "markdown",
   "metadata": {},
   "source": [
    "-----------------------------------------------------------------------------"
   ]
  },
  {
   "cell_type": "markdown",
   "metadata": {},
   "source": [
    "### Проверка наличия разницы между контрольными группами и эксперементальной"
   ]
  },
  {
   "cell_type": "markdown",
   "metadata": {},
   "source": [
    "Чтобы проверить есть ли статистически значимые различия между контрольными группами и экспериментальной проведем проверку на равенство долей с помощью z-теста при уровне значимости 0.05.\n",
    "\n",
    "Н0: статистически значимых различий между группами нет.\n",
    "\n",
    "Н1: есть статистически значимые различия между группами."
   ]
  },
  {
   "cell_type": "markdown",
   "metadata": {},
   "source": [
    "#### Проверка наличия разницы между контрольной группой 246 и эксперементальной  248"
   ]
  },
  {
   "cell_type": "code",
   "execution_count": 101,
   "metadata": {},
   "outputs": [
    {
     "name": "stdout",
     "output_type": "stream",
     "text": [
      "\u001b[1mСобытие: Tutorial\u001b[0m\n",
      "Число пользователей из группы [246] , совершивших событие \u001b[1mTutorial\u001b[0m : 278\n",
      "Доля пользователй относительно общего числа пользователей в группе: 0.11191626409017713\n",
      "------\n",
      "Число пользователей из группы 248 , совершивших событие \u001b[1mTutorial\u001b[0m : 279\n",
      "Доля пользователй относительно общего числа пользователей в группе: 0.10997240835632636\n",
      "------\n",
      "\u001b[1mp-значение: \u001b[0m 0.8264294010087645\n",
      "\u001b[31mНе получилось отвергнуть нулевую гипотезу, нет оснований считать доли разными.\u001b[0m\n",
      "===================================================================================\n",
      "\u001b[1mСобытие: PaymentScreenSuccessful\u001b[0m\n",
      "Число пользователей из группы [246] , совершивших событие \u001b[1mPaymentScreenSuccessful\u001b[0m : 1200\n",
      "Доля пользователй относительно общего числа пользователей в группе: 0.4830917874396135\n",
      "------\n",
      "Число пользователей из группы 248 , совершивших событие \u001b[1mPaymentScreenSuccessful\u001b[0m : 1181\n",
      "Доля пользователй относительно общего числа пользователей в группе: 0.46551044540796216\n",
      "------\n",
      "\u001b[1mp-значение: \u001b[0m 0.2122553275697796\n",
      "\u001b[31mНе получилось отвергнуть нулевую гипотезу, нет оснований считать доли разными.\u001b[0m\n",
      "===================================================================================\n",
      "\u001b[1mСобытие: CartScreenAppear\u001b[0m\n",
      "Число пользователей из группы [246] , совершивших событие \u001b[1mCartScreenAppear\u001b[0m : 1266\n",
      "Доля пользователй относительно общего числа пользователей в группе: 0.5096618357487923\n",
      "------\n",
      "Число пользователей из группы 248 , совершивших событие \u001b[1mCartScreenAppear\u001b[0m : 1230\n",
      "Доля пользователй относительно общего числа пользователей в группе: 0.48482459597950334\n",
      "------\n",
      "\u001b[1mp-значение: \u001b[0m 0.07842923237520116\n",
      "\u001b[31mНе получилось отвергнуть нулевую гипотезу, нет оснований считать доли разными.\u001b[0m\n",
      "===================================================================================\n",
      "\u001b[1mСобытие: OffersScreenAppear\u001b[0m\n",
      "Число пользователей из группы [246] , совершивших событие \u001b[1mOffersScreenAppear\u001b[0m : 1542\n",
      "Доля пользователй относительно общего числа пользователей в группе: 0.6207729468599034\n",
      "------\n",
      "Число пользователей из группы 248 , совершивших событие \u001b[1mOffersScreenAppear\u001b[0m : 1531\n",
      "Доля пользователй относительно общего числа пользователей в группе: 0.6034686637761135\n",
      "------\n",
      "\u001b[1mp-значение: \u001b[0m 0.20836205402738917\n",
      "\u001b[31mНе получилось отвергнуть нулевую гипотезу, нет оснований считать доли разными.\u001b[0m\n",
      "===================================================================================\n",
      "\u001b[1mСобытие: MainScreenAppear\u001b[0m\n",
      "Число пользователей из группы [246] , совершивших событие \u001b[1mMainScreenAppear\u001b[0m : 2450\n",
      "Доля пользователй относительно общего числа пользователей в группе: 0.9863123993558777\n",
      "------\n",
      "Число пользователей из группы 248 , совершивших событие \u001b[1mMainScreenAppear\u001b[0m : 2493\n",
      "Доля пользователй относительно общего числа пользователей в группе: 0.9826566811194324\n",
      "------\n",
      "\u001b[1mp-значение: \u001b[0m 0.2949721933554552\n",
      "\u001b[31mНе получилось отвергнуть нулевую гипотезу, нет оснований считать доли разными.\u001b[0m\n",
      "===================================================================================\n"
     ]
    },
    {
     "data": {
      "text/plain": [
       "'END'"
      ]
     },
     "execution_count": 101,
     "metadata": {},
     "output_type": "execute_result"
    }
   ],
   "source": [
    "# сравниваемые группы\n",
    "group1 = [246]\n",
    "group2 = 248\n",
    "\n",
    "# вызов функции\n",
    "z_test(group1, group2, event_list) \n"
   ]
  },
  {
   "cell_type": "markdown",
   "metadata": {},
   "source": [
    "#### Проверка наличия разницы между контрольной группой 247 и эксперементальной  248"
   ]
  },
  {
   "cell_type": "code",
   "execution_count": 102,
   "metadata": {},
   "outputs": [
    {
     "name": "stdout",
     "output_type": "stream",
     "text": [
      "\u001b[1mСобытие: Tutorial\u001b[0m\n",
      "Число пользователей из группы [247] , совершивших событие \u001b[1mTutorial\u001b[0m : 283\n",
      "Доля пользователй относительно общего числа пользователей в группе: 0.11261440509351373\n",
      "------\n",
      "Число пользователей из группы 248 , совершивших событие \u001b[1mTutorial\u001b[0m : 279\n",
      "Доля пользователй относительно общего числа пользователей в группе: 0.10997240835632636\n",
      "------\n",
      "\u001b[1mp-значение: \u001b[0m 0.765323922474501\n",
      "\u001b[31mНе получилось отвергнуть нулевую гипотезу, нет оснований считать доли разными.\u001b[0m\n",
      "===================================================================================\n",
      "\u001b[1mСобытие: PaymentScreenSuccessful\u001b[0m\n",
      "Число пользователей из группы [247] , совершивших событие \u001b[1mPaymentScreenSuccessful\u001b[0m : 1158\n",
      "Доля пользователй относительно общего числа пользователей в группе: 0.46080382013529647\n",
      "------\n",
      "Число пользователей из группы 248 , совершивших событие \u001b[1mPaymentScreenSuccessful\u001b[0m : 1181\n",
      "Доля пользователй относительно общего числа пользователей в группе: 0.46551044540796216\n",
      "------\n",
      "\u001b[1mp-значение: \u001b[0m 0.7373415053803964\n",
      "\u001b[31mНе получилось отвергнуть нулевую гипотезу, нет оснований считать доли разными.\u001b[0m\n",
      "===================================================================================\n",
      "\u001b[1mСобытие: CartScreenAppear\u001b[0m\n",
      "Число пользователей из группы [247] , совершивших событие \u001b[1mCartScreenAppear\u001b[0m : 1238\n",
      "Доля пользователй относительно общего числа пользователей в группе: 0.4926382809391166\n",
      "------\n",
      "Число пользователей из группы 248 , совершивших событие \u001b[1mCartScreenAppear\u001b[0m : 1230\n",
      "Доля пользователй относительно общего числа пользователей в группе: 0.48482459597950334\n",
      "------\n",
      "\u001b[1mp-значение: \u001b[0m 0.5786197879539783\n",
      "\u001b[31mНе получилось отвергнуть нулевую гипотезу, нет оснований считать доли разными.\u001b[0m\n",
      "===================================================================================\n",
      "\u001b[1mСобытие: OffersScreenAppear\u001b[0m\n",
      "Число пользователей из группы [247] , совершивших событие \u001b[1mOffersScreenAppear\u001b[0m : 1520\n",
      "Доля пользователй относительно общего числа пользователей в группе: 0.6048547552725826\n",
      "------\n",
      "Число пользователей из группы 248 , совершивших событие \u001b[1mOffersScreenAppear\u001b[0m : 1531\n",
      "Доля пользователй относительно общего числа пользователей в группе: 0.6034686637761135\n",
      "------\n",
      "\u001b[1mp-значение: \u001b[0m 0.9197817830592261\n",
      "\u001b[31mНе получилось отвергнуть нулевую гипотезу, нет оснований считать доли разными.\u001b[0m\n",
      "===================================================================================\n",
      "\u001b[1mСобытие: MainScreenAppear\u001b[0m\n",
      "Число пользователей из группы [247] , совершивших событие \u001b[1mMainScreenAppear\u001b[0m : 2476\n",
      "Доля пользователй относительно общего числа пользователей в группе: 0.9852765618782332\n",
      "------\n",
      "Число пользователей из группы 248 , совершивших событие \u001b[1mMainScreenAppear\u001b[0m : 2493\n",
      "Доля пользователй относительно общего числа пользователей в группе: 0.9826566811194324\n",
      "------\n",
      "\u001b[1mp-значение: \u001b[0m 0.4587053616621515\n",
      "\u001b[31mНе получилось отвергнуть нулевую гипотезу, нет оснований считать доли разными.\u001b[0m\n",
      "===================================================================================\n"
     ]
    },
    {
     "data": {
      "text/plain": [
       "'END'"
      ]
     },
     "execution_count": 102,
     "metadata": {},
     "output_type": "execute_result"
    }
   ],
   "source": [
    "# сравниваемые группы\n",
    "group1 = [247]\n",
    "group2 = 248\n",
    "\n",
    "# вызов функции\n",
    "z_test(group1, group2, event_list) \n"
   ]
  },
  {
   "cell_type": "markdown",
   "metadata": {},
   "source": [
    "#### Проверка наличия разницы между объединённой контрольной группой (246+247) и эксперементальной  248"
   ]
  },
  {
   "cell_type": "code",
   "execution_count": 103,
   "metadata": {},
   "outputs": [
    {
     "name": "stdout",
     "output_type": "stream",
     "text": [
      "\u001b[1mСобытие: Tutorial\u001b[0m\n",
      "Число пользователей из группы [246, 247] , совершивших событие \u001b[1mTutorial\u001b[0m : 561\n",
      "Доля пользователй относительно общего числа пользователей в группе: 0.11226736041624975\n",
      "------\n",
      "Число пользователей из группы 248 , совершивших событие \u001b[1mTutorial\u001b[0m : 279\n",
      "Доля пользователй относительно общего числа пользователей в группе: 0.10997240835632636\n",
      "------\n",
      "\u001b[1mp-значение: \u001b[0m 0.764862472531507\n",
      "\u001b[31mНе получилось отвергнуть нулевую гипотезу, нет оснований считать доли разными.\u001b[0m\n",
      "===================================================================================\n",
      "\u001b[1mСобытие: PaymentScreenSuccessful\u001b[0m\n",
      "Число пользователей из группы [246, 247] , совершивших событие \u001b[1mPaymentScreenSuccessful\u001b[0m : 2358\n",
      "Доля пользователй относительно общего числа пользователей в группе: 0.47188312987792674\n",
      "------\n",
      "Число пользователей из группы 248 , совершивших событие \u001b[1mPaymentScreenSuccessful\u001b[0m : 1181\n",
      "Доля пользователй относительно общего числа пользователей в группе: 0.46551044540796216\n",
      "------\n",
      "\u001b[1mp-значение: \u001b[0m 0.6004294282308704\n",
      "\u001b[31mНе получилось отвергнуть нулевую гипотезу, нет оснований считать доли разными.\u001b[0m\n",
      "===================================================================================\n",
      "\u001b[1mСобытие: CartScreenAppear\u001b[0m\n",
      "Число пользователей из группы [246, 247] , совершивших событие \u001b[1mCartScreenAppear\u001b[0m : 2504\n",
      "Доля пользователй относительно общего числа пользователей в группе: 0.5011006603962378\n",
      "------\n",
      "Число пользователей из группы 248 , совершивших событие \u001b[1mCartScreenAppear\u001b[0m : 1230\n",
      "Доля пользователй относительно общего числа пользователей в группе: 0.48482459597950334\n",
      "------\n",
      "\u001b[1mp-значение: \u001b[0m 0.18175875284404386\n",
      "\u001b[31mНе получилось отвергнуть нулевую гипотезу, нет оснований считать доли разными.\u001b[0m\n",
      "===================================================================================\n",
      "\u001b[1mСобытие: OffersScreenAppear\u001b[0m\n",
      "Число пользователей из группы [246, 247] , совершивших событие \u001b[1mOffersScreenAppear\u001b[0m : 3062\n",
      "Доля пользователй относительно общего числа пользователей в группе: 0.6127676605963578\n",
      "------\n",
      "Число пользователей из группы 248 , совершивших событие \u001b[1mOffersScreenAppear\u001b[0m : 1531\n",
      "Доля пользователй относительно общего числа пользователей в группе: 0.6034686637761135\n",
      "------\n",
      "\u001b[1mp-значение: \u001b[0m 0.43425549655188256\n",
      "\u001b[31mНе получилось отвергнуть нулевую гипотезу, нет оснований считать доли разными.\u001b[0m\n",
      "===================================================================================\n",
      "\u001b[1mСобытие: MainScreenAppear\u001b[0m\n",
      "Число пользователей из группы [246, 247] , совершивших событие \u001b[1mMainScreenAppear\u001b[0m : 4926\n",
      "Доля пользователй относительно общего числа пользователей в группе: 0.9857914748849309\n",
      "------\n",
      "Число пользователей из группы 248 , совершивших событие \u001b[1mMainScreenAppear\u001b[0m : 2493\n",
      "Доля пользователй относительно общего числа пользователей в группе: 0.9826566811194324\n",
      "------\n",
      "\u001b[1mp-значение: \u001b[0m 0.29424526837179577\n",
      "\u001b[31mНе получилось отвергнуть нулевую гипотезу, нет оснований считать доли разными.\u001b[0m\n",
      "===================================================================================\n"
     ]
    },
    {
     "data": {
      "text/plain": [
       "'END'"
      ]
     },
     "execution_count": 103,
     "metadata": {},
     "output_type": "execute_result"
    }
   ],
   "source": [
    "# сравниваемые группы\n",
    "group1 = [246, 247]\n",
    "group2 = 248\n",
    "\n",
    "# вызов функции\n",
    "z_test(group1, group2, event_list) \n"
   ]
  },
  {
   "cell_type": "markdown",
   "metadata": {},
   "source": [
    "**Выводы**\n",
    "\n",
    "После проверки с помощью z-критерия равенства долей между группами \n",
    "- 246 и 248,\n",
    "- 247 и 248\n",
    "- и объединенной контрольной (246+247) и 248\n",
    "\n",
    "для всех пяти событий, при уровне значимости 0.05, статистически значимых различий между долями выявлено не было. При данном уровне значимости нет оснований отвергать нулевую гипотезу. \n",
    "\n",
    "Всего было сделано 15 проверок статистических гипотез. По три проверки для каждого события. В каждом из сравнений мы могли с вероятностью 5% получить ошибку. При множественном сравнении вероятность ошибиться хотя бы раз за k сравнений равна 1-(1-alpha)^k. То есть в нашем случае вероятность ошибиться около 0.14. Для снижения вероятности ложнопозитивного результата при множественном тестировании гипотез можно применить, например, метод Бонферрони, где alpha делят на кол-во сравнений. В нашем случае было бы 0.05/3 = 0.017. Однако, если мы рассмотрим полученные p-value, то увидим, что все они значительно больше 0.017, и введение поправки не изменит результат проверки гипотез. \n"
   ]
  },
  {
   "cell_type": "markdown",
   "metadata": {},
   "source": [
    "## Общие выводы"
   ]
  },
  {
   "cell_type": "markdown",
   "metadata": {},
   "source": [
    "Были изучены данные лога за период с 25 июля по 7 августа 2019.\n",
    "Было выявлено, что в данных присутствуют дубликаты. Они были удалены. Также часть данных из лога была устаревшей. Эти данные были отброшены и в дальнейшем исследовании рассматривались данные за период с 1 по 7 августа 2019 включительно. \n",
    "\n",
    "Всего зарегистрировано 243713 событий за исследуемый период.\n",
    "Эти события подразделяются на 5 типов: \n",
    "* MainScreenAppear - Показ главной страницы\n",
    "* OffersScreenAppear - Показ страницы предложений\n",
    "* CartScreenAppear - Показ корзины\n",
    "* PaymentScreenSuccessful - Показ страницы с сообщением об успешной оплате\n",
    "* Tutorial - Руководство/Инструкция      \n",
    "\n",
    "В логе присутствуют 7551 уникальных пользователя. \n",
    "В среднем на каждого пользователя приходятся 32 события. Однако в данных присутствуют аномальные пользователи, с большим кол-вом событий. Медианное значение - 20 событий на пользователя. \n",
    "\n",
    "Наиболее популярное событие - показ главной страницы. Только 61% пользователей после этого переходит на страницу с предложениями. 95% пользователей, добавивших товар в корзину, успешно покупают его. От изначального кол-ва пользователей 48% дошли до успешной оплаты товара. \n",
    "\n",
    "Также в ходе исследования были изучены данные А\\А\\В-теста. \n",
    "\n",
    "* Кол-во уникальных пользователей в группе А1 (№246): 2489\n",
    "* Кол-во уникальных пользователей в группе А2 (№247): 2520\n",
    "* Кол-во уникальных пользователей в группе B (№248): 2542\n",
    "\n",
    "Проверка на равенство долей с помощью z-критерия между контрольными группами 246 и 247 показала, что разбиение на группы было произведено корректно. При уровне значимости 0.05 нет статистически значимых различий между двумя контрольными группами для всех пяти событий.\n",
    "\n",
    "Также, при том же уровне значимости, не было выявлено статистически значимых различий между контрольными группами и экспериментальной. Внедрение нового шрифта никак не сказалось на поведение пользователей. "
   ]
  }
 ],
 "metadata": {
  "ExecuteTimeLog": [
   {
    "duration": 404,
    "start_time": "2023-02-28T10:12:57.384Z"
   },
   {
    "duration": 92,
    "start_time": "2023-02-28T10:13:47.879Z"
   },
   {
    "duration": 821,
    "start_time": "2023-02-28T10:13:52.910Z"
   },
   {
    "duration": 14,
    "start_time": "2023-02-28T10:14:06.678Z"
   },
   {
    "duration": 47,
    "start_time": "2023-02-28T10:14:23.468Z"
   },
   {
    "duration": 145,
    "start_time": "2023-02-28T10:16:15.130Z"
   },
   {
    "duration": 7,
    "start_time": "2023-02-28T10:16:17.098Z"
   },
   {
    "duration": 31,
    "start_time": "2023-02-28T10:17:12.633Z"
   },
   {
    "duration": 276,
    "start_time": "2023-02-28T10:26:15.442Z"
   },
   {
    "duration": 6,
    "start_time": "2023-02-28T10:26:16.788Z"
   },
   {
    "duration": 137,
    "start_time": "2023-02-28T10:26:34.032Z"
   },
   {
    "duration": 8,
    "start_time": "2023-02-28T10:26:34.540Z"
   },
   {
    "duration": 386,
    "start_time": "2023-02-28T10:32:39.003Z"
   },
   {
    "duration": 10,
    "start_time": "2023-02-28T10:33:35.908Z"
   },
   {
    "duration": 8,
    "start_time": "2023-02-28T10:33:50.644Z"
   },
   {
    "duration": 4,
    "start_time": "2023-02-28T10:45:50.788Z"
   },
   {
    "duration": 3,
    "start_time": "2023-02-28T10:47:57.825Z"
   },
   {
    "duration": 44,
    "start_time": "2023-02-28T10:48:41.514Z"
   },
   {
    "duration": 8,
    "start_time": "2023-02-28T10:49:06.525Z"
   },
   {
    "duration": 18,
    "start_time": "2023-02-28T10:49:33.408Z"
   },
   {
    "duration": 16,
    "start_time": "2023-02-28T10:49:41.210Z"
   },
   {
    "duration": 6,
    "start_time": "2023-02-28T10:50:52.511Z"
   },
   {
    "duration": 21,
    "start_time": "2023-02-28T10:51:11.044Z"
   },
   {
    "duration": 54,
    "start_time": "2023-02-28T10:53:13.336Z"
   },
   {
    "duration": 157,
    "start_time": "2023-02-28T10:53:18.027Z"
   },
   {
    "duration": 11,
    "start_time": "2023-02-28T10:53:51.733Z"
   },
   {
    "duration": 56,
    "start_time": "2023-02-28T10:56:18.995Z"
   },
   {
    "duration": 53,
    "start_time": "2023-02-28T10:56:30.023Z"
   },
   {
    "duration": 54,
    "start_time": "2023-02-28T11:00:12.650Z"
   },
   {
    "duration": 75,
    "start_time": "2023-02-28T11:02:20.321Z"
   },
   {
    "duration": 18,
    "start_time": "2023-02-28T11:04:12.238Z"
   },
   {
    "duration": 14,
    "start_time": "2023-02-28T11:04:22.789Z"
   },
   {
    "duration": 10,
    "start_time": "2023-02-28T11:04:35.181Z"
   },
   {
    "duration": 11,
    "start_time": "2023-02-28T11:04:48.527Z"
   },
   {
    "duration": 65,
    "start_time": "2023-02-28T11:05:44.479Z"
   },
   {
    "duration": 15,
    "start_time": "2023-02-28T11:06:13.118Z"
   },
   {
    "duration": 156,
    "start_time": "2023-02-28T11:09:03.163Z"
   },
   {
    "duration": 3,
    "start_time": "2023-02-28T11:12:50.807Z"
   },
   {
    "duration": 8,
    "start_time": "2023-02-28T11:12:51.340Z"
   },
   {
    "duration": 9,
    "start_time": "2023-02-28T11:12:52.725Z"
   },
   {
    "duration": 68,
    "start_time": "2023-02-28T11:13:01.338Z"
   },
   {
    "duration": 68,
    "start_time": "2023-02-28T11:13:04.525Z"
   },
   {
    "duration": 14,
    "start_time": "2023-02-28T11:13:17.432Z"
   },
   {
    "duration": 84,
    "start_time": "2023-02-28T11:23:46.895Z"
   },
   {
    "duration": 9,
    "start_time": "2023-02-28T11:23:49.141Z"
   },
   {
    "duration": 98,
    "start_time": "2023-02-28T15:43:50.703Z"
   },
   {
    "duration": 3,
    "start_time": "2023-02-28T15:43:58.470Z"
   },
   {
    "duration": 8,
    "start_time": "2023-02-28T15:45:22.106Z"
   },
   {
    "duration": 8,
    "start_time": "2023-02-28T15:45:32.686Z"
   },
   {
    "duration": 6,
    "start_time": "2023-02-28T15:47:00.822Z"
   },
   {
    "duration": 7,
    "start_time": "2023-02-28T15:47:23.364Z"
   },
   {
    "duration": 9,
    "start_time": "2023-02-28T15:47:43.220Z"
   },
   {
    "duration": 6,
    "start_time": "2023-02-28T15:52:14.340Z"
   },
   {
    "duration": 646,
    "start_time": "2023-02-28T15:52:44.514Z"
   },
   {
    "duration": 369,
    "start_time": "2023-02-28T15:53:17.206Z"
   },
   {
    "duration": 3,
    "start_time": "2023-02-28T15:54:33.710Z"
   },
   {
    "duration": 216,
    "start_time": "2023-02-28T15:56:26.119Z"
   },
   {
    "duration": 289,
    "start_time": "2023-02-28T15:56:34.897Z"
   },
   {
    "duration": 288,
    "start_time": "2023-02-28T15:56:56.196Z"
   },
   {
    "duration": 312,
    "start_time": "2023-02-28T16:00:30.826Z"
   },
   {
    "duration": 321,
    "start_time": "2023-02-28T16:03:09.291Z"
   },
   {
    "duration": 418,
    "start_time": "2023-02-28T16:04:11.705Z"
   },
   {
    "duration": 351,
    "start_time": "2023-02-28T16:08:33.322Z"
   },
   {
    "duration": 70,
    "start_time": "2023-02-28T16:09:29.025Z"
   },
   {
    "duration": 355,
    "start_time": "2023-02-28T16:10:10.948Z"
   },
   {
    "duration": 368,
    "start_time": "2023-02-28T16:11:52.626Z"
   },
   {
    "duration": 380,
    "start_time": "2023-02-28T16:15:53.313Z"
   },
   {
    "duration": 621,
    "start_time": "2023-02-28T16:16:11.288Z"
   },
   {
    "duration": 443,
    "start_time": "2023-02-28T16:24:57.747Z"
   },
   {
    "duration": 444,
    "start_time": "2023-02-28T16:25:08.246Z"
   },
   {
    "duration": 530,
    "start_time": "2023-02-28T16:26:30.272Z"
   },
   {
    "duration": 439,
    "start_time": "2023-02-28T16:26:43.224Z"
   },
   {
    "duration": 523,
    "start_time": "2023-02-28T16:27:20.048Z"
   },
   {
    "duration": 7,
    "start_time": "2023-02-28T16:27:58.337Z"
   },
   {
    "duration": 533,
    "start_time": "2023-02-28T16:28:03.641Z"
   },
   {
    "duration": 421,
    "start_time": "2023-02-28T16:28:17.243Z"
   },
   {
    "duration": 342,
    "start_time": "2023-02-28T16:28:54.368Z"
   },
   {
    "duration": 350,
    "start_time": "2023-02-28T16:30:24.574Z"
   },
   {
    "duration": 409,
    "start_time": "2023-02-28T16:30:33.563Z"
   },
   {
    "duration": 496,
    "start_time": "2023-02-28T16:30:46.004Z"
   },
   {
    "duration": 353,
    "start_time": "2023-02-28T16:31:23.330Z"
   },
   {
    "duration": 376,
    "start_time": "2023-02-28T16:31:33.475Z"
   },
   {
    "duration": 368,
    "start_time": "2023-02-28T16:32:24.371Z"
   },
   {
    "duration": 339,
    "start_time": "2023-02-28T16:32:36.164Z"
   },
   {
    "duration": 366,
    "start_time": "2023-02-28T16:32:47.749Z"
   },
   {
    "duration": 569,
    "start_time": "2023-02-28T16:34:33.248Z"
   },
   {
    "duration": 103,
    "start_time": "2023-02-28T16:38:24.360Z"
   },
   {
    "duration": 156,
    "start_time": "2023-02-28T16:39:09.910Z"
   },
   {
    "duration": 3,
    "start_time": "2023-02-28T16:39:15.578Z"
   },
   {
    "duration": 9,
    "start_time": "2023-02-28T16:39:20.399Z"
   },
   {
    "duration": 6,
    "start_time": "2023-02-28T16:39:24.584Z"
   },
   {
    "duration": 6,
    "start_time": "2023-02-28T16:39:29.603Z"
   },
   {
    "duration": 456,
    "start_time": "2023-02-28T16:39:43.202Z"
   },
   {
    "duration": 14,
    "start_time": "2023-02-28T16:44:03.180Z"
   },
   {
    "duration": 494,
    "start_time": "2023-02-28T16:44:18.520Z"
   },
   {
    "duration": 219,
    "start_time": "2023-02-28T16:44:33.654Z"
   },
   {
    "duration": 365,
    "start_time": "2023-02-28T16:44:50.257Z"
   },
   {
    "duration": 30,
    "start_time": "2023-02-28T16:45:04.867Z"
   },
   {
    "duration": 54,
    "start_time": "2023-02-28T16:45:47.008Z"
   },
   {
    "duration": 6,
    "start_time": "2023-02-28T16:46:20.176Z"
   },
   {
    "duration": 413,
    "start_time": "2023-02-28T16:46:23.755Z"
   },
   {
    "duration": 23,
    "start_time": "2023-02-28T16:47:10.898Z"
   },
   {
    "duration": 324,
    "start_time": "2023-02-28T16:47:13.411Z"
   },
   {
    "duration": 352,
    "start_time": "2023-02-28T16:47:28.078Z"
   },
   {
    "duration": 6,
    "start_time": "2023-02-28T16:52:42.766Z"
   },
   {
    "duration": 8,
    "start_time": "2023-02-28T16:54:45.599Z"
   },
   {
    "duration": 12,
    "start_time": "2023-02-28T16:56:08.596Z"
   },
   {
    "duration": 17,
    "start_time": "2023-02-28T16:58:08.715Z"
   },
   {
    "duration": 19,
    "start_time": "2023-02-28T17:00:08.547Z"
   },
   {
    "duration": 39,
    "start_time": "2023-02-28T17:18:10.353Z"
   },
   {
    "duration": 37,
    "start_time": "2023-02-28T17:20:02.246Z"
   },
   {
    "duration": 27,
    "start_time": "2023-02-28T17:22:39.963Z"
   },
   {
    "duration": 60,
    "start_time": "2023-02-28T17:24:13.552Z"
   },
   {
    "duration": 41,
    "start_time": "2023-02-28T17:25:02.972Z"
   },
   {
    "duration": 76,
    "start_time": "2023-02-28T17:25:18.621Z"
   },
   {
    "duration": 17,
    "start_time": "2023-02-28T17:41:07.857Z"
   },
   {
    "duration": 37,
    "start_time": "2023-02-28T17:51:40.178Z"
   },
   {
    "duration": 53,
    "start_time": "2023-02-28T17:53:54.085Z"
   },
   {
    "duration": 33,
    "start_time": "2023-02-28T17:58:36.887Z"
   },
   {
    "duration": 31,
    "start_time": "2023-02-28T18:05:20.647Z"
   },
   {
    "duration": 26,
    "start_time": "2023-02-28T18:05:44.256Z"
   },
   {
    "duration": 49,
    "start_time": "2023-02-28T18:06:01.698Z"
   },
   {
    "duration": 5,
    "start_time": "2023-02-28T18:06:59.367Z"
   },
   {
    "duration": 46,
    "start_time": "2023-02-28T18:48:21.779Z"
   },
   {
    "duration": 33,
    "start_time": "2023-02-28T18:49:48.563Z"
   },
   {
    "duration": 45,
    "start_time": "2023-02-28T18:49:57.490Z"
   },
   {
    "duration": 39,
    "start_time": "2023-02-28T18:50:20.564Z"
   },
   {
    "duration": 36,
    "start_time": "2023-02-28T18:50:28.116Z"
   },
   {
    "duration": 13,
    "start_time": "2023-02-28T19:02:25.388Z"
   },
   {
    "duration": 37,
    "start_time": "2023-02-28T19:04:04.251Z"
   },
   {
    "duration": 35,
    "start_time": "2023-02-28T19:04:56.955Z"
   },
   {
    "duration": 47,
    "start_time": "2023-02-28T19:05:19.895Z"
   },
   {
    "duration": 71,
    "start_time": "2023-02-28T19:07:46.402Z"
   },
   {
    "duration": 80,
    "start_time": "2023-02-28T19:08:11.842Z"
   },
   {
    "duration": 57,
    "start_time": "2023-02-28T19:08:21.450Z"
   },
   {
    "duration": 68,
    "start_time": "2023-02-28T19:08:39.096Z"
   },
   {
    "duration": 59,
    "start_time": "2023-02-28T19:09:00.905Z"
   },
   {
    "duration": 32,
    "start_time": "2023-02-28T19:13:31.324Z"
   },
   {
    "duration": 71,
    "start_time": "2023-02-28T19:13:42.145Z"
   },
   {
    "duration": 65,
    "start_time": "2023-02-28T19:18:26.975Z"
   },
   {
    "duration": 72,
    "start_time": "2023-02-28T19:18:37.227Z"
   },
   {
    "duration": 93,
    "start_time": "2023-02-28T19:21:18.690Z"
   },
   {
    "duration": 100,
    "start_time": "2023-02-28T19:21:56.565Z"
   },
   {
    "duration": 101,
    "start_time": "2023-02-28T19:24:25.207Z"
   },
   {
    "duration": 94,
    "start_time": "2023-02-28T19:24:34.025Z"
   },
   {
    "duration": 82,
    "start_time": "2023-02-28T19:25:01.898Z"
   },
   {
    "duration": 5,
    "start_time": "2023-02-28T20:54:33.006Z"
   },
   {
    "duration": 4,
    "start_time": "2023-02-28T20:55:08.766Z"
   },
   {
    "duration": 5,
    "start_time": "2023-02-28T20:58:00.450Z"
   },
   {
    "duration": 9,
    "start_time": "2023-02-28T21:00:39.870Z"
   },
   {
    "duration": 670,
    "start_time": "2023-02-28T21:01:43.985Z"
   },
   {
    "duration": 939,
    "start_time": "2023-02-28T21:08:44.142Z"
   },
   {
    "duration": 781,
    "start_time": "2023-02-28T21:09:15.949Z"
   },
   {
    "duration": 4,
    "start_time": "2023-02-28T21:12:29.442Z"
   },
   {
    "duration": 9,
    "start_time": "2023-02-28T21:12:40.486Z"
   },
   {
    "duration": 11,
    "start_time": "2023-02-28T21:13:48.063Z"
   },
   {
    "duration": 4,
    "start_time": "2023-02-28T21:14:00.901Z"
   },
   {
    "duration": 3,
    "start_time": "2023-02-28T21:14:08.014Z"
   },
   {
    "duration": 5,
    "start_time": "2023-02-28T21:14:14.878Z"
   },
   {
    "duration": 9,
    "start_time": "2023-02-28T21:16:41.919Z"
   },
   {
    "duration": 8,
    "start_time": "2023-02-28T21:16:48.827Z"
   },
   {
    "duration": 7,
    "start_time": "2023-02-28T21:18:13.119Z"
   },
   {
    "duration": 9,
    "start_time": "2023-02-28T21:18:36.102Z"
   },
   {
    "duration": 6,
    "start_time": "2023-02-28T21:19:19.099Z"
   },
   {
    "duration": 8,
    "start_time": "2023-02-28T21:19:22.782Z"
   },
   {
    "duration": 63,
    "start_time": "2023-02-28T21:19:42.514Z"
   },
   {
    "duration": 8,
    "start_time": "2023-02-28T21:19:50.563Z"
   },
   {
    "duration": 7,
    "start_time": "2023-02-28T21:19:56.651Z"
   },
   {
    "duration": 8,
    "start_time": "2023-02-28T21:19:59.611Z"
   },
   {
    "duration": 7,
    "start_time": "2023-02-28T21:20:06.828Z"
   },
   {
    "duration": 9,
    "start_time": "2023-02-28T21:20:08.449Z"
   },
   {
    "duration": 10,
    "start_time": "2023-02-28T21:21:03.283Z"
   },
   {
    "duration": 9,
    "start_time": "2023-02-28T21:22:24.063Z"
   },
   {
    "duration": 9,
    "start_time": "2023-02-28T21:22:39.978Z"
   },
   {
    "duration": 8,
    "start_time": "2023-02-28T21:22:54.508Z"
   },
   {
    "duration": 107,
    "start_time": "2023-02-28T21:25:51.153Z"
   },
   {
    "duration": 102,
    "start_time": "2023-02-28T21:28:59.629Z"
   },
   {
    "duration": 106,
    "start_time": "2023-02-28T21:29:22.672Z"
   },
   {
    "duration": 141,
    "start_time": "2023-02-28T21:33:13.170Z"
   },
   {
    "duration": 282,
    "start_time": "2023-02-28T21:34:07.149Z"
   },
   {
    "duration": 148,
    "start_time": "2023-02-28T21:34:21.482Z"
   },
   {
    "duration": 231,
    "start_time": "2023-02-28T21:34:46.056Z"
   },
   {
    "duration": 11,
    "start_time": "2023-02-28T21:39:02.024Z"
   },
   {
    "duration": 141,
    "start_time": "2023-02-28T21:42:33.920Z"
   },
   {
    "duration": 130,
    "start_time": "2023-02-28T21:42:51.226Z"
   },
   {
    "duration": 739,
    "start_time": "2023-03-01T13:37:03.977Z"
   },
   {
    "duration": 728,
    "start_time": "2023-03-01T13:37:10.837Z"
   },
   {
    "duration": 3,
    "start_time": "2023-03-01T13:37:16.753Z"
   },
   {
    "duration": 79,
    "start_time": "2023-03-01T13:37:18.005Z"
   },
   {
    "duration": 137,
    "start_time": "2023-03-01T13:37:27.205Z"
   },
   {
    "duration": 28,
    "start_time": "2023-03-01T13:38:35.706Z"
   },
   {
    "duration": 81,
    "start_time": "2023-03-01T13:40:41.916Z"
   },
   {
    "duration": 761,
    "start_time": "2023-03-01T13:52:34.983Z"
   },
   {
    "duration": 9,
    "start_time": "2023-03-01T13:52:49.337Z"
   },
   {
    "duration": 8,
    "start_time": "2023-03-01T13:52:54.244Z"
   },
   {
    "duration": 9,
    "start_time": "2023-03-01T13:52:58.413Z"
   },
   {
    "duration": 7,
    "start_time": "2023-03-01T13:56:49.452Z"
   },
   {
    "duration": 9,
    "start_time": "2023-03-01T13:57:01.997Z"
   },
   {
    "duration": 153,
    "start_time": "2023-03-01T13:57:07.983Z"
   },
   {
    "duration": 32,
    "start_time": "2023-03-01T14:16:33.326Z"
   },
   {
    "duration": 3,
    "start_time": "2023-03-01T16:11:04.125Z"
   },
   {
    "duration": 3,
    "start_time": "2023-03-01T16:15:49.082Z"
   },
   {
    "duration": 16,
    "start_time": "2023-03-01T16:24:47.161Z"
   },
   {
    "duration": 20,
    "start_time": "2023-03-01T16:35:25.627Z"
   },
   {
    "duration": 17,
    "start_time": "2023-03-01T16:38:36.933Z"
   },
   {
    "duration": 17,
    "start_time": "2023-03-01T16:38:47.872Z"
   },
   {
    "duration": 24,
    "start_time": "2023-03-01T16:48:18.421Z"
   },
   {
    "duration": 24,
    "start_time": "2023-03-01T16:48:19.293Z"
   },
   {
    "duration": 50,
    "start_time": "2023-03-01T16:53:06.693Z"
   },
   {
    "duration": 404,
    "start_time": "2023-03-01T16:53:36.462Z"
   },
   {
    "duration": 45,
    "start_time": "2023-03-01T16:53:41.728Z"
   },
   {
    "duration": 3,
    "start_time": "2023-03-01T16:54:13.312Z"
   },
   {
    "duration": 42,
    "start_time": "2023-03-01T16:54:20.712Z"
   },
   {
    "duration": 70,
    "start_time": "2023-03-01T16:57:53.284Z"
   },
   {
    "duration": 32,
    "start_time": "2023-03-01T16:58:52.626Z"
   },
   {
    "duration": 5,
    "start_time": "2023-03-01T16:58:56.336Z"
   },
   {
    "duration": 39,
    "start_time": "2023-03-01T16:59:29.616Z"
   },
   {
    "duration": 1283,
    "start_time": "2023-03-01T17:42:57.454Z"
   },
   {
    "duration": 524,
    "start_time": "2023-03-01T17:42:58.739Z"
   },
   {
    "duration": 13,
    "start_time": "2023-03-01T17:42:59.265Z"
   },
   {
    "duration": 24,
    "start_time": "2023-03-01T17:42:59.280Z"
   },
   {
    "duration": 6,
    "start_time": "2023-03-01T17:42:59.306Z"
   },
   {
    "duration": 22,
    "start_time": "2023-03-01T17:42:59.314Z"
   },
   {
    "duration": 98,
    "start_time": "2023-03-01T17:42:59.338Z"
   },
   {
    "duration": 10,
    "start_time": "2023-03-01T17:42:59.438Z"
   },
   {
    "duration": 22,
    "start_time": "2023-03-01T17:42:59.450Z"
   },
   {
    "duration": 5,
    "start_time": "2023-03-01T17:42:59.475Z"
   },
   {
    "duration": 19,
    "start_time": "2023-03-01T17:42:59.481Z"
   },
   {
    "duration": 121,
    "start_time": "2023-03-01T17:42:59.502Z"
   },
   {
    "duration": 114,
    "start_time": "2023-03-01T17:42:59.624Z"
   },
   {
    "duration": 15,
    "start_time": "2023-03-01T17:42:59.740Z"
   },
   {
    "duration": 129,
    "start_time": "2023-03-01T17:42:59.756Z"
   },
   {
    "duration": 3,
    "start_time": "2023-03-01T17:42:59.887Z"
   },
   {
    "duration": 57,
    "start_time": "2023-03-01T17:42:59.892Z"
   },
   {
    "duration": 44,
    "start_time": "2023-03-01T17:42:59.951Z"
   },
   {
    "duration": 5,
    "start_time": "2023-03-01T17:42:59.997Z"
   },
   {
    "duration": 55,
    "start_time": "2023-03-01T17:43:00.004Z"
   },
   {
    "duration": 65,
    "start_time": "2023-03-01T17:43:00.061Z"
   },
   {
    "duration": 5,
    "start_time": "2023-03-01T17:43:00.128Z"
   },
   {
    "duration": 73,
    "start_time": "2023-03-01T17:43:00.135Z"
   },
   {
    "duration": 6,
    "start_time": "2023-03-01T17:43:00.210Z"
   },
   {
    "duration": 494,
    "start_time": "2023-03-01T17:43:00.218Z"
   },
   {
    "duration": 25,
    "start_time": "2023-03-01T17:43:00.714Z"
   },
   {
    "duration": 360,
    "start_time": "2023-03-01T17:43:00.741Z"
   },
   {
    "duration": 6,
    "start_time": "2023-03-01T17:43:01.105Z"
   },
   {
    "duration": 32,
    "start_time": "2023-03-01T17:43:01.113Z"
   },
   {
    "duration": 29,
    "start_time": "2023-03-01T17:43:01.147Z"
   },
   {
    "duration": 54,
    "start_time": "2023-03-01T17:43:01.179Z"
   },
   {
    "duration": 33,
    "start_time": "2023-03-01T17:43:01.235Z"
   },
   {
    "duration": 32,
    "start_time": "2023-03-01T17:43:01.271Z"
   },
   {
    "duration": 96,
    "start_time": "2023-03-01T17:43:01.304Z"
   },
   {
    "duration": 9,
    "start_time": "2023-03-01T17:43:01.402Z"
   },
   {
    "duration": 32,
    "start_time": "2023-03-01T17:43:01.413Z"
   },
   {
    "duration": 44,
    "start_time": "2023-03-01T17:43:01.447Z"
   },
   {
    "duration": 178,
    "start_time": "2023-03-01T17:43:01.492Z"
   },
   {
    "duration": 38,
    "start_time": "2023-03-01T17:43:01.672Z"
   },
   {
    "duration": 29,
    "start_time": "2023-03-01T17:43:31.612Z"
   },
   {
    "duration": 26,
    "start_time": "2023-03-01T17:43:33.273Z"
   },
   {
    "duration": 28,
    "start_time": "2023-03-01T17:44:01.363Z"
   },
   {
    "duration": 25,
    "start_time": "2023-03-01T17:44:02.183Z"
   },
   {
    "duration": 42,
    "start_time": "2023-03-01T17:44:07.807Z"
   },
   {
    "duration": 105,
    "start_time": "2023-03-01T17:44:11.087Z"
   },
   {
    "duration": 2,
    "start_time": "2023-03-01T17:44:18.081Z"
   },
   {
    "duration": 6,
    "start_time": "2023-03-01T17:44:22.201Z"
   },
   {
    "duration": 7,
    "start_time": "2023-03-01T18:21:57.739Z"
   },
   {
    "duration": 5,
    "start_time": "2023-03-01T18:22:18.803Z"
   },
   {
    "duration": 38,
    "start_time": "2023-03-01T18:23:11.219Z"
   },
   {
    "duration": 32,
    "start_time": "2023-03-01T18:23:53.092Z"
   },
   {
    "duration": 6,
    "start_time": "2023-03-01T18:24:20.577Z"
   },
   {
    "duration": 48,
    "start_time": "2023-03-01T18:24:24.662Z"
   },
   {
    "duration": 6,
    "start_time": "2023-03-01T18:25:53.005Z"
   },
   {
    "duration": 48,
    "start_time": "2023-03-01T18:25:55.480Z"
   },
   {
    "duration": 45,
    "start_time": "2023-03-01T18:27:20.614Z"
   },
   {
    "duration": 25,
    "start_time": "2023-03-01T18:27:38.686Z"
   },
   {
    "duration": 23,
    "start_time": "2023-03-01T18:27:57.706Z"
   },
   {
    "duration": 43,
    "start_time": "2023-03-01T18:28:04.559Z"
   },
   {
    "duration": 6,
    "start_time": "2023-03-01T18:28:09.288Z"
   },
   {
    "duration": 7,
    "start_time": "2023-03-01T18:29:08.551Z"
   },
   {
    "duration": 47,
    "start_time": "2023-03-01T18:29:10.322Z"
   },
   {
    "duration": 46,
    "start_time": "2023-03-01T18:37:06.619Z"
   },
   {
    "duration": 42,
    "start_time": "2023-03-01T18:40:21.100Z"
   },
   {
    "duration": 43,
    "start_time": "2023-03-01T18:40:35.976Z"
   },
   {
    "duration": 41,
    "start_time": "2023-03-01T18:40:50.484Z"
   },
   {
    "duration": 54,
    "start_time": "2023-03-01T18:41:02.168Z"
   },
   {
    "duration": 43,
    "start_time": "2023-03-01T18:42:29.923Z"
   },
   {
    "duration": 24,
    "start_time": "2023-03-01T18:43:01.117Z"
   },
   {
    "duration": 24,
    "start_time": "2023-03-01T18:43:02.379Z"
   },
   {
    "duration": 41,
    "start_time": "2023-03-01T18:43:09.093Z"
   },
   {
    "duration": 5,
    "start_time": "2023-03-01T18:43:17.862Z"
   },
   {
    "duration": 6,
    "start_time": "2023-03-01T18:45:43.572Z"
   },
   {
    "duration": 51,
    "start_time": "2023-03-01T18:45:47.119Z"
   },
   {
    "duration": 43,
    "start_time": "2023-03-01T18:45:56.416Z"
   },
   {
    "duration": 51,
    "start_time": "2023-03-01T18:46:07.154Z"
   },
   {
    "duration": 46,
    "start_time": "2023-03-01T18:46:12.975Z"
   },
   {
    "duration": 44,
    "start_time": "2023-03-01T18:47:03.373Z"
   },
   {
    "duration": 55,
    "start_time": "2023-03-01T19:25:57.848Z"
   },
   {
    "duration": 3,
    "start_time": "2023-03-01T19:28:33.488Z"
   },
   {
    "duration": 5,
    "start_time": "2023-03-01T19:28:39.004Z"
   },
   {
    "duration": 9,
    "start_time": "2023-03-01T19:29:00.382Z"
   },
   {
    "duration": 4,
    "start_time": "2023-03-01T19:29:16.416Z"
   },
   {
    "duration": 218,
    "start_time": "2023-03-01T19:31:23.572Z"
   },
   {
    "duration": 228,
    "start_time": "2023-03-01T19:32:10.449Z"
   },
   {
    "duration": 217,
    "start_time": "2023-03-01T19:32:24.161Z"
   },
   {
    "duration": 201,
    "start_time": "2023-03-01T19:33:23.009Z"
   },
   {
    "duration": 5,
    "start_time": "2023-03-01T19:35:28.496Z"
   },
   {
    "duration": 3,
    "start_time": "2023-03-01T19:36:18.826Z"
   },
   {
    "duration": 208,
    "start_time": "2023-03-01T19:38:05.855Z"
   },
   {
    "duration": 207,
    "start_time": "2023-03-01T19:38:27.160Z"
   },
   {
    "duration": 199,
    "start_time": "2023-03-01T19:38:55.945Z"
   },
   {
    "duration": 210,
    "start_time": "2023-03-01T19:39:03.927Z"
   },
   {
    "duration": 221,
    "start_time": "2023-03-01T19:39:12.522Z"
   },
   {
    "duration": 208,
    "start_time": "2023-03-01T19:39:52.257Z"
   },
   {
    "duration": 223,
    "start_time": "2023-03-01T19:40:32.746Z"
   },
   {
    "duration": 7,
    "start_time": "2023-03-01T19:43:13.898Z"
   },
   {
    "duration": 26,
    "start_time": "2023-03-01T19:43:19.189Z"
   },
   {
    "duration": 6,
    "start_time": "2023-03-01T19:44:26.322Z"
   },
   {
    "duration": 216,
    "start_time": "2023-03-01T19:44:31.585Z"
   },
   {
    "duration": 215,
    "start_time": "2023-03-01T19:45:20.633Z"
   },
   {
    "duration": 216,
    "start_time": "2023-03-01T19:45:36.329Z"
   },
   {
    "duration": 6,
    "start_time": "2023-03-01T19:48:40.065Z"
   },
   {
    "duration": 220,
    "start_time": "2023-03-01T19:48:45.847Z"
   },
   {
    "duration": 210,
    "start_time": "2023-03-01T19:50:19.517Z"
   },
   {
    "duration": 4,
    "start_time": "2023-03-01T19:51:37.152Z"
   },
   {
    "duration": 205,
    "start_time": "2023-03-01T19:51:39.489Z"
   },
   {
    "duration": 2,
    "start_time": "2023-03-01T19:53:10.772Z"
   },
   {
    "duration": 209,
    "start_time": "2023-03-01T19:53:23.553Z"
   },
   {
    "duration": 7,
    "start_time": "2023-03-01T21:53:41.217Z"
   },
   {
    "duration": 6,
    "start_time": "2023-03-01T21:54:33.777Z"
   },
   {
    "duration": 39,
    "start_time": "2023-03-01T21:54:55.739Z"
   },
   {
    "duration": 7,
    "start_time": "2023-03-01T21:55:53.607Z"
   },
   {
    "duration": 46,
    "start_time": "2023-03-01T21:55:56.242Z"
   },
   {
    "duration": 10,
    "start_time": "2023-03-01T21:56:35.685Z"
   },
   {
    "duration": 46,
    "start_time": "2023-03-01T21:56:48.357Z"
   },
   {
    "duration": 40,
    "start_time": "2023-03-01T21:57:46.050Z"
   },
   {
    "duration": 44,
    "start_time": "2023-03-01T21:57:49.327Z"
   },
   {
    "duration": 15,
    "start_time": "2023-03-01T21:58:57.531Z"
   },
   {
    "duration": 55,
    "start_time": "2023-03-01T21:58:58.754Z"
   },
   {
    "duration": 55,
    "start_time": "2023-03-01T21:59:46.350Z"
   },
   {
    "duration": 7,
    "start_time": "2023-03-01T22:00:45.961Z"
   },
   {
    "duration": 265,
    "start_time": "2023-03-01T22:00:47.548Z"
   },
   {
    "duration": 288,
    "start_time": "2023-03-01T22:11:09.216Z"
   },
   {
    "duration": 7,
    "start_time": "2023-03-01T22:13:04.252Z"
   },
   {
    "duration": 35,
    "start_time": "2023-03-01T22:13:08.165Z"
   },
   {
    "duration": 219,
    "start_time": "2023-03-01T22:13:28.392Z"
   },
   {
    "duration": 285,
    "start_time": "2023-03-01T22:14:12.610Z"
   },
   {
    "duration": 12,
    "start_time": "2023-03-02T10:10:21.539Z"
   },
   {
    "duration": 3,
    "start_time": "2023-03-02T10:57:20.304Z"
   },
   {
    "duration": 1249,
    "start_time": "2023-03-02T11:06:30.852Z"
   },
   {
    "duration": 736,
    "start_time": "2023-03-02T11:06:32.103Z"
   },
   {
    "duration": 9,
    "start_time": "2023-03-02T11:06:32.841Z"
   },
   {
    "duration": 18,
    "start_time": "2023-03-02T11:06:32.851Z"
   },
   {
    "duration": 3,
    "start_time": "2023-03-02T11:06:32.871Z"
   },
   {
    "duration": 4,
    "start_time": "2023-03-02T11:06:32.876Z"
   },
   {
    "duration": 79,
    "start_time": "2023-03-02T11:06:32.881Z"
   },
   {
    "duration": 9,
    "start_time": "2023-03-02T11:06:32.962Z"
   },
   {
    "duration": 26,
    "start_time": "2023-03-02T11:06:32.973Z"
   },
   {
    "duration": 5,
    "start_time": "2023-03-02T11:06:33.000Z"
   },
   {
    "duration": 29,
    "start_time": "2023-03-02T11:06:33.006Z"
   },
   {
    "duration": 126,
    "start_time": "2023-03-02T11:06:33.037Z"
   },
   {
    "duration": 93,
    "start_time": "2023-03-02T11:06:33.165Z"
   },
   {
    "duration": 12,
    "start_time": "2023-03-02T11:06:33.260Z"
   },
   {
    "duration": 116,
    "start_time": "2023-03-02T11:06:33.274Z"
   },
   {
    "duration": 3,
    "start_time": "2023-03-02T11:06:33.392Z"
   },
   {
    "duration": 36,
    "start_time": "2023-03-02T11:06:33.396Z"
   },
   {
    "duration": 29,
    "start_time": "2023-03-02T11:06:33.434Z"
   },
   {
    "duration": 3,
    "start_time": "2023-03-02T11:06:33.464Z"
   },
   {
    "duration": 18,
    "start_time": "2023-03-02T11:06:33.468Z"
   },
   {
    "duration": 39,
    "start_time": "2023-03-02T11:06:33.488Z"
   },
   {
    "duration": 5,
    "start_time": "2023-03-02T11:06:33.529Z"
   },
   {
    "duration": 46,
    "start_time": "2023-03-02T11:06:33.535Z"
   },
   {
    "duration": 5,
    "start_time": "2023-03-02T11:06:33.582Z"
   },
   {
    "duration": 476,
    "start_time": "2023-03-02T11:06:33.588Z"
   },
   {
    "duration": 16,
    "start_time": "2023-03-02T11:06:34.065Z"
   },
   {
    "duration": 342,
    "start_time": "2023-03-02T11:06:34.083Z"
   },
   {
    "duration": 5,
    "start_time": "2023-03-02T11:06:34.427Z"
   },
   {
    "duration": 18,
    "start_time": "2023-03-02T11:06:34.434Z"
   },
   {
    "duration": 21,
    "start_time": "2023-03-02T11:06:34.454Z"
   },
   {
    "duration": 29,
    "start_time": "2023-03-02T11:06:34.476Z"
   },
   {
    "duration": 35,
    "start_time": "2023-03-02T11:06:34.507Z"
   },
   {
    "duration": 28,
    "start_time": "2023-03-02T11:06:34.544Z"
   },
   {
    "duration": 79,
    "start_time": "2023-03-02T11:06:34.573Z"
   },
   {
    "duration": 8,
    "start_time": "2023-03-02T11:06:34.653Z"
   },
   {
    "duration": 25,
    "start_time": "2023-03-02T11:06:34.662Z"
   },
   {
    "duration": 18,
    "start_time": "2023-03-02T11:06:34.688Z"
   },
   {
    "duration": 136,
    "start_time": "2023-03-02T11:06:34.707Z"
   },
   {
    "duration": 28,
    "start_time": "2023-03-02T11:06:34.845Z"
   },
   {
    "duration": 2,
    "start_time": "2023-03-02T11:06:34.875Z"
   },
   {
    "duration": 24,
    "start_time": "2023-03-02T11:06:34.880Z"
   },
   {
    "duration": 41,
    "start_time": "2023-03-02T11:06:34.906Z"
   },
   {
    "duration": 231,
    "start_time": "2023-03-02T11:06:34.949Z"
   },
   {
    "duration": 223,
    "start_time": "2023-03-02T11:06:35.182Z"
   },
   {
    "duration": 232,
    "start_time": "2023-03-02T11:06:35.406Z"
   },
   {
    "duration": 6,
    "start_time": "2023-03-02T11:10:12.146Z"
   },
   {
    "duration": 98,
    "start_time": "2023-03-02T11:11:05.417Z"
   },
   {
    "duration": 8,
    "start_time": "2023-03-02T11:11:24.637Z"
   },
   {
    "duration": 179,
    "start_time": "2023-03-02T11:11:27.136Z"
   },
   {
    "duration": 7,
    "start_time": "2023-03-02T11:12:37.156Z"
   },
   {
    "duration": 206,
    "start_time": "2023-03-02T11:12:39.040Z"
   },
   {
    "duration": 7,
    "start_time": "2023-03-02T11:13:04.801Z"
   },
   {
    "duration": 193,
    "start_time": "2023-03-02T11:13:06.894Z"
   },
   {
    "duration": 217,
    "start_time": "2023-03-02T11:16:07.505Z"
   },
   {
    "duration": 199,
    "start_time": "2023-03-02T11:16:39.089Z"
   },
   {
    "duration": 210,
    "start_time": "2023-03-02T11:16:46.785Z"
   },
   {
    "duration": 1161,
    "start_time": "2023-03-02T20:34:47.134Z"
   },
   {
    "duration": 169,
    "start_time": "2023-03-02T20:34:48.297Z"
   },
   {
    "duration": 14,
    "start_time": "2023-03-02T20:34:48.468Z"
   },
   {
    "duration": 40,
    "start_time": "2023-03-02T20:34:48.484Z"
   },
   {
    "duration": 4,
    "start_time": "2023-03-02T20:34:48.527Z"
   },
   {
    "duration": 4,
    "start_time": "2023-03-02T20:34:48.533Z"
   },
   {
    "duration": 101,
    "start_time": "2023-03-02T20:34:48.538Z"
   },
   {
    "duration": 20,
    "start_time": "2023-03-02T20:34:48.641Z"
   },
   {
    "duration": 28,
    "start_time": "2023-03-02T20:34:48.663Z"
   },
   {
    "duration": 6,
    "start_time": "2023-03-02T20:34:48.692Z"
   },
   {
    "duration": 41,
    "start_time": "2023-03-02T20:34:48.700Z"
   },
   {
    "duration": 111,
    "start_time": "2023-03-02T20:34:48.744Z"
   },
   {
    "duration": 115,
    "start_time": "2023-03-02T20:34:48.856Z"
   },
   {
    "duration": 18,
    "start_time": "2023-03-02T20:34:48.974Z"
   },
   {
    "duration": 157,
    "start_time": "2023-03-02T20:34:48.995Z"
   },
   {
    "duration": 4,
    "start_time": "2023-03-02T20:34:49.154Z"
   },
   {
    "duration": 69,
    "start_time": "2023-03-02T20:34:49.161Z"
   },
   {
    "duration": 46,
    "start_time": "2023-03-02T20:34:49.233Z"
   },
   {
    "duration": 5,
    "start_time": "2023-03-02T20:34:49.281Z"
   },
   {
    "duration": 36,
    "start_time": "2023-03-02T20:34:49.288Z"
   },
   {
    "duration": 32,
    "start_time": "2023-03-02T20:34:49.327Z"
   },
   {
    "duration": 5,
    "start_time": "2023-03-02T20:34:49.361Z"
   },
   {
    "duration": 82,
    "start_time": "2023-03-02T20:34:49.368Z"
   },
   {
    "duration": 6,
    "start_time": "2023-03-02T20:34:49.452Z"
   },
   {
    "duration": 539,
    "start_time": "2023-03-02T20:34:49.460Z"
   },
   {
    "duration": 26,
    "start_time": "2023-03-02T20:34:50.001Z"
   },
   {
    "duration": 339,
    "start_time": "2023-03-02T20:34:50.028Z"
   },
   {
    "duration": 8,
    "start_time": "2023-03-02T20:34:50.369Z"
   },
   {
    "duration": 15,
    "start_time": "2023-03-02T20:34:50.379Z"
   },
   {
    "duration": 37,
    "start_time": "2023-03-02T20:34:50.396Z"
   },
   {
    "duration": 34,
    "start_time": "2023-03-02T20:34:50.434Z"
   },
   {
    "duration": 64,
    "start_time": "2023-03-02T20:34:50.469Z"
   },
   {
    "duration": 35,
    "start_time": "2023-03-02T20:34:50.535Z"
   },
   {
    "duration": 94,
    "start_time": "2023-03-02T20:34:50.572Z"
   },
   {
    "duration": 9,
    "start_time": "2023-03-02T20:34:50.668Z"
   },
   {
    "duration": 6,
    "start_time": "2023-03-02T20:34:50.679Z"
   },
   {
    "duration": 10,
    "start_time": "2023-03-02T20:34:50.687Z"
   },
   {
    "duration": 178,
    "start_time": "2023-03-02T20:34:50.699Z"
   },
   {
    "duration": 32,
    "start_time": "2023-03-02T20:34:50.879Z"
   },
   {
    "duration": 3,
    "start_time": "2023-03-02T20:34:50.924Z"
   },
   {
    "duration": 83,
    "start_time": "2023-03-02T20:34:50.931Z"
   },
   {
    "duration": 0,
    "start_time": "2023-03-02T20:34:51.015Z"
   },
   {
    "duration": 0,
    "start_time": "2023-03-02T20:34:51.016Z"
   },
   {
    "duration": 0,
    "start_time": "2023-03-02T20:34:51.017Z"
   },
   {
    "duration": 0,
    "start_time": "2023-03-02T20:34:51.018Z"
   },
   {
    "duration": 0,
    "start_time": "2023-03-02T20:34:51.019Z"
   },
   {
    "duration": 4,
    "start_time": "2023-03-02T20:51:26.270Z"
   },
   {
    "duration": 99,
    "start_time": "2023-03-02T20:51:28.117Z"
   },
   {
    "duration": 1300,
    "start_time": "2023-03-03T11:03:03.602Z"
   },
   {
    "duration": 785,
    "start_time": "2023-03-03T11:03:08.877Z"
   },
   {
    "duration": 14,
    "start_time": "2023-03-03T11:03:15.988Z"
   },
   {
    "duration": 42,
    "start_time": "2023-03-03T11:03:16.004Z"
   },
   {
    "duration": 4,
    "start_time": "2023-03-03T11:03:16.048Z"
   },
   {
    "duration": 6,
    "start_time": "2023-03-03T11:03:16.055Z"
   },
   {
    "duration": 114,
    "start_time": "2023-03-03T11:03:16.064Z"
   },
   {
    "duration": 10,
    "start_time": "2023-03-03T11:03:16.179Z"
   },
   {
    "duration": 26,
    "start_time": "2023-03-03T11:03:16.191Z"
   },
   {
    "duration": 6,
    "start_time": "2023-03-03T11:03:16.220Z"
   },
   {
    "duration": 41,
    "start_time": "2023-03-03T11:03:16.227Z"
   },
   {
    "duration": 114,
    "start_time": "2023-03-03T11:03:16.271Z"
   },
   {
    "duration": 109,
    "start_time": "2023-03-03T11:03:16.387Z"
   },
   {
    "duration": 17,
    "start_time": "2023-03-03T11:03:16.497Z"
   },
   {
    "duration": 130,
    "start_time": "2023-03-03T11:03:16.516Z"
   },
   {
    "duration": 3,
    "start_time": "2023-03-03T11:03:16.653Z"
   },
   {
    "duration": 50,
    "start_time": "2023-03-03T11:03:16.658Z"
   },
   {
    "duration": 44,
    "start_time": "2023-03-03T11:03:16.710Z"
   },
   {
    "duration": 4,
    "start_time": "2023-03-03T11:03:16.756Z"
   },
   {
    "duration": 7,
    "start_time": "2023-03-03T11:03:16.762Z"
   },
   {
    "duration": 32,
    "start_time": "2023-03-03T11:03:16.771Z"
   },
   {
    "duration": 6,
    "start_time": "2023-03-03T11:03:16.805Z"
   },
   {
    "duration": 89,
    "start_time": "2023-03-03T11:03:16.812Z"
   },
   {
    "duration": 5,
    "start_time": "2023-03-03T11:03:16.903Z"
   },
   {
    "duration": 559,
    "start_time": "2023-03-03T11:03:16.910Z"
   },
   {
    "duration": 17,
    "start_time": "2023-03-03T11:03:17.472Z"
   },
   {
    "duration": 362,
    "start_time": "2023-03-03T11:03:17.491Z"
   },
   {
    "duration": 7,
    "start_time": "2023-03-03T11:03:17.855Z"
   },
   {
    "duration": 25,
    "start_time": "2023-03-03T11:03:17.864Z"
   },
   {
    "duration": 23,
    "start_time": "2023-03-03T11:03:17.895Z"
   },
   {
    "duration": 62,
    "start_time": "2023-03-03T11:03:17.920Z"
   },
   {
    "duration": 33,
    "start_time": "2023-03-03T11:03:17.984Z"
   },
   {
    "duration": 63,
    "start_time": "2023-03-03T11:03:18.019Z"
   },
   {
    "duration": 95,
    "start_time": "2023-03-03T11:03:18.084Z"
   },
   {
    "duration": 12,
    "start_time": "2023-03-03T11:03:18.180Z"
   },
   {
    "duration": 14,
    "start_time": "2023-03-03T11:03:18.194Z"
   },
   {
    "duration": 13,
    "start_time": "2023-03-03T11:03:18.210Z"
   },
   {
    "duration": 186,
    "start_time": "2023-03-03T11:03:18.225Z"
   },
   {
    "duration": 48,
    "start_time": "2023-03-03T11:03:18.412Z"
   },
   {
    "duration": 3,
    "start_time": "2023-03-03T11:03:18.462Z"
   },
   {
    "duration": 21,
    "start_time": "2023-03-03T11:03:18.467Z"
   },
   {
    "duration": 24,
    "start_time": "2023-03-03T11:03:18.490Z"
   },
   {
    "duration": 282,
    "start_time": "2023-03-03T11:03:18.516Z"
   },
   {
    "duration": 282,
    "start_time": "2023-03-03T11:03:18.800Z"
   },
   {
    "duration": 290,
    "start_time": "2023-03-03T11:03:19.084Z"
   },
   {
    "duration": 319,
    "start_time": "2023-03-03T11:03:19.376Z"
   },
   {
    "duration": 422,
    "start_time": "2023-03-03T11:06:10.953Z"
   },
   {
    "duration": 470,
    "start_time": "2023-03-03T11:06:26.312Z"
   },
   {
    "duration": 407,
    "start_time": "2023-03-03T11:06:39.268Z"
   },
   {
    "duration": 439,
    "start_time": "2023-03-03T11:06:50.272Z"
   },
   {
    "duration": 422,
    "start_time": "2023-03-03T11:08:06.488Z"
   },
   {
    "duration": 22,
    "start_time": "2023-03-03T11:14:52.787Z"
   },
   {
    "duration": 780,
    "start_time": "2023-03-03T11:15:05.418Z"
   },
   {
    "duration": 25,
    "start_time": "2023-03-03T11:15:28.676Z"
   },
   {
    "duration": 66,
    "start_time": "2023-03-03T11:20:22.528Z"
   },
   {
    "duration": 68,
    "start_time": "2023-03-03T11:27:59.489Z"
   },
   {
    "duration": 30,
    "start_time": "2023-03-03T11:28:41.919Z"
   },
   {
    "duration": 154,
    "start_time": "2023-03-03T11:28:50.370Z"
   },
   {
    "duration": 332,
    "start_time": "2023-03-03T11:29:03.573Z"
   },
   {
    "duration": 43,
    "start_time": "2023-03-03T11:29:32.120Z"
   },
   {
    "duration": 9315,
    "start_time": "2023-03-03T11:30:01.779Z"
   },
   {
    "duration": 52902,
    "start_time": "2023-03-03T11:30:36.945Z"
   },
   {
    "duration": 28,
    "start_time": "2023-03-03T11:31:36.388Z"
   },
   {
    "duration": 119,
    "start_time": "2023-03-03T11:33:41.592Z"
   },
   {
    "duration": 123,
    "start_time": "2023-03-03T11:35:58.166Z"
   },
   {
    "duration": 5,
    "start_time": "2023-03-03T11:42:23.343Z"
   },
   {
    "duration": 117,
    "start_time": "2023-03-03T11:43:45.365Z"
   },
   {
    "duration": 102,
    "start_time": "2023-03-03T11:44:02.667Z"
   },
   {
    "duration": 56,
    "start_time": "2023-03-03T11:47:19.423Z"
   },
   {
    "duration": 21,
    "start_time": "2023-03-03T11:47:26.613Z"
   },
   {
    "duration": 55,
    "start_time": "2023-03-03T11:48:03.215Z"
   },
   {
    "duration": 59,
    "start_time": "2023-03-03T11:48:38.658Z"
   },
   {
    "duration": 18,
    "start_time": "2023-03-03T12:05:09.449Z"
   },
   {
    "duration": 8,
    "start_time": "2023-03-03T12:10:21.964Z"
   },
   {
    "duration": 427,
    "start_time": "2023-03-03T12:12:00.972Z"
   },
   {
    "duration": 406,
    "start_time": "2023-03-03T12:12:25.013Z"
   },
   {
    "duration": 373,
    "start_time": "2023-03-03T12:12:35.625Z"
   },
   {
    "duration": 396,
    "start_time": "2023-03-03T12:13:35.617Z"
   },
   {
    "duration": 5,
    "start_time": "2023-03-03T12:16:20.083Z"
   },
   {
    "duration": 46,
    "start_time": "2023-03-03T12:20:42.563Z"
   },
   {
    "duration": 22,
    "start_time": "2023-03-03T12:22:55.883Z"
   },
   {
    "duration": 48,
    "start_time": "2023-03-03T12:24:15.556Z"
   },
   {
    "duration": 20,
    "start_time": "2023-03-03T12:24:21.125Z"
   },
   {
    "duration": 152,
    "start_time": "2023-03-03T12:25:15.692Z"
   },
   {
    "duration": 5,
    "start_time": "2023-03-03T12:42:41.614Z"
   },
   {
    "duration": 176,
    "start_time": "2023-03-03T12:42:41.621Z"
   },
   {
    "duration": 8,
    "start_time": "2023-03-03T12:42:41.799Z"
   },
   {
    "duration": 28,
    "start_time": "2023-03-03T12:42:41.809Z"
   },
   {
    "duration": 5,
    "start_time": "2023-03-03T12:42:41.853Z"
   },
   {
    "duration": 10,
    "start_time": "2023-03-03T12:42:41.860Z"
   },
   {
    "duration": 114,
    "start_time": "2023-03-03T12:42:41.872Z"
   },
   {
    "duration": 12,
    "start_time": "2023-03-03T12:42:41.988Z"
   },
   {
    "duration": 29,
    "start_time": "2023-03-03T12:42:42.004Z"
   },
   {
    "duration": 20,
    "start_time": "2023-03-03T12:42:42.036Z"
   },
   {
    "duration": 28,
    "start_time": "2023-03-03T12:42:42.059Z"
   },
   {
    "duration": 111,
    "start_time": "2023-03-03T12:42:42.089Z"
   },
   {
    "duration": 110,
    "start_time": "2023-03-03T12:42:42.202Z"
   },
   {
    "duration": 14,
    "start_time": "2023-03-03T12:42:42.313Z"
   },
   {
    "duration": 124,
    "start_time": "2023-03-03T12:42:42.329Z"
   },
   {
    "duration": 62,
    "start_time": "2023-03-03T12:42:42.455Z"
   },
   {
    "duration": 4,
    "start_time": "2023-03-03T12:42:42.519Z"
   },
   {
    "duration": 61,
    "start_time": "2023-03-03T12:42:42.525Z"
   },
   {
    "duration": 41,
    "start_time": "2023-03-03T12:42:42.588Z"
   },
   {
    "duration": 25,
    "start_time": "2023-03-03T12:42:42.630Z"
   },
   {
    "duration": 13,
    "start_time": "2023-03-03T12:42:42.657Z"
   },
   {
    "duration": 32,
    "start_time": "2023-03-03T12:42:42.672Z"
   },
   {
    "duration": 132,
    "start_time": "2023-03-03T12:42:42.706Z"
   },
   {
    "duration": 7,
    "start_time": "2023-03-03T12:42:42.854Z"
   },
   {
    "duration": 5,
    "start_time": "2023-03-03T12:42:42.862Z"
   },
   {
    "duration": 49,
    "start_time": "2023-03-03T12:42:42.869Z"
   },
   {
    "duration": 34,
    "start_time": "2023-03-03T12:42:42.920Z"
   },
   {
    "duration": 442,
    "start_time": "2023-03-03T12:42:42.956Z"
   },
   {
    "duration": 18,
    "start_time": "2023-03-03T12:42:43.400Z"
   },
   {
    "duration": 475,
    "start_time": "2023-03-03T12:42:43.420Z"
   },
   {
    "duration": 8,
    "start_time": "2023-03-03T12:42:43.896Z"
   },
   {
    "duration": 26,
    "start_time": "2023-03-03T12:42:43.906Z"
   },
   {
    "duration": 33,
    "start_time": "2023-03-03T12:42:43.934Z"
   },
   {
    "duration": 40,
    "start_time": "2023-03-03T12:42:43.969Z"
   },
   {
    "duration": 58,
    "start_time": "2023-03-03T12:42:44.011Z"
   },
   {
    "duration": 38,
    "start_time": "2023-03-03T12:42:44.071Z"
   },
   {
    "duration": 101,
    "start_time": "2023-03-03T12:42:44.111Z"
   },
   {
    "duration": 13,
    "start_time": "2023-03-03T12:42:44.214Z"
   },
   {
    "duration": 11,
    "start_time": "2023-03-03T12:42:44.229Z"
   },
   {
    "duration": 12,
    "start_time": "2023-03-03T12:42:44.254Z"
   },
   {
    "duration": 165,
    "start_time": "2023-03-03T12:42:44.268Z"
   },
   {
    "duration": 21,
    "start_time": "2023-03-03T12:42:44.435Z"
   },
   {
    "duration": 34,
    "start_time": "2023-03-03T12:42:44.459Z"
   },
   {
    "duration": 102,
    "start_time": "2023-03-03T12:42:44.495Z"
   },
   {
    "duration": 12,
    "start_time": "2023-03-03T12:42:44.599Z"
   },
   {
    "duration": 13,
    "start_time": "2023-03-03T12:42:44.613Z"
   },
   {
    "duration": 266,
    "start_time": "2023-03-03T12:42:44.628Z"
   },
   {
    "duration": 274,
    "start_time": "2023-03-03T12:42:44.896Z"
   },
   {
    "duration": 281,
    "start_time": "2023-03-03T12:42:45.172Z"
   },
   {
    "duration": 298,
    "start_time": "2023-03-03T12:42:45.456Z"
   },
   {
    "duration": 130,
    "start_time": "2023-03-03T12:45:04.636Z"
   },
   {
    "duration": 141,
    "start_time": "2023-03-03T12:45:14.904Z"
   },
   {
    "duration": 1105,
    "start_time": "2023-03-04T06:55:17.488Z"
   },
   {
    "duration": 507,
    "start_time": "2023-03-04T06:55:18.595Z"
   },
   {
    "duration": 11,
    "start_time": "2023-03-04T06:55:19.103Z"
   },
   {
    "duration": 20,
    "start_time": "2023-03-04T06:55:19.115Z"
   },
   {
    "duration": 5,
    "start_time": "2023-03-04T06:55:19.138Z"
   },
   {
    "duration": 10,
    "start_time": "2023-03-04T06:55:19.144Z"
   },
   {
    "duration": 96,
    "start_time": "2023-03-04T06:55:19.156Z"
   },
   {
    "duration": 10,
    "start_time": "2023-03-04T06:55:19.253Z"
   },
   {
    "duration": 23,
    "start_time": "2023-03-04T06:55:19.265Z"
   },
   {
    "duration": 30,
    "start_time": "2023-03-04T06:55:19.290Z"
   },
   {
    "duration": 22,
    "start_time": "2023-03-04T06:55:19.322Z"
   },
   {
    "duration": 101,
    "start_time": "2023-03-04T06:55:19.347Z"
   },
   {
    "duration": 114,
    "start_time": "2023-03-04T06:55:19.450Z"
   },
   {
    "duration": 14,
    "start_time": "2023-03-04T06:55:19.567Z"
   },
   {
    "duration": 120,
    "start_time": "2023-03-04T06:55:19.583Z"
   },
   {
    "duration": 60,
    "start_time": "2023-03-04T06:55:19.704Z"
   },
   {
    "duration": 4,
    "start_time": "2023-03-04T06:55:19.765Z"
   },
   {
    "duration": 37,
    "start_time": "2023-03-04T06:55:19.770Z"
   },
   {
    "duration": 58,
    "start_time": "2023-03-04T06:55:19.809Z"
   },
   {
    "duration": 5,
    "start_time": "2023-03-04T06:55:19.869Z"
   },
   {
    "duration": 24,
    "start_time": "2023-03-04T06:55:19.876Z"
   },
   {
    "duration": 62,
    "start_time": "2023-03-04T06:55:19.902Z"
   },
   {
    "duration": 122,
    "start_time": "2023-03-04T06:55:19.966Z"
   },
   {
    "duration": 7,
    "start_time": "2023-03-04T06:55:20.090Z"
   },
   {
    "duration": 8,
    "start_time": "2023-03-04T06:55:20.098Z"
   },
   {
    "duration": 67,
    "start_time": "2023-03-04T06:55:20.108Z"
   },
   {
    "duration": 5,
    "start_time": "2023-03-04T06:55:20.177Z"
   },
   {
    "duration": 447,
    "start_time": "2023-03-04T06:55:20.183Z"
   },
   {
    "duration": 30,
    "start_time": "2023-03-04T06:55:20.631Z"
   },
   {
    "duration": 444,
    "start_time": "2023-03-04T06:55:20.663Z"
   },
   {
    "duration": 6,
    "start_time": "2023-03-04T06:55:21.109Z"
   },
   {
    "duration": 32,
    "start_time": "2023-03-04T06:55:21.116Z"
   },
   {
    "duration": 13,
    "start_time": "2023-03-04T06:55:21.150Z"
   },
   {
    "duration": 35,
    "start_time": "2023-03-04T06:55:21.165Z"
   },
   {
    "duration": 53,
    "start_time": "2023-03-04T06:55:21.201Z"
   },
   {
    "duration": 29,
    "start_time": "2023-03-04T06:55:21.256Z"
   },
   {
    "duration": 85,
    "start_time": "2023-03-04T06:55:21.286Z"
   },
   {
    "duration": 8,
    "start_time": "2023-03-04T06:55:21.373Z"
   },
   {
    "duration": 8,
    "start_time": "2023-03-04T06:55:21.382Z"
   },
   {
    "duration": 11,
    "start_time": "2023-03-04T06:55:21.392Z"
   },
   {
    "duration": 147,
    "start_time": "2023-03-04T06:55:21.407Z"
   },
   {
    "duration": 306,
    "start_time": "2023-03-04T06:55:21.556Z"
   },
   {
    "duration": 38,
    "start_time": "2023-03-04T06:55:21.865Z"
   },
   {
    "duration": 43,
    "start_time": "2023-03-04T06:55:21.905Z"
   },
   {
    "duration": 9,
    "start_time": "2023-03-04T06:55:21.951Z"
   },
   {
    "duration": 33,
    "start_time": "2023-03-04T06:55:21.962Z"
   },
   {
    "duration": 258,
    "start_time": "2023-03-04T06:55:21.997Z"
   },
   {
    "duration": 262,
    "start_time": "2023-03-04T06:55:22.257Z"
   },
   {
    "duration": 262,
    "start_time": "2023-03-04T06:55:22.520Z"
   },
   {
    "duration": 310,
    "start_time": "2023-03-04T06:55:22.784Z"
   },
   {
    "duration": 195,
    "start_time": "2023-03-04T09:49:36.048Z"
   },
   {
    "duration": 2180,
    "start_time": "2023-03-04T09:49:47.409Z"
   },
   {
    "duration": 1914,
    "start_time": "2023-03-04T09:49:49.592Z"
   },
   {
    "duration": 37,
    "start_time": "2023-03-04T09:49:51.514Z"
   },
   {
    "duration": 106,
    "start_time": "2023-03-04T09:49:51.552Z"
   },
   {
    "duration": 11,
    "start_time": "2023-03-04T09:49:51.661Z"
   },
   {
    "duration": 53,
    "start_time": "2023-03-04T09:49:51.674Z"
   },
   {
    "duration": 314,
    "start_time": "2023-03-04T09:49:51.737Z"
   },
   {
    "duration": 30,
    "start_time": "2023-03-04T09:49:52.058Z"
   },
   {
    "duration": 168,
    "start_time": "2023-03-04T09:49:52.095Z"
   },
   {
    "duration": 107,
    "start_time": "2023-03-04T09:49:52.271Z"
   },
   {
    "duration": 225,
    "start_time": "2023-03-04T09:49:52.389Z"
   },
   {
    "duration": 288,
    "start_time": "2023-03-04T09:49:52.621Z"
   },
   {
    "duration": 228,
    "start_time": "2023-03-04T09:49:52.918Z"
   },
   {
    "duration": 33,
    "start_time": "2023-03-04T09:49:53.162Z"
   },
   {
    "duration": 269,
    "start_time": "2023-03-04T09:49:53.202Z"
   },
   {
    "duration": 85,
    "start_time": "2023-03-04T09:49:53.472Z"
   },
   {
    "duration": 76,
    "start_time": "2023-03-04T09:49:53.559Z"
   },
   {
    "duration": 145,
    "start_time": "2023-03-04T09:49:53.636Z"
   },
   {
    "duration": 67,
    "start_time": "2023-03-04T09:49:53.782Z"
   },
   {
    "duration": 64,
    "start_time": "2023-03-04T09:49:53.851Z"
   },
   {
    "duration": 80,
    "start_time": "2023-03-04T09:49:53.917Z"
   },
   {
    "duration": 75,
    "start_time": "2023-03-04T09:49:53.999Z"
   },
   {
    "duration": 256,
    "start_time": "2023-03-04T09:49:54.076Z"
   },
   {
    "duration": 9,
    "start_time": "2023-03-04T09:49:54.335Z"
   },
   {
    "duration": 145,
    "start_time": "2023-03-04T09:49:54.345Z"
   },
   {
    "duration": 237,
    "start_time": "2023-03-04T09:49:54.496Z"
   },
   {
    "duration": 39,
    "start_time": "2023-03-04T09:49:54.740Z"
   },
   {
    "duration": 1020,
    "start_time": "2023-03-04T09:49:54.789Z"
   },
   {
    "duration": 61,
    "start_time": "2023-03-04T09:49:55.816Z"
   },
   {
    "duration": 722,
    "start_time": "2023-03-04T09:49:55.884Z"
   },
   {
    "duration": 12,
    "start_time": "2023-03-04T09:49:56.612Z"
   },
   {
    "duration": 122,
    "start_time": "2023-03-04T09:49:56.630Z"
   },
   {
    "duration": 135,
    "start_time": "2023-03-04T09:49:56.766Z"
   },
   {
    "duration": 50,
    "start_time": "2023-03-04T09:49:56.907Z"
   },
   {
    "duration": 94,
    "start_time": "2023-03-04T09:49:56.963Z"
   },
   {
    "duration": 240,
    "start_time": "2023-03-04T09:49:57.063Z"
   },
   {
    "duration": 191,
    "start_time": "2023-03-04T09:49:57.320Z"
   },
   {
    "duration": 264,
    "start_time": "2023-03-04T09:49:57.528Z"
   },
   {
    "duration": 129,
    "start_time": "2023-03-04T09:49:57.798Z"
   },
   {
    "duration": 121,
    "start_time": "2023-03-04T09:49:57.942Z"
   },
   {
    "duration": 46,
    "start_time": "2023-03-04T09:49:58.085Z"
   },
   {
    "duration": 214,
    "start_time": "2023-03-04T09:49:58.132Z"
   },
   {
    "duration": 509,
    "start_time": "2023-03-04T09:49:58.351Z"
   },
   {
    "duration": 125,
    "start_time": "2023-03-04T09:49:58.862Z"
   },
   {
    "duration": 22,
    "start_time": "2023-03-04T09:49:58.993Z"
   },
   {
    "duration": 80,
    "start_time": "2023-03-04T09:49:59.017Z"
   },
   {
    "duration": 106,
    "start_time": "2023-03-04T09:49:59.105Z"
   },
   {
    "duration": 406,
    "start_time": "2023-03-04T09:49:59.218Z"
   },
   {
    "duration": 349,
    "start_time": "2023-03-04T09:49:59.626Z"
   },
   {
    "duration": 404,
    "start_time": "2023-03-04T09:49:59.976Z"
   },
   {
    "duration": 350,
    "start_time": "2023-03-04T09:50:00.382Z"
   },
   {
    "duration": 68,
    "start_time": "2023-03-04T09:52:45.323Z"
   },
   {
    "duration": 18,
    "start_time": "2023-03-04T09:53:56.113Z"
   },
   {
    "duration": 56,
    "start_time": "2023-03-04T09:55:10.168Z"
   },
   {
    "duration": 109,
    "start_time": "2023-03-04T09:56:41.926Z"
   },
   {
    "duration": 35,
    "start_time": "2023-03-04T09:57:03.184Z"
   },
   {
    "duration": 4,
    "start_time": "2023-03-04T09:58:15.460Z"
   },
   {
    "duration": 11,
    "start_time": "2023-03-04T09:58:20.304Z"
   },
   {
    "duration": 34,
    "start_time": "2023-03-04T10:07:36.421Z"
   },
   {
    "duration": 245,
    "start_time": "2023-03-04T10:12:35.702Z"
   },
   {
    "duration": 26,
    "start_time": "2023-03-04T10:13:16.086Z"
   },
   {
    "duration": 1318,
    "start_time": "2023-03-04T20:24:37.604Z"
   },
   {
    "duration": 169,
    "start_time": "2023-03-04T20:24:38.924Z"
   },
   {
    "duration": 14,
    "start_time": "2023-03-04T20:24:39.095Z"
   },
   {
    "duration": 46,
    "start_time": "2023-03-04T20:24:39.111Z"
   },
   {
    "duration": 5,
    "start_time": "2023-03-04T20:24:39.160Z"
   },
   {
    "duration": 8,
    "start_time": "2023-03-04T20:24:39.167Z"
   },
   {
    "duration": 130,
    "start_time": "2023-03-04T20:24:39.177Z"
   },
   {
    "duration": 11,
    "start_time": "2023-03-04T20:24:39.310Z"
   },
   {
    "duration": 59,
    "start_time": "2023-03-04T20:24:39.323Z"
   },
   {
    "duration": 6,
    "start_time": "2023-03-04T20:24:39.384Z"
   },
   {
    "duration": 43,
    "start_time": "2023-03-04T20:24:39.392Z"
   },
   {
    "duration": 167,
    "start_time": "2023-03-04T20:24:39.438Z"
   },
   {
    "duration": 117,
    "start_time": "2023-03-04T20:24:39.606Z"
   },
   {
    "duration": 25,
    "start_time": "2023-03-04T20:24:39.726Z"
   },
   {
    "duration": 134,
    "start_time": "2023-03-04T20:24:39.752Z"
   },
   {
    "duration": 63,
    "start_time": "2023-03-04T20:24:39.888Z"
   },
   {
    "duration": 4,
    "start_time": "2023-03-04T20:24:39.953Z"
   },
   {
    "duration": 34,
    "start_time": "2023-03-04T20:24:39.959Z"
   },
   {
    "duration": 72,
    "start_time": "2023-03-04T20:24:39.995Z"
   },
   {
    "duration": 7,
    "start_time": "2023-03-04T20:24:40.069Z"
   },
   {
    "duration": 53,
    "start_time": "2023-03-04T20:24:40.078Z"
   },
   {
    "duration": 58,
    "start_time": "2023-03-04T20:24:40.134Z"
   },
   {
    "duration": 174,
    "start_time": "2023-03-04T20:24:40.194Z"
   },
   {
    "duration": 7,
    "start_time": "2023-03-04T20:24:40.369Z"
   },
   {
    "duration": 7,
    "start_time": "2023-03-04T20:24:40.378Z"
   },
   {
    "duration": 64,
    "start_time": "2023-03-04T20:24:40.387Z"
   },
   {
    "duration": 7,
    "start_time": "2023-03-04T20:24:40.453Z"
   },
   {
    "duration": 514,
    "start_time": "2023-03-04T20:24:40.461Z"
   },
   {
    "duration": 23,
    "start_time": "2023-03-04T20:24:40.977Z"
   },
   {
    "duration": 500,
    "start_time": "2023-03-04T20:24:41.002Z"
   },
   {
    "duration": 6,
    "start_time": "2023-03-04T20:24:41.504Z"
   },
   {
    "duration": 21,
    "start_time": "2023-03-04T20:24:41.512Z"
   },
   {
    "duration": 14,
    "start_time": "2023-03-04T20:24:41.550Z"
   },
   {
    "duration": 15,
    "start_time": "2023-03-04T20:24:41.566Z"
   },
   {
    "duration": 26,
    "start_time": "2023-03-04T20:24:41.583Z"
   },
   {
    "duration": 59,
    "start_time": "2023-03-04T20:24:41.611Z"
   },
   {
    "duration": 55,
    "start_time": "2023-03-04T20:24:41.672Z"
   },
   {
    "duration": 48,
    "start_time": "2023-03-04T20:24:41.729Z"
   },
   {
    "duration": 38,
    "start_time": "2023-03-04T20:24:41.779Z"
   },
   {
    "duration": 98,
    "start_time": "2023-03-04T20:24:41.818Z"
   },
   {
    "duration": 8,
    "start_time": "2023-03-04T20:24:41.920Z"
   },
   {
    "duration": 9,
    "start_time": "2023-03-04T20:24:41.948Z"
   },
   {
    "duration": 16,
    "start_time": "2023-03-04T20:24:41.962Z"
   },
   {
    "duration": 164,
    "start_time": "2023-03-04T20:24:41.980Z"
   },
   {
    "duration": 329,
    "start_time": "2023-03-04T20:24:42.148Z"
   },
   {
    "duration": 34,
    "start_time": "2023-03-04T20:24:42.479Z"
   },
   {
    "duration": 3,
    "start_time": "2023-03-04T20:24:42.515Z"
   },
   {
    "duration": 14,
    "start_time": "2023-03-04T20:24:42.548Z"
   },
   {
    "duration": 11,
    "start_time": "2023-03-04T20:24:42.564Z"
   },
   {
    "duration": 401,
    "start_time": "2023-03-04T20:24:42.578Z"
   },
   {
    "duration": 293,
    "start_time": "2023-03-04T20:24:42.982Z"
   },
   {
    "duration": 306,
    "start_time": "2023-03-04T20:24:43.277Z"
   },
   {
    "duration": 366,
    "start_time": "2023-03-04T20:24:43.585Z"
   },
   {
    "duration": 1551,
    "start_time": "2023-04-30T09:26:15.896Z"
   },
   {
    "duration": 1493,
    "start_time": "2023-04-30T09:26:17.449Z"
   },
   {
    "duration": 31,
    "start_time": "2023-04-30T09:26:18.952Z"
   },
   {
    "duration": 72,
    "start_time": "2023-04-30T09:26:18.988Z"
   },
   {
    "duration": 13,
    "start_time": "2023-04-30T09:26:19.063Z"
   },
   {
    "duration": 6,
    "start_time": "2023-04-30T09:26:19.078Z"
   },
   {
    "duration": 184,
    "start_time": "2023-04-30T09:26:19.087Z"
   },
   {
    "duration": 26,
    "start_time": "2023-04-30T09:26:19.273Z"
   },
   {
    "duration": 74,
    "start_time": "2023-04-30T09:26:19.301Z"
   },
   {
    "duration": 17,
    "start_time": "2023-04-30T09:26:19.377Z"
   },
   {
    "duration": 50,
    "start_time": "2023-04-30T09:26:19.399Z"
   },
   {
    "duration": 166,
    "start_time": "2023-04-30T09:26:19.450Z"
   },
   {
    "duration": 189,
    "start_time": "2023-04-30T09:26:19.618Z"
   },
   {
    "duration": 31,
    "start_time": "2023-04-30T09:26:19.815Z"
   },
   {
    "duration": 197,
    "start_time": "2023-04-30T09:26:19.852Z"
   },
   {
    "duration": 80,
    "start_time": "2023-04-30T09:26:20.058Z"
   },
   {
    "duration": 16,
    "start_time": "2023-04-30T09:26:20.144Z"
   },
   {
    "duration": 86,
    "start_time": "2023-04-30T09:26:20.166Z"
   },
   {
    "duration": 81,
    "start_time": "2023-04-30T09:26:20.258Z"
   },
   {
    "duration": 7,
    "start_time": "2023-04-30T09:26:20.341Z"
   },
   {
    "duration": 46,
    "start_time": "2023-04-30T09:26:20.349Z"
   },
   {
    "duration": 74,
    "start_time": "2023-04-30T09:26:20.398Z"
   },
   {
    "duration": 236,
    "start_time": "2023-04-30T09:26:20.487Z"
   },
   {
    "duration": 16,
    "start_time": "2023-04-30T09:26:20.728Z"
   },
   {
    "duration": 14,
    "start_time": "2023-04-30T09:26:20.749Z"
   },
   {
    "duration": 84,
    "start_time": "2023-04-30T09:26:20.769Z"
   },
   {
    "duration": 19,
    "start_time": "2023-04-30T09:26:20.858Z"
   },
   {
    "duration": 777,
    "start_time": "2023-04-30T09:26:20.878Z"
   },
   {
    "duration": 26,
    "start_time": "2023-04-30T09:26:21.657Z"
   },
   {
    "duration": 641,
    "start_time": "2023-04-30T09:26:21.685Z"
   },
   {
    "duration": 11,
    "start_time": "2023-04-30T09:26:22.328Z"
   },
   {
    "duration": 22,
    "start_time": "2023-04-30T09:26:22.342Z"
   },
   {
    "duration": 51,
    "start_time": "2023-04-30T09:26:22.366Z"
   },
   {
    "duration": 13,
    "start_time": "2023-04-30T09:26:22.419Z"
   },
   {
    "duration": 52,
    "start_time": "2023-04-30T09:26:22.439Z"
   },
   {
    "duration": 37,
    "start_time": "2023-04-30T09:26:22.496Z"
   },
   {
    "duration": 56,
    "start_time": "2023-04-30T09:26:22.539Z"
   },
   {
    "duration": 47,
    "start_time": "2023-04-30T09:26:22.600Z"
   },
   {
    "duration": 94,
    "start_time": "2023-04-30T09:26:22.654Z"
   },
   {
    "duration": 160,
    "start_time": "2023-04-30T09:26:22.750Z"
   },
   {
    "duration": 16,
    "start_time": "2023-04-30T09:26:22.919Z"
   },
   {
    "duration": 19,
    "start_time": "2023-04-30T09:26:22.940Z"
   },
   {
    "duration": 27,
    "start_time": "2023-04-30T09:26:22.965Z"
   },
   {
    "duration": 229,
    "start_time": "2023-04-30T09:26:22.995Z"
   },
   {
    "duration": 469,
    "start_time": "2023-04-30T09:26:23.230Z"
   },
   {
    "duration": 72,
    "start_time": "2023-04-30T09:26:23.702Z"
   },
   {
    "duration": 13,
    "start_time": "2023-04-30T09:26:23.785Z"
   },
   {
    "duration": 17,
    "start_time": "2023-04-30T09:26:23.804Z"
   },
   {
    "duration": 9,
    "start_time": "2023-04-30T09:26:23.825Z"
   },
   {
    "duration": 401,
    "start_time": "2023-04-30T09:26:23.837Z"
   },
   {
    "duration": 424,
    "start_time": "2023-04-30T09:26:24.241Z"
   },
   {
    "duration": 383,
    "start_time": "2023-04-30T09:26:24.670Z"
   },
   {
    "duration": 433,
    "start_time": "2023-04-30T09:26:25.058Z"
   },
   {
    "duration": 1205,
    "start_time": "2023-05-19T12:52:40.848Z"
   },
   {
    "duration": 598,
    "start_time": "2023-05-19T12:52:42.055Z"
   },
   {
    "duration": 11,
    "start_time": "2023-05-19T12:52:42.655Z"
   },
   {
    "duration": 36,
    "start_time": "2023-05-19T12:52:42.668Z"
   },
   {
    "duration": 15,
    "start_time": "2023-05-19T12:52:42.706Z"
   },
   {
    "duration": 30,
    "start_time": "2023-05-19T12:52:42.723Z"
   },
   {
    "duration": 89,
    "start_time": "2023-05-19T12:52:42.755Z"
   },
   {
    "duration": 10,
    "start_time": "2023-05-19T12:52:42.846Z"
   },
   {
    "duration": 41,
    "start_time": "2023-05-19T12:52:42.858Z"
   },
   {
    "duration": 5,
    "start_time": "2023-05-19T12:52:42.903Z"
   },
   {
    "duration": 39,
    "start_time": "2023-05-19T12:52:42.910Z"
   },
   {
    "duration": 100,
    "start_time": "2023-05-19T12:52:42.950Z"
   },
   {
    "duration": 93,
    "start_time": "2023-05-19T12:52:43.052Z"
   },
   {
    "duration": 15,
    "start_time": "2023-05-19T12:52:43.146Z"
   },
   {
    "duration": 112,
    "start_time": "2023-05-19T12:52:43.162Z"
   },
   {
    "duration": 50,
    "start_time": "2023-05-19T12:52:43.276Z"
   },
   {
    "duration": 3,
    "start_time": "2023-05-19T12:52:43.327Z"
   },
   {
    "duration": 50,
    "start_time": "2023-05-19T12:52:43.331Z"
   },
   {
    "duration": 36,
    "start_time": "2023-05-19T12:52:43.383Z"
   },
   {
    "duration": 3,
    "start_time": "2023-05-19T12:52:43.421Z"
   },
   {
    "duration": 22,
    "start_time": "2023-05-19T12:52:43.425Z"
   },
   {
    "duration": 41,
    "start_time": "2023-05-19T12:52:43.449Z"
   },
   {
    "duration": 120,
    "start_time": "2023-05-19T12:52:43.491Z"
   },
   {
    "duration": 8,
    "start_time": "2023-05-19T12:52:43.613Z"
   },
   {
    "duration": 13,
    "start_time": "2023-05-19T12:52:43.622Z"
   },
   {
    "duration": 66,
    "start_time": "2023-05-19T12:52:43.637Z"
   },
   {
    "duration": 5,
    "start_time": "2023-05-19T12:52:43.704Z"
   },
   {
    "duration": 438,
    "start_time": "2023-05-19T12:52:43.712Z"
   },
   {
    "duration": 17,
    "start_time": "2023-05-19T12:52:44.151Z"
   },
   {
    "duration": 419,
    "start_time": "2023-05-19T12:52:44.170Z"
   },
   {
    "duration": 6,
    "start_time": "2023-05-19T12:52:44.591Z"
   },
   {
    "duration": 36,
    "start_time": "2023-05-19T12:52:44.599Z"
   },
   {
    "duration": 30,
    "start_time": "2023-05-19T12:52:44.637Z"
   },
   {
    "duration": 23,
    "start_time": "2023-05-19T12:52:44.669Z"
   },
   {
    "duration": 49,
    "start_time": "2023-05-19T12:52:44.694Z"
   },
   {
    "duration": 33,
    "start_time": "2023-05-19T12:52:44.745Z"
   },
   {
    "duration": 53,
    "start_time": "2023-05-19T12:52:44.780Z"
   },
   {
    "duration": 64,
    "start_time": "2023-05-19T12:52:44.834Z"
   },
   {
    "duration": 23,
    "start_time": "2023-05-19T12:52:44.900Z"
   },
   {
    "duration": 24,
    "start_time": "2023-05-19T12:52:44.925Z"
   },
   {
    "duration": 31,
    "start_time": "2023-05-19T12:52:44.951Z"
   },
   {
    "duration": 132,
    "start_time": "2023-05-19T12:52:44.984Z"
   },
   {
    "duration": 244,
    "start_time": "2023-05-19T12:52:45.118Z"
   },
   {
    "duration": 27,
    "start_time": "2023-05-19T12:52:45.363Z"
   },
   {
    "duration": 26,
    "start_time": "2023-05-19T12:52:45.392Z"
   },
   {
    "duration": 9,
    "start_time": "2023-05-19T12:52:45.419Z"
   },
   {
    "duration": 8,
    "start_time": "2023-05-19T12:52:45.429Z"
   },
   {
    "duration": 286,
    "start_time": "2023-05-19T12:52:45.439Z"
   },
   {
    "duration": 235,
    "start_time": "2023-05-19T12:52:45.727Z"
   },
   {
    "duration": 231,
    "start_time": "2023-05-19T12:52:45.963Z"
   },
   {
    "duration": 262,
    "start_time": "2023-05-19T12:52:46.196Z"
   },
   {
    "duration": 143,
    "start_time": "2023-05-19T12:57:36.382Z"
   },
   {
    "duration": 4,
    "start_time": "2023-05-19T13:06:19.329Z"
   },
   {
    "duration": 153,
    "start_time": "2023-05-19T13:06:19.336Z"
   },
   {
    "duration": 9,
    "start_time": "2023-05-19T13:06:19.491Z"
   },
   {
    "duration": 31,
    "start_time": "2023-05-19T13:06:19.502Z"
   },
   {
    "duration": 6,
    "start_time": "2023-05-19T13:06:19.534Z"
   },
   {
    "duration": 16,
    "start_time": "2023-05-19T13:06:19.541Z"
   },
   {
    "duration": 78,
    "start_time": "2023-05-19T13:06:19.559Z"
   },
   {
    "duration": 9,
    "start_time": "2023-05-19T13:06:19.639Z"
   },
   {
    "duration": 34,
    "start_time": "2023-05-19T13:06:19.650Z"
   },
   {
    "duration": 6,
    "start_time": "2023-05-19T13:06:19.687Z"
   },
   {
    "duration": 43,
    "start_time": "2023-05-19T13:06:19.695Z"
   },
   {
    "duration": 97,
    "start_time": "2023-05-19T13:06:19.740Z"
   },
   {
    "duration": 99,
    "start_time": "2023-05-19T13:06:19.838Z"
   },
   {
    "duration": 10,
    "start_time": "2023-05-19T13:06:19.939Z"
   },
   {
    "duration": 110,
    "start_time": "2023-05-19T13:06:19.951Z"
   },
   {
    "duration": 56,
    "start_time": "2023-05-19T13:06:20.062Z"
   },
   {
    "duration": 3,
    "start_time": "2023-05-19T13:06:20.120Z"
   },
   {
    "duration": 46,
    "start_time": "2023-05-19T13:06:20.125Z"
   },
   {
    "duration": 49,
    "start_time": "2023-05-19T13:06:20.173Z"
   },
   {
    "duration": 4,
    "start_time": "2023-05-19T13:06:20.224Z"
   },
   {
    "duration": 15,
    "start_time": "2023-05-19T13:06:20.229Z"
   },
   {
    "duration": 30,
    "start_time": "2023-05-19T13:06:20.246Z"
   },
   {
    "duration": 122,
    "start_time": "2023-05-19T13:06:20.278Z"
   },
   {
    "duration": 16,
    "start_time": "2023-05-19T13:06:20.401Z"
   },
   {
    "duration": 12,
    "start_time": "2023-05-19T13:06:20.419Z"
   },
   {
    "duration": 58,
    "start_time": "2023-05-19T13:06:20.432Z"
   },
   {
    "duration": 5,
    "start_time": "2023-05-19T13:06:20.492Z"
   },
   {
    "duration": 402,
    "start_time": "2023-05-19T13:06:20.501Z"
   },
   {
    "duration": 22,
    "start_time": "2023-05-19T13:06:20.905Z"
   },
   {
    "duration": 400,
    "start_time": "2023-05-19T13:06:20.928Z"
   },
   {
    "duration": 6,
    "start_time": "2023-05-19T13:06:21.330Z"
   },
   {
    "duration": 24,
    "start_time": "2023-05-19T13:06:21.338Z"
   },
   {
    "duration": 35,
    "start_time": "2023-05-19T13:06:21.363Z"
   },
   {
    "duration": 23,
    "start_time": "2023-05-19T13:06:21.400Z"
   },
   {
    "duration": 28,
    "start_time": "2023-05-19T13:06:21.425Z"
   },
   {
    "duration": 31,
    "start_time": "2023-05-19T13:06:21.454Z"
   },
   {
    "duration": 46,
    "start_time": "2023-05-19T13:06:21.487Z"
   },
   {
    "duration": 67,
    "start_time": "2023-05-19T13:06:21.534Z"
   },
   {
    "duration": 22,
    "start_time": "2023-05-19T13:06:21.602Z"
   },
   {
    "duration": 24,
    "start_time": "2023-05-19T13:06:21.626Z"
   },
   {
    "duration": 18,
    "start_time": "2023-05-19T13:06:21.652Z"
   },
   {
    "duration": 165,
    "start_time": "2023-05-19T13:06:21.672Z"
   },
   {
    "duration": 71,
    "start_time": "2023-05-19T13:06:21.838Z"
   },
   {
    "duration": 33,
    "start_time": "2023-05-19T13:06:21.910Z"
   },
   {
    "duration": 2,
    "start_time": "2023-05-19T13:06:21.944Z"
   },
   {
    "duration": 14,
    "start_time": "2023-05-19T13:06:21.948Z"
   },
   {
    "duration": 22,
    "start_time": "2023-05-19T13:06:21.964Z"
   },
   {
    "duration": 244,
    "start_time": "2023-05-19T13:06:21.988Z"
   },
   {
    "duration": 242,
    "start_time": "2023-05-19T13:06:22.234Z"
   },
   {
    "duration": 262,
    "start_time": "2023-05-19T13:06:22.478Z"
   },
   {
    "duration": 255,
    "start_time": "2023-05-19T13:06:22.741Z"
   },
   {
    "duration": 9,
    "start_time": "2023-05-19T13:06:44.273Z"
   },
   {
    "duration": 11,
    "start_time": "2023-05-19T13:07:38.193Z"
   }
  ],
  "kernelspec": {
   "display_name": "Python 3 (ipykernel)",
   "language": "python",
   "name": "python3"
  },
  "language_info": {
   "codemirror_mode": {
    "name": "ipython",
    "version": 3
   },
   "file_extension": ".py",
   "mimetype": "text/x-python",
   "name": "python",
   "nbconvert_exporter": "python",
   "pygments_lexer": "ipython3",
   "version": "3.9.5"
  },
  "toc": {
   "base_numbering": 1,
   "nav_menu": {},
   "number_sections": true,
   "sideBar": true,
   "skip_h1_title": true,
   "title_cell": "Table of Contents",
   "title_sidebar": "Contents",
   "toc_cell": false,
   "toc_position": {
    "height": "calc(100% - 180px)",
    "left": "10px",
    "top": "150px",
    "width": "165px"
   },
   "toc_section_display": true,
   "toc_window_display": true
  }
 },
 "nbformat": 4,
 "nbformat_minor": 2
}
